{
  "nbformat": 4,
  "nbformat_minor": 0,
  "metadata": {
    "colab": {
      "provenance": [],
      "authorship_tag": "ABX9TyP7B46LmZ+ajDjtEklmKiWy",
      "include_colab_link": true
    },
    "kernelspec": {
      "name": "python3",
      "display_name": "Python 3"
    },
    "language_info": {
      "name": "python"
    }
  },
  "cells": [
    {
      "cell_type": "markdown",
      "metadata": {
        "id": "view-in-github",
        "colab_type": "text"
      },
      "source": [
        "<a href=\"https://colab.research.google.com/github/PRABHAKM19/toxic-comment-classifier-in-dl/blob/main/Untitled1.ipynb\" target=\"_parent\"><img src=\"https://colab.research.google.com/assets/colab-badge.svg\" alt=\"Open In Colab\"/></a>"
      ]
    },
    {
      "cell_type": "markdown",
      "source": [
        "1. IMPORTING LIBS AND **PACKAGES**"
      ],
      "metadata": {
        "id": "zuiHdp9h2oMw"
      }
    },
    {
      "cell_type": "code",
      "execution_count": 1,
      "metadata": {
        "id": "kDevyJH10KQo"
      },
      "outputs": [],
      "source": [
        "import os\n",
        "import numpy as np\n",
        "import pandas as pd\n",
        "import tensorflow as tf"
      ]
    },
    {
      "cell_type": "code",
      "source": [
        "np.expand_dims??"
      ],
      "metadata": {
        "id": "A2gJfaNC2K5c"
      },
      "execution_count": 2,
      "outputs": []
    },
    {
      "cell_type": "code",
      "source": [
        "os.path.join('/content/train.csv')"
      ],
      "metadata": {
        "colab": {
          "base_uri": "https://localhost:8080/",
          "height": 35
        },
        "id": "pm8a1y_N3gyV",
        "outputId": "fb0275b4-0d77-4015-baa5-228a77ac9b7f"
      },
      "execution_count": 3,
      "outputs": [
        {
          "output_type": "execute_result",
          "data": {
            "text/plain": [
              "'/content/train.csv'"
            ],
            "application/vnd.google.colaboratory.intrinsic+json": {
              "type": "string"
            }
          },
          "metadata": {},
          "execution_count": 3
        }
      ]
    },
    {
      "cell_type": "code",
      "source": [
        "data= pd.read_csv('train.csv', engine='python', encoding='utf8', error_bad_lines=False)"
      ],
      "metadata": {
        "id": "6aoRbRdV5V-U",
        "colab": {
          "base_uri": "https://localhost:8080/"
        },
        "outputId": "b05255cf-a33a-49a7-8777-e23a251d03f2"
      },
      "execution_count": 4,
      "outputs": [
        {
          "output_type": "stream",
          "name": "stderr",
          "text": [
            "<ipython-input-4-57c33a7e823a>:1: FutureWarning: The error_bad_lines argument has been deprecated and will be removed in a future version. Use on_bad_lines in the future.\n",
            "\n",
            "\n",
            "  data= pd.read_csv('train.csv', engine='python', encoding='utf8', error_bad_lines=False)\n",
            "Skipping line 33991: unexpected end of data\n"
          ]
        }
      ]
    },
    {
      "cell_type": "code",
      "source": [
        "data.iloc[555]['comment_text']"
      ],
      "metadata": {
        "colab": {
          "base_uri": "https://localhost:8080/",
          "height": 53
        },
        "id": "DCoQq91M6ctZ",
        "outputId": "9d9ee873-18f4-4adf-ce9b-d4cbd9a5bd5e"
      },
      "execution_count": 5,
      "outputs": [
        {
          "output_type": "execute_result",
          "data": {
            "text/plain": [
              "'\"\\n\\n Image \\n\\n Image deletion warning Image:Metroid Prime Hunter title screen, top display.jpg has been listed at Wikipedia:Images and media for deletion. If you feel that this image should not be deleted, please go there to voice your opinion.\\n 16:31, August 31, 2005 (UTC)\"'"
            ],
            "application/vnd.google.colaboratory.intrinsic+json": {
              "type": "string"
            }
          },
          "metadata": {},
          "execution_count": 5
        }
      ]
    },
    {
      "cell_type": "markdown",
      "source": [
        "2. PREPROCESSING\n"
      ],
      "metadata": {
        "id": "XJW66VFI7Jqc"
      }
    },
    {
      "cell_type": "code",
      "source": [
        "from tensorflow.keras.layers import TextVectorization"
      ],
      "metadata": {
        "id": "B1mcQ_ZK7Ofq"
      },
      "execution_count": 6,
      "outputs": []
    },
    {
      "cell_type": "code",
      "source": [
        "X=data['comment_text']\n",
        "Y=data[data.columns[2:]].values"
      ],
      "metadata": {
        "id": "vf8thBES7brr"
      },
      "execution_count": 7,
      "outputs": []
    },
    {
      "cell_type": "code",
      "source": [
        "data.columns[2:]"
      ],
      "metadata": {
        "colab": {
          "base_uri": "https://localhost:8080/"
        },
        "id": "bucCYN7o73RR",
        "outputId": "018297b0-c5f5-46d6-8552-0193d8717fdc"
      },
      "execution_count": 8,
      "outputs": [
        {
          "output_type": "execute_result",
          "data": {
            "text/plain": [
              "Index(['toxic', 'severe_toxic', 'obscene', 'threat', 'insult',\n",
              "       'identity_hate'],\n",
              "      dtype='object')"
            ]
          },
          "metadata": {},
          "execution_count": 8
        }
      ]
    },
    {
      "cell_type": "code",
      "source": [
        "data[data.columns[2:].values]"
      ],
      "metadata": {
        "colab": {
          "base_uri": "https://localhost:8080/",
          "height": 424
        },
        "id": "xYzfnp7g8YaG",
        "outputId": "3ff1fabb-b3aa-41cb-91e3-b0a25f0e1253"
      },
      "execution_count": 9,
      "outputs": [
        {
          "output_type": "execute_result",
          "data": {
            "text/plain": [
              "       toxic  severe_toxic  obscene  threat  insult  identity_hate\n",
              "0          0             0        0       0       0              0\n",
              "1          0             0        0       0       0              0\n",
              "2          0             0        0       0       0              0\n",
              "3          0             0        0       0       0              0\n",
              "4          0             0        0       0       0              0\n",
              "...      ...           ...      ...     ...     ...            ...\n",
              "33984      0             0        0       0       0              0\n",
              "33985      0             0        0       0       0              0\n",
              "33986      0             0        0       0       0              0\n",
              "33987      0             0        0       0       0              0\n",
              "33988      1             0        0       0       0              0\n",
              "\n",
              "[33989 rows x 6 columns]"
            ],
            "text/html": [
              "\n",
              "  <div id=\"df-58e1882b-6ef5-440c-957e-7d03866db71a\" class=\"colab-df-container\">\n",
              "    <div>\n",
              "<style scoped>\n",
              "    .dataframe tbody tr th:only-of-type {\n",
              "        vertical-align: middle;\n",
              "    }\n",
              "\n",
              "    .dataframe tbody tr th {\n",
              "        vertical-align: top;\n",
              "    }\n",
              "\n",
              "    .dataframe thead th {\n",
              "        text-align: right;\n",
              "    }\n",
              "</style>\n",
              "<table border=\"1\" class=\"dataframe\">\n",
              "  <thead>\n",
              "    <tr style=\"text-align: right;\">\n",
              "      <th></th>\n",
              "      <th>toxic</th>\n",
              "      <th>severe_toxic</th>\n",
              "      <th>obscene</th>\n",
              "      <th>threat</th>\n",
              "      <th>insult</th>\n",
              "      <th>identity_hate</th>\n",
              "    </tr>\n",
              "  </thead>\n",
              "  <tbody>\n",
              "    <tr>\n",
              "      <th>0</th>\n",
              "      <td>0</td>\n",
              "      <td>0</td>\n",
              "      <td>0</td>\n",
              "      <td>0</td>\n",
              "      <td>0</td>\n",
              "      <td>0</td>\n",
              "    </tr>\n",
              "    <tr>\n",
              "      <th>1</th>\n",
              "      <td>0</td>\n",
              "      <td>0</td>\n",
              "      <td>0</td>\n",
              "      <td>0</td>\n",
              "      <td>0</td>\n",
              "      <td>0</td>\n",
              "    </tr>\n",
              "    <tr>\n",
              "      <th>2</th>\n",
              "      <td>0</td>\n",
              "      <td>0</td>\n",
              "      <td>0</td>\n",
              "      <td>0</td>\n",
              "      <td>0</td>\n",
              "      <td>0</td>\n",
              "    </tr>\n",
              "    <tr>\n",
              "      <th>3</th>\n",
              "      <td>0</td>\n",
              "      <td>0</td>\n",
              "      <td>0</td>\n",
              "      <td>0</td>\n",
              "      <td>0</td>\n",
              "      <td>0</td>\n",
              "    </tr>\n",
              "    <tr>\n",
              "      <th>4</th>\n",
              "      <td>0</td>\n",
              "      <td>0</td>\n",
              "      <td>0</td>\n",
              "      <td>0</td>\n",
              "      <td>0</td>\n",
              "      <td>0</td>\n",
              "    </tr>\n",
              "    <tr>\n",
              "      <th>...</th>\n",
              "      <td>...</td>\n",
              "      <td>...</td>\n",
              "      <td>...</td>\n",
              "      <td>...</td>\n",
              "      <td>...</td>\n",
              "      <td>...</td>\n",
              "    </tr>\n",
              "    <tr>\n",
              "      <th>33984</th>\n",
              "      <td>0</td>\n",
              "      <td>0</td>\n",
              "      <td>0</td>\n",
              "      <td>0</td>\n",
              "      <td>0</td>\n",
              "      <td>0</td>\n",
              "    </tr>\n",
              "    <tr>\n",
              "      <th>33985</th>\n",
              "      <td>0</td>\n",
              "      <td>0</td>\n",
              "      <td>0</td>\n",
              "      <td>0</td>\n",
              "      <td>0</td>\n",
              "      <td>0</td>\n",
              "    </tr>\n",
              "    <tr>\n",
              "      <th>33986</th>\n",
              "      <td>0</td>\n",
              "      <td>0</td>\n",
              "      <td>0</td>\n",
              "      <td>0</td>\n",
              "      <td>0</td>\n",
              "      <td>0</td>\n",
              "    </tr>\n",
              "    <tr>\n",
              "      <th>33987</th>\n",
              "      <td>0</td>\n",
              "      <td>0</td>\n",
              "      <td>0</td>\n",
              "      <td>0</td>\n",
              "      <td>0</td>\n",
              "      <td>0</td>\n",
              "    </tr>\n",
              "    <tr>\n",
              "      <th>33988</th>\n",
              "      <td>1</td>\n",
              "      <td>0</td>\n",
              "      <td>0</td>\n",
              "      <td>0</td>\n",
              "      <td>0</td>\n",
              "      <td>0</td>\n",
              "    </tr>\n",
              "  </tbody>\n",
              "</table>\n",
              "<p>33989 rows × 6 columns</p>\n",
              "</div>\n",
              "    <div class=\"colab-df-buttons\">\n",
              "\n",
              "  <div class=\"colab-df-container\">\n",
              "    <button class=\"colab-df-convert\" onclick=\"convertToInteractive('df-58e1882b-6ef5-440c-957e-7d03866db71a')\"\n",
              "            title=\"Convert this dataframe to an interactive table.\"\n",
              "            style=\"display:none;\">\n",
              "\n",
              "  <svg xmlns=\"http://www.w3.org/2000/svg\" height=\"24px\" viewBox=\"0 -960 960 960\">\n",
              "    <path d=\"M120-120v-720h720v720H120Zm60-500h600v-160H180v160Zm220 220h160v-160H400v160Zm0 220h160v-160H400v160ZM180-400h160v-160H180v160Zm440 0h160v-160H620v160ZM180-180h160v-160H180v160Zm440 0h160v-160H620v160Z\"/>\n",
              "  </svg>\n",
              "    </button>\n",
              "\n",
              "  <style>\n",
              "    .colab-df-container {\n",
              "      display:flex;\n",
              "      gap: 12px;\n",
              "    }\n",
              "\n",
              "    .colab-df-convert {\n",
              "      background-color: #E8F0FE;\n",
              "      border: none;\n",
              "      border-radius: 50%;\n",
              "      cursor: pointer;\n",
              "      display: none;\n",
              "      fill: #1967D2;\n",
              "      height: 32px;\n",
              "      padding: 0 0 0 0;\n",
              "      width: 32px;\n",
              "    }\n",
              "\n",
              "    .colab-df-convert:hover {\n",
              "      background-color: #E2EBFA;\n",
              "      box-shadow: 0px 1px 2px rgba(60, 64, 67, 0.3), 0px 1px 3px 1px rgba(60, 64, 67, 0.15);\n",
              "      fill: #174EA6;\n",
              "    }\n",
              "\n",
              "    .colab-df-buttons div {\n",
              "      margin-bottom: 4px;\n",
              "    }\n",
              "\n",
              "    [theme=dark] .colab-df-convert {\n",
              "      background-color: #3B4455;\n",
              "      fill: #D2E3FC;\n",
              "    }\n",
              "\n",
              "    [theme=dark] .colab-df-convert:hover {\n",
              "      background-color: #434B5C;\n",
              "      box-shadow: 0px 1px 3px 1px rgba(0, 0, 0, 0.15);\n",
              "      filter: drop-shadow(0px 1px 2px rgba(0, 0, 0, 0.3));\n",
              "      fill: #FFFFFF;\n",
              "    }\n",
              "  </style>\n",
              "\n",
              "    <script>\n",
              "      const buttonEl =\n",
              "        document.querySelector('#df-58e1882b-6ef5-440c-957e-7d03866db71a button.colab-df-convert');\n",
              "      buttonEl.style.display =\n",
              "        google.colab.kernel.accessAllowed ? 'block' : 'none';\n",
              "\n",
              "      async function convertToInteractive(key) {\n",
              "        const element = document.querySelector('#df-58e1882b-6ef5-440c-957e-7d03866db71a');\n",
              "        const dataTable =\n",
              "          await google.colab.kernel.invokeFunction('convertToInteractive',\n",
              "                                                    [key], {});\n",
              "        if (!dataTable) return;\n",
              "\n",
              "        const docLinkHtml = 'Like what you see? Visit the ' +\n",
              "          '<a target=\"_blank\" href=https://colab.research.google.com/notebooks/data_table.ipynb>data table notebook</a>'\n",
              "          + ' to learn more about interactive tables.';\n",
              "        element.innerHTML = '';\n",
              "        dataTable['output_type'] = 'display_data';\n",
              "        await google.colab.output.renderOutput(dataTable, element);\n",
              "        const docLink = document.createElement('div');\n",
              "        docLink.innerHTML = docLinkHtml;\n",
              "        element.appendChild(docLink);\n",
              "      }\n",
              "    </script>\n",
              "  </div>\n",
              "\n",
              "\n",
              "<div id=\"df-661e40d3-808a-442b-a0fc-6e31add20bd5\">\n",
              "  <button class=\"colab-df-quickchart\" onclick=\"quickchart('df-661e40d3-808a-442b-a0fc-6e31add20bd5')\"\n",
              "            title=\"Suggest charts\"\n",
              "            style=\"display:none;\">\n",
              "\n",
              "<svg xmlns=\"http://www.w3.org/2000/svg\" height=\"24px\"viewBox=\"0 0 24 24\"\n",
              "     width=\"24px\">\n",
              "    <g>\n",
              "        <path d=\"M19 3H5c-1.1 0-2 .9-2 2v14c0 1.1.9 2 2 2h14c1.1 0 2-.9 2-2V5c0-1.1-.9-2-2-2zM9 17H7v-7h2v7zm4 0h-2V7h2v10zm4 0h-2v-4h2v4z\"/>\n",
              "    </g>\n",
              "</svg>\n",
              "  </button>\n",
              "\n",
              "<style>\n",
              "  .colab-df-quickchart {\n",
              "      --bg-color: #E8F0FE;\n",
              "      --fill-color: #1967D2;\n",
              "      --hover-bg-color: #E2EBFA;\n",
              "      --hover-fill-color: #174EA6;\n",
              "      --disabled-fill-color: #AAA;\n",
              "      --disabled-bg-color: #DDD;\n",
              "  }\n",
              "\n",
              "  [theme=dark] .colab-df-quickchart {\n",
              "      --bg-color: #3B4455;\n",
              "      --fill-color: #D2E3FC;\n",
              "      --hover-bg-color: #434B5C;\n",
              "      --hover-fill-color: #FFFFFF;\n",
              "      --disabled-bg-color: #3B4455;\n",
              "      --disabled-fill-color: #666;\n",
              "  }\n",
              "\n",
              "  .colab-df-quickchart {\n",
              "    background-color: var(--bg-color);\n",
              "    border: none;\n",
              "    border-radius: 50%;\n",
              "    cursor: pointer;\n",
              "    display: none;\n",
              "    fill: var(--fill-color);\n",
              "    height: 32px;\n",
              "    padding: 0;\n",
              "    width: 32px;\n",
              "  }\n",
              "\n",
              "  .colab-df-quickchart:hover {\n",
              "    background-color: var(--hover-bg-color);\n",
              "    box-shadow: 0 1px 2px rgba(60, 64, 67, 0.3), 0 1px 3px 1px rgba(60, 64, 67, 0.15);\n",
              "    fill: var(--button-hover-fill-color);\n",
              "  }\n",
              "\n",
              "  .colab-df-quickchart-complete:disabled,\n",
              "  .colab-df-quickchart-complete:disabled:hover {\n",
              "    background-color: var(--disabled-bg-color);\n",
              "    fill: var(--disabled-fill-color);\n",
              "    box-shadow: none;\n",
              "  }\n",
              "\n",
              "  .colab-df-spinner {\n",
              "    border: 2px solid var(--fill-color);\n",
              "    border-color: transparent;\n",
              "    border-bottom-color: var(--fill-color);\n",
              "    animation:\n",
              "      spin 1s steps(1) infinite;\n",
              "  }\n",
              "\n",
              "  @keyframes spin {\n",
              "    0% {\n",
              "      border-color: transparent;\n",
              "      border-bottom-color: var(--fill-color);\n",
              "      border-left-color: var(--fill-color);\n",
              "    }\n",
              "    20% {\n",
              "      border-color: transparent;\n",
              "      border-left-color: var(--fill-color);\n",
              "      border-top-color: var(--fill-color);\n",
              "    }\n",
              "    30% {\n",
              "      border-color: transparent;\n",
              "      border-left-color: var(--fill-color);\n",
              "      border-top-color: var(--fill-color);\n",
              "      border-right-color: var(--fill-color);\n",
              "    }\n",
              "    40% {\n",
              "      border-color: transparent;\n",
              "      border-right-color: var(--fill-color);\n",
              "      border-top-color: var(--fill-color);\n",
              "    }\n",
              "    60% {\n",
              "      border-color: transparent;\n",
              "      border-right-color: var(--fill-color);\n",
              "    }\n",
              "    80% {\n",
              "      border-color: transparent;\n",
              "      border-right-color: var(--fill-color);\n",
              "      border-bottom-color: var(--fill-color);\n",
              "    }\n",
              "    90% {\n",
              "      border-color: transparent;\n",
              "      border-bottom-color: var(--fill-color);\n",
              "    }\n",
              "  }\n",
              "</style>\n",
              "\n",
              "  <script>\n",
              "    async function quickchart(key) {\n",
              "      const quickchartButtonEl =\n",
              "        document.querySelector('#' + key + ' button');\n",
              "      quickchartButtonEl.disabled = true;  // To prevent multiple clicks.\n",
              "      quickchartButtonEl.classList.add('colab-df-spinner');\n",
              "      try {\n",
              "        const charts = await google.colab.kernel.invokeFunction(\n",
              "            'suggestCharts', [key], {});\n",
              "      } catch (error) {\n",
              "        console.error('Error during call to suggestCharts:', error);\n",
              "      }\n",
              "      quickchartButtonEl.classList.remove('colab-df-spinner');\n",
              "      quickchartButtonEl.classList.add('colab-df-quickchart-complete');\n",
              "    }\n",
              "    (() => {\n",
              "      let quickchartButtonEl =\n",
              "        document.querySelector('#df-661e40d3-808a-442b-a0fc-6e31add20bd5 button');\n",
              "      quickchartButtonEl.style.display =\n",
              "        google.colab.kernel.accessAllowed ? 'block' : 'none';\n",
              "    })();\n",
              "  </script>\n",
              "</div>\n",
              "\n",
              "    </div>\n",
              "  </div>\n"
            ]
          },
          "metadata": {},
          "execution_count": 9
        }
      ]
    },
    {
      "cell_type": "code",
      "source": [
        "MAX_FEATURES=200000"
      ],
      "metadata": {
        "id": "MFwaGSdb8uCh"
      },
      "execution_count": 10,
      "outputs": []
    },
    {
      "cell_type": "code",
      "source": [
        "vectorizer=TextVectorization(max_tokens = MAX_FEATURES,\n",
        "                             output_sequence_length=1800,\n",
        "                             output_mode='int')"
      ],
      "metadata": {
        "id": "cmvEmbh781pW"
      },
      "execution_count": 11,
      "outputs": []
    },
    {
      "cell_type": "code",
      "source": [
        "vectorizer.adapt(X.values)"
      ],
      "metadata": {
        "id": "Ox3QXld09npn"
      },
      "execution_count": 13,
      "outputs": []
    },
    {
      "cell_type": "code",
      "source": [
        "vectorizer.get_vocabulary()"
      ],
      "metadata": {
        "colab": {
          "base_uri": "https://localhost:8080/"
        },
        "id": "f_xNxul1-jlP",
        "outputId": "3755cb02-3c5e-457a-da42-3063ae27d855"
      },
      "execution_count": 14,
      "outputs": [
        {
          "output_type": "execute_result",
          "data": {
            "text/plain": [
              "['',\n",
              " '[UNK]',\n",
              " 'the',\n",
              " 'to',\n",
              " 'of',\n",
              " 'and',\n",
              " 'a',\n",
              " 'you',\n",
              " 'i',\n",
              " 'is',\n",
              " 'that',\n",
              " 'in',\n",
              " 'it',\n",
              " 'for',\n",
              " 'this',\n",
              " 'not',\n",
              " 'on',\n",
              " 'be',\n",
              " 'as',\n",
              " 'are',\n",
              " 'have',\n",
              " 'your',\n",
              " 'with',\n",
              " 'if',\n",
              " 'was',\n",
              " 'article',\n",
              " 'or',\n",
              " 'but',\n",
              " 'page',\n",
              " 'my',\n",
              " 'an',\n",
              " 'from',\n",
              " 'by',\n",
              " 'do',\n",
              " 'at',\n",
              " 'about',\n",
              " 'me',\n",
              " 'so',\n",
              " 'wikipedia',\n",
              " 'can',\n",
              " 'what',\n",
              " 'there',\n",
              " 'has',\n",
              " 'all',\n",
              " 'will',\n",
              " 'no',\n",
              " 'talk',\n",
              " 'its',\n",
              " 'please',\n",
              " 'would',\n",
              " 'one',\n",
              " 'like',\n",
              " 'just',\n",
              " 'they',\n",
              " 'he',\n",
              " 'dont',\n",
              " 'any',\n",
              " 'which',\n",
              " 'been',\n",
              " 'more',\n",
              " 'should',\n",
              " 'we',\n",
              " 'other',\n",
              " 'some',\n",
              " 'see',\n",
              " 'here',\n",
              " 'who',\n",
              " 'his',\n",
              " 'also',\n",
              " 'im',\n",
              " 'think',\n",
              " 'because',\n",
              " 'know',\n",
              " 'how',\n",
              " 'am',\n",
              " 'edit',\n",
              " 'why',\n",
              " 'articles',\n",
              " 'only',\n",
              " 'up',\n",
              " 'out',\n",
              " 'people',\n",
              " 'were',\n",
              " 'when',\n",
              " 'use',\n",
              " 'then',\n",
              " 'time',\n",
              " 'may',\n",
              " 'now',\n",
              " 'their',\n",
              " 'did',\n",
              " 'being',\n",
              " 'them',\n",
              " 'thanks',\n",
              " 'than',\n",
              " 'get',\n",
              " 'even',\n",
              " 'make',\n",
              " 'good',\n",
              " 'information',\n",
              " 'had',\n",
              " 'very',\n",
              " 'does',\n",
              " 'could',\n",
              " 'want',\n",
              " 'well',\n",
              " 'sources',\n",
              " 'such',\n",
              " 'way',\n",
              " 'first',\n",
              " 'deletion',\n",
              " 'pages',\n",
              " 'go',\n",
              " 'name',\n",
              " 'these',\n",
              " 'new',\n",
              " 'source',\n",
              " 'section',\n",
              " 'help',\n",
              " 'say',\n",
              " 'editing',\n",
              " 'many',\n",
              " 'thank',\n",
              " 'where',\n",
              " 'again',\n",
              " 'need',\n",
              " 'edits',\n",
              " 'made',\n",
              " 'much',\n",
              " 'used',\n",
              " 'user',\n",
              " 'fuck',\n",
              " 'ive',\n",
              " 'most',\n",
              " 'really',\n",
              " 'same',\n",
              " 'discussion',\n",
              " 'find',\n",
              " 'into',\n",
              " 'after',\n",
              " 'those',\n",
              " 'since',\n",
              " 'deleted',\n",
              " 'before',\n",
              " 'look',\n",
              " 'work',\n",
              " 'right',\n",
              " 'read',\n",
              " 'still',\n",
              " 'going',\n",
              " 'take',\n",
              " 'point',\n",
              " 'add',\n",
              " 'own',\n",
              " 'him',\n",
              " 'fact',\n",
              " 'too',\n",
              " 'two',\n",
              " 'back',\n",
              " 'image',\n",
              " 'someone',\n",
              " 'over',\n",
              " 'said',\n",
              " 'hi',\n",
              " 'something',\n",
              " 'u',\n",
              " 'stop',\n",
              " 'content',\n",
              " 'youre',\n",
              " 'link',\n",
              " 'blocked',\n",
              " 'yourself',\n",
              " 'without',\n",
              " 'added',\n",
              " 'our',\n",
              " 'under',\n",
              " 'history',\n",
              " 'utc',\n",
              " 'her',\n",
              " 'thats',\n",
              " 'editors',\n",
              " 'note',\n",
              " 'removed',\n",
              " 'list',\n",
              " 'reason',\n",
              " 'might',\n",
              " 'case',\n",
              " 'place',\n",
              " 'never',\n",
              " 'another',\n",
              " 'put',\n",
              " 'us',\n",
              " 'using',\n",
              " 'doesnt',\n",
              " 'sure',\n",
              " 'however',\n",
              " 'ask',\n",
              " 'done',\n",
              " 'person',\n",
              " 'personal',\n",
              " 'feel',\n",
              " 'question',\n",
              " 'seems',\n",
              " 'vandalism',\n",
              " 'better',\n",
              " 'welcome',\n",
              " 'block',\n",
              " 'comment',\n",
              " 'pig',\n",
              " 'believe',\n",
              " 'anything',\n",
              " 'while',\n",
              " 'both',\n",
              " 'actually',\n",
              " 'cant',\n",
              " 'ill',\n",
              " 'things',\n",
              " 'she',\n",
              " 'hope',\n",
              " 'part',\n",
              " 'didnt',\n",
              " 'comments',\n",
              " 'must',\n",
              " 'links',\n",
              " 'policy',\n",
              " 'off',\n",
              " 'wiki',\n",
              " 'thing',\n",
              " 'free',\n",
              " 'change',\n",
              " 'nothing',\n",
              " 'problem',\n",
              " 'against',\n",
              " 'already',\n",
              " 'little',\n",
              " 'keep',\n",
              " 'though',\n",
              " 'others',\n",
              " 'remove',\n",
              " 'anyone',\n",
              " 'nigger',\n",
              " 'give',\n",
              " 'subject',\n",
              " 'wrong',\n",
              " 'copyright',\n",
              " 'fish',\n",
              " 'agree',\n",
              " 'trying',\n",
              " 'years',\n",
              " 'understand',\n",
              " 'tag',\n",
              " 'best',\n",
              " 'last',\n",
              " 'rather',\n",
              " 'above',\n",
              " 'text',\n",
              " 'come',\n",
              " 'different',\n",
              " 'world',\n",
              " 'issue',\n",
              " 'doing',\n",
              " 'sorry',\n",
              " 'few',\n",
              " '2',\n",
              " 'english',\n",
              " 'speedy',\n",
              " 'let',\n",
              " 'editor',\n",
              " 'reliable',\n",
              " 'references',\n",
              " 'making',\n",
              " 'isnt',\n",
              " 'questions',\n",
              " 'life',\n",
              " 'leave',\n",
              " 'ass',\n",
              " 'try',\n",
              " 'reference',\n",
              " 'mean',\n",
              " 'great',\n",
              " 'every',\n",
              " 'probably',\n",
              " 'long',\n",
              " '1',\n",
              " 'word',\n",
              " 'etc',\n",
              " 'got',\n",
              " 'users',\n",
              " 'original',\n",
              " 'either',\n",
              " 'opinion',\n",
              " 'far',\n",
              " 'continue',\n",
              " 'found',\n",
              " 'state',\n",
              " 'sex',\n",
              " 'says',\n",
              " 'cunt',\n",
              " 'encyclopedia',\n",
              " 'balls',\n",
              " 'example',\n",
              " 'day',\n",
              " 'around',\n",
              " 'hello',\n",
              " 'simply',\n",
              " 'hate',\n",
              " 'adding',\n",
              " 'ip',\n",
              " 'through',\n",
              " 'least',\n",
              " 'show',\n",
              " 'delete',\n",
              " 'consensus',\n",
              " 'reverted',\n",
              " 'between',\n",
              " 'fair',\n",
              " 'check',\n",
              " 'having',\n",
              " 'created',\n",
              " 'else',\n",
              " '•',\n",
              " 'yes',\n",
              " 'yet',\n",
              " 'book',\n",
              " 'material',\n",
              " 'write',\n",
              " 'message',\n",
              " 'thought',\n",
              " 'site',\n",
              " 'enough',\n",
              " 'view',\n",
              " 'down',\n",
              " 'post',\n",
              " 'called',\n",
              " 'war',\n",
              " 'request',\n",
              " 'contributions',\n",
              " 'clearly',\n",
              " 'support',\n",
              " 'matter',\n",
              " 'language',\n",
              " 'evidence',\n",
              " 'important',\n",
              " 'fucking',\n",
              " 'id',\n",
              " 'given',\n",
              " '3',\n",
              " 'perhaps',\n",
              " 'needs',\n",
              " 'quite',\n",
              " 'maybe',\n",
              " 'account',\n",
              " 'states',\n",
              " 'real',\n",
              " 'further',\n",
              " 'instead',\n",
              " 'images',\n",
              " 'clear',\n",
              " 'ever',\n",
              " 'notable',\n",
              " 'saying',\n",
              " 'once',\n",
              " 'until',\n",
              " 'always',\n",
              " '—',\n",
              " 'tell',\n",
              " 'admin',\n",
              " 'website',\n",
              " 'times',\n",
              " 'bit',\n",
              " 'correct',\n",
              " 'seem',\n",
              " 'consider',\n",
              " 'lot',\n",
              " 'criteria',\n",
              " 'true',\n",
              " 'claim',\n",
              " 'version',\n",
              " 'written',\n",
              " 'fat',\n",
              " 'number',\n",
              " 'considered',\n",
              " 'term',\n",
              " 'guidelines',\n",
              " 'notice',\n",
              " 'pov',\n",
              " 'whether',\n",
              " 'several',\n",
              " 'bad',\n",
              " 'title',\n",
              " 'mention',\n",
              " 'based',\n",
              " 'jew',\n",
              " 'getting',\n",
              " 'changes',\n",
              " 'cannot',\n",
              " 'theres',\n",
              " 'review',\n",
              " 'revert',\n",
              " 'research',\n",
              " 'media',\n",
              " 'words',\n",
              " 'regarding',\n",
              " 'makes',\n",
              " 'idea',\n",
              " 'main',\n",
              " 'means',\n",
              " 'listed',\n",
              " 'three',\n",
              " 'year',\n",
              " 'each',\n",
              " 'statement',\n",
              " 'old',\n",
              " 'address',\n",
              " 'following',\n",
              " 'second',\n",
              " 'include',\n",
              " 'top',\n",
              " 'left',\n",
              " 'group',\n",
              " 'general',\n",
              " 'rules',\n",
              " 'current',\n",
              " 'love',\n",
              " 'facts',\n",
              " 'mentioned',\n",
              " 'course',\n",
              " 'possible',\n",
              " 'call',\n",
              " 'seen',\n",
              " 'wikipedias',\n",
              " 'end',\n",
              " 'issues',\n",
              " 'whole',\n",
              " 'man',\n",
              " 'suggest',\n",
              " 'date',\n",
              " 'ok',\n",
              " 'less',\n",
              " 'kind',\n",
              " 'including',\n",
              " 'move',\n",
              " 'myself',\n",
              " 'explain',\n",
              " 'template',\n",
              " 'start',\n",
              " 'topic',\n",
              " 'attack',\n",
              " 'started',\n",
              " 'god',\n",
              " 'anyway',\n",
              " 'info',\n",
              " 'care',\n",
              " 'sense',\n",
              " 'looking',\n",
              " 'days',\n",
              " 'american',\n",
              " 'shit',\n",
              " 'notability',\n",
              " 'happy',\n",
              " 'appropriate',\n",
              " 'recent',\n",
              " 'provide',\n",
              " 'create',\n",
              " 'changed',\n",
              " 'next',\n",
              " 'known',\n",
              " 'relevant',\n",
              " 'claims',\n",
              " 'answer',\n",
              " 'four',\n",
              " 'writing',\n",
              " 'wish',\n",
              " 'youve',\n",
              " 'mind',\n",
              " '4',\n",
              " 'although',\n",
              " '2005',\n",
              " 'removing',\n",
              " 'included',\n",
              " 'sign',\n",
              " 'project',\n",
              " 'later',\n",
              " 'redirect',\n",
              " 'interested',\n",
              " 'school',\n",
              " 'per',\n",
              " 'away',\n",
              " 'specific',\n",
              " 'picture',\n",
              " 'big',\n",
              " 'warning',\n",
              " 'position',\n",
              " 'summary',\n",
              " 'related',\n",
              " 'discuss',\n",
              " 'line',\n",
              " 'completely',\n",
              " 'hey',\n",
              " 'wanted',\n",
              " 'interest',\n",
              " 'sentence',\n",
              " 'order',\n",
              " 'neutral',\n",
              " 'names',\n",
              " 'appears',\n",
              " 'wont',\n",
              " 'taken',\n",
              " 'stuff',\n",
              " 'guys',\n",
              " 'full',\n",
              " 'able',\n",
              " 'policies',\n",
              " 'especially',\n",
              " 'currently',\n",
              " 'during',\n",
              " 'wasnt',\n",
              " 'wrote',\n",
              " 'oh',\n",
              " 'according',\n",
              " 'common',\n",
              " 'style',\n",
              " 'news',\n",
              " 'damn',\n",
              " 'community',\n",
              " 'certainly',\n",
              " 'unless',\n",
              " 'report',\n",
              " 'within',\n",
              " 'future',\n",
              " 'itself',\n",
              " 'web',\n",
              " 'looks',\n",
              " 'lead',\n",
              " 'knowledge',\n",
              " 'past',\n",
              " 'everything',\n",
              " 'official',\n",
              " 'party',\n",
              " 'moron',\n",
              " 'hard',\n",
              " 'stay',\n",
              " 'paragraph',\n",
              " 'country',\n",
              " 'attacks',\n",
              " 'talking',\n",
              " 'published',\n",
              " 'stupid',\n",
              " 'pretty',\n",
              " 'ago',\n",
              " 'learn',\n",
              " 'admins',\n",
              " '5',\n",
              " 'came',\n",
              " 'bastard',\n",
              " 'nice',\n",
              " 'sandbox',\n",
              " 'public',\n",
              " 'whatever',\n",
              " 'city',\n",
              " 'therefore',\n",
              " 'email',\n",
              " 'process',\n",
              " 'below',\n",
              " 'truth',\n",
              " 'havent',\n",
              " 'everyone',\n",
              " 'nor',\n",
              " 'working',\n",
              " 'obviously',\n",
              " 'single',\n",
              " 'reverting',\n",
              " 'placed',\n",
              " 'similar',\n",
              " 'involved',\n",
              " 'tried',\n",
              " 'political',\n",
              " 'faith',\n",
              " 'entry',\n",
              " 'system',\n",
              " 'books',\n",
              " 'asked',\n",
              " 'united',\n",
              " 'major',\n",
              " 'today',\n",
              " 'useful',\n",
              " 'reading',\n",
              " 'bot',\n",
              " 'response',\n",
              " 'due',\n",
              " 'regards',\n",
              " 'quote',\n",
              " 'certain',\n",
              " 'contribs',\n",
              " 'theory',\n",
              " 'government',\n",
              " 'edited',\n",
              " 'remember',\n",
              " 'argument',\n",
              " 'game',\n",
              " 'proposed',\n",
              " 'hes',\n",
              " 'taking',\n",
              " 'exactly',\n",
              " 'posted',\n",
              " 'become',\n",
              " '2006',\n",
              " 'provided',\n",
              " 'almost',\n",
              " 'dispute',\n",
              " 'high',\n",
              " 'guy',\n",
              " 'username',\n",
              " 'soon',\n",
              " 'noticed',\n",
              " 'false',\n",
              " 'appreciate',\n",
              " 'along',\n",
              " 'law',\n",
              " 'definition',\n",
              " 'company',\n",
              " 'wp',\n",
              " 'reply',\n",
              " 'reasons',\n",
              " '2007',\n",
              " 'needed',\n",
              " 'form',\n",
              " 'shall',\n",
              " 'indeed',\n",
              " 'wouldnt',\n",
              " 'deleting',\n",
              " 'ones',\n",
              " 'lets',\n",
              " 'interesting',\n",
              " 'guess',\n",
              " 'power',\n",
              " 'national',\n",
              " '2008',\n",
              " 'cheers',\n",
              " 'search',\n",
              " 'actual',\n",
              " 'cited',\n",
              " 'rule',\n",
              " 'generally',\n",
              " 'mr',\n",
              " 'likely',\n",
              " 'fine',\n",
              " 'problems',\n",
              " 'hours',\n",
              " 'entire',\n",
              " 'works',\n",
              " 'british',\n",
              " '2004',\n",
              " 'themselves',\n",
              " 'live',\n",
              " 'kill',\n",
              " 'film',\n",
              " 'week',\n",
              " 'otherwise',\n",
              " 'improve',\n",
              " 'contributing',\n",
              " 'banned',\n",
              " 'particular',\n",
              " '–',\n",
              " 'vandalize',\n",
              " 'took',\n",
              " 'present',\n",
              " 'thus',\n",
              " 'open',\n",
              " 'five',\n",
              " 'whats',\n",
              " 'short',\n",
              " 'citation',\n",
              " 'explanation',\n",
              " 'university',\n",
              " 'alone',\n",
              " 'went',\n",
              " 'side',\n",
              " 'often',\n",
              " 'arent',\n",
              " 'administrator',\n",
              " 'internet',\n",
              " 'wikipediahi',\n",
              " 'stated',\n",
              " 'sort',\n",
              " 'saw',\n",
              " 'nonsense',\n",
              " 'human',\n",
              " 'follow',\n",
              " 'conflict',\n",
              " 'bias',\n",
              " 'test',\n",
              " 'cite',\n",
              " 'contact',\n",
              " 'aware',\n",
              " 'various',\n",
              " 'himself',\n",
              " 'allowed',\n",
              " '10',\n",
              " 'uploaded',\n",
              " 'unblock',\n",
              " 'job',\n",
              " 'hell',\n",
              " 'terms',\n",
              " 'status',\n",
              " 'moved',\n",
              " 'ie',\n",
              " 'description',\n",
              " 'shows',\n",
              " 'music',\n",
              " 'set',\n",
              " 'rights',\n",
              " 'disagree',\n",
              " 'c',\n",
              " 'small',\n",
              " 'recently',\n",
              " 'appear',\n",
              " 'told',\n",
              " 'type',\n",
              " 'sourced',\n",
              " 'play',\n",
              " 'area',\n",
              " 'story',\n",
              " 'exist',\n",
              " 'comes',\n",
              " 'views',\n",
              " 're',\n",
              " 'members',\n",
              " 'decide',\n",
              " 'addition',\n",
              " 'points',\n",
              " 'niggas',\n",
              " 'external',\n",
              " 'proper',\n",
              " 'google',\n",
              " 'bitchesfuck',\n",
              " 'simple',\n",
              " 'sexsex',\n",
              " 'science',\n",
              " 'reported',\n",
              " 'bollocks',\n",
              " 'band',\n",
              " 'automatically',\n",
              " 'obvious',\n",
              " 'german',\n",
              " 'die',\n",
              " 'death',\n",
              " 'context',\n",
              " 'white',\n",
              " 'helpful',\n",
              " 'accurate',\n",
              " 'dickhead',\n",
              " 'happened',\n",
              " 'hand',\n",
              " 'debate',\n",
              " 'upon',\n",
              " 'shouldnt',\n",
              " 'seriously',\n",
              " 'piece',\n",
              " 'longer',\n",
              " 'ban',\n",
              " 'goes',\n",
              " 'sites',\n",
              " 'calling',\n",
              " 'cool',\n",
              " 'black',\n",
              " 'tags',\n",
              " 'act',\n",
              " 'greek',\n",
              " 'violation',\n",
              " 'family',\n",
              " 'worked',\n",
              " 'category',\n",
              " 'avoid',\n",
              " 'actions',\n",
              " 'creating',\n",
              " 'together',\n",
              " 'criticism',\n",
              " 'attention',\n",
              " '6',\n",
              " 'previous',\n",
              " 'deal',\n",
              " 'available',\n",
              " 'result',\n",
              " 'series',\n",
              " 'citations',\n",
              " 'cause',\n",
              " 'accepted',\n",
              " 'statements',\n",
              " 'months',\n",
              " 'data',\n",
              " 'july',\n",
              " 'file',\n",
              " 'meaning',\n",
              " 'accept',\n",
              " 'yeah',\n",
              " 'useless',\n",
              " 'living',\n",
              " 'details',\n",
              " 'biased',\n",
              " 'valid',\n",
              " 'speak',\n",
              " 'npov',\n",
              " 'refer',\n",
              " 'period',\n",
              " 'messages',\n",
              " 'tildes',\n",
              " 'proof',\n",
              " 'multiple',\n",
              " 'serious',\n",
              " 'supposed',\n",
              " 'standard',\n",
              " 'situation',\n",
              " 'personally',\n",
              " 'enjoy',\n",
              " 'assume',\n",
              " 'third',\n",
              " 'wales',\n",
              " 'attempt',\n",
              " 'theyre',\n",
              " 'early',\n",
              " 'usually',\n",
              " 'necessary',\n",
              " 'fix',\n",
              " 'blocking',\n",
              " 'indicate',\n",
              " 'youll',\n",
              " 'large',\n",
              " 'historical',\n",
              " 'explaining',\n",
              " 'contribute',\n",
              " 'sections',\n",
              " 'meant',\n",
              " '2010',\n",
              " 'culture',\n",
              " 'wikiproject',\n",
              " 'tagged',\n",
              " 'manual',\n",
              " 'respect',\n",
              " 'wikipedian',\n",
              " 'uses',\n",
              " 'lack',\n",
              " 'south',\n",
              " 'john',\n",
              " 'action',\n",
              " 'india',\n",
              " 'directly',\n",
              " '24',\n",
              " 'doubt',\n",
              " 'copy',\n",
              " 'asking',\n",
              " 'modern',\n",
              " 'head',\n",
              " 'apparently',\n",
              " 'team',\n",
              " 'subjects',\n",
              " 'legal',\n",
              " 'complete',\n",
              " 'space',\n",
              " 'significant',\n",
              " 'level',\n",
              " 'opinions',\n",
              " 'gets',\n",
              " 'outside',\n",
              " 'rest',\n",
              " 'totally',\n",
              " 'none',\n",
              " 'inclusion',\n",
              " 'except',\n",
              " 'thinking',\n",
              " 'specifically',\n",
              " '2009',\n",
              " 'barnstar',\n",
              " 'online',\n",
              " 'purpose',\n",
              " 'close',\n",
              " 'changing',\n",
              " 'putting',\n",
              " 'posts',\n",
              " 'quality',\n",
              " 'august',\n",
              " 'jewish',\n",
              " 'children',\n",
              " 'primary',\n",
              " 'existing',\n",
              " 'afd',\n",
              " 'suck',\n",
              " 'international',\n",
              " 'heard',\n",
              " 'author',\n",
              " '7',\n",
              " 'entirely',\n",
              " 'earlier',\n",
              " 'disruptive',\n",
              " 'difference',\n",
              " 'absolutely',\n",
              " 'born',\n",
              " 'abuse',\n",
              " 'march',\n",
              " 'gay',\n",
              " 'fun',\n",
              " 'record',\n",
              " 'prove',\n",
              " 'countries',\n",
              " 'population',\n",
              " 'majority',\n",
              " 'figure',\n",
              " 'run',\n",
              " 'french',\n",
              " 'produce',\n",
              " 'gave',\n",
              " '20',\n",
              " 'takes',\n",
              " 'separate',\n",
              " 'release',\n",
              " 'photo',\n",
              " 'allow',\n",
              " 'administrators',\n",
              " 'incorrect',\n",
              " 'arguments',\n",
              " 'wait',\n",
              " 'uk',\n",
              " 'penissmall',\n",
              " 'member',\n",
              " 'b',\n",
              " 'table',\n",
              " 'sometimes',\n",
              " 'rationale',\n",
              " 'military',\n",
              " 'business',\n",
              " 'box',\n",
              " 'bob',\n",
              " 'unsigned',\n",
              " 'scientific',\n",
              " 'home',\n",
              " 'church',\n",
              " 'contest',\n",
              " 'behavior',\n",
              " 'vote',\n",
              " 'lol',\n",
              " 'homeland',\n",
              " 'cases',\n",
              " 'couple',\n",
              " 'study',\n",
              " 'particularly',\n",
              " 'eg',\n",
              " 'video',\n",
              " 'religion',\n",
              " 'june',\n",
              " 'friends',\n",
              " 'civil',\n",
              " 'bring',\n",
              " 'among',\n",
              " 'press',\n",
              " 'highly',\n",
              " 'proassadhanibal911youre',\n",
              " 'possibly',\n",
              " 'pillars',\n",
              " 'men',\n",
              " 'looked',\n",
              " 'king',\n",
              " 'finally',\n",
              " 'expect',\n",
              " 'understanding',\n",
              " 'court',\n",
              " 'computer',\n",
              " 'april',\n",
              " 'numbers',\n",
              " 'independent',\n",
              " 'face',\n",
              " 'canada',\n",
              " 'accounts',\n",
              " 'despite',\n",
              " 'character',\n",
              " '8',\n",
              " 'persons',\n",
              " 'million',\n",
              " 'lost',\n",
              " 'bye',\n",
              " 'wants',\n",
              " 'readers',\n",
              " 'lists',\n",
              " 'inappropriate',\n",
              " 'described',\n",
              " 'mistake',\n",
              " 'jews',\n",
              " 'george',\n",
              " 'control',\n",
              " 'coming',\n",
              " 'license',\n",
              " 'minor',\n",
              " 'unfortunately',\n",
              " 'dick',\n",
              " 'chance',\n",
              " '100',\n",
              " 'tommy2010',\n",
              " 'securityfuck',\n",
              " 'results',\n",
              " 'experience',\n",
              " 'acceptable',\n",
              " ...]"
            ]
          },
          "metadata": {},
          "execution_count": 14
        }
      ]
    },
    {
      "cell_type": "code",
      "source": [
        "vectorized_text=vectorizer(X.values)"
      ],
      "metadata": {
        "id": "r2y27asO_WJB"
      },
      "execution_count": 17,
      "outputs": []
    },
    {
      "cell_type": "code",
      "source": [
        "vectorized_text"
      ],
      "metadata": {
        "colab": {
          "base_uri": "https://localhost:8080/"
        },
        "id": "Lz2Sy76z_kki",
        "outputId": "3426fa4f-2582-4882-a538-dda52cb38b9e"
      },
      "execution_count": 18,
      "outputs": [
        {
          "output_type": "execute_result",
          "data": {
            "text/plain": [
              "<tf.Tensor: shape=(33989, 1800), dtype=int64, numpy=\n",
              "array([[  673,    76,     2, ...,     0,     0,     0],\n",
              "       [79390,    54,  2334, ...,     0,     0,     0],\n",
              "       [  498,   434,    69, ...,     0,     0,     0],\n",
              "       ...,\n",
              "       [    2, 17113,    82, ...,     0,     0,     0],\n",
              "       [   46,   105,    61, ...,     0,     0,     0],\n",
              "       [77618,    19,     7, ...,     0,     0,     0]])>"
            ]
          },
          "metadata": {},
          "execution_count": 18
        }
      ]
    },
    {
      "cell_type": "code",
      "source": [
        "dataset=tf.data.Dataset.from_tensor_slices((vectorized_text,Y))\n",
        "dataset=dataset.cache()\n",
        "dataset=dataset.shuffle(160000)\n",
        "dataset=dataset.batch(16)\n",
        "dataset=dataset.prefetch(8)"
      ],
      "metadata": {
        "id": "OwZaJIVRA6ok"
      },
      "execution_count": 19,
      "outputs": []
    },
    {
      "cell_type": "code",
      "source": [
        "dataset.as_numpy_iterator().next()"
      ],
      "metadata": {
        "colab": {
          "base_uri": "https://localhost:8080/"
        },
        "id": "RHyWgCdyua-p",
        "outputId": "ce03d9b9-d899-4973-dd05-7f4bbd5f2bf3"
      },
      "execution_count": 20,
      "outputs": [
        {
          "output_type": "execute_result",
          "data": {
            "text/plain": [
              "(array([[  303,    32,  1024, ...,     0,     0,     0],\n",
              "        [  165,   343,   297, ...,     0,     0,     0],\n",
              "        [  237,    20,  5499, ...,     0,     0,     0],\n",
              "        ...,\n",
              "        [ 6379, 26536,   163, ...,     0,     0,     0],\n",
              "        [ 1084,   712,  5451, ...,     0,     0,     0],\n",
              "        [  344,   423,     6, ...,     0,     0,     0]]),\n",
              " array([[0, 0, 0, 0, 0, 0],\n",
              "        [1, 1, 1, 0, 1, 0],\n",
              "        [0, 0, 0, 0, 0, 0],\n",
              "        [1, 0, 0, 0, 0, 1],\n",
              "        [0, 0, 0, 0, 0, 0],\n",
              "        [0, 0, 0, 0, 0, 0],\n",
              "        [0, 0, 0, 0, 0, 0],\n",
              "        [0, 0, 0, 0, 0, 0],\n",
              "        [0, 0, 0, 0, 0, 0],\n",
              "        [0, 0, 0, 0, 0, 0],\n",
              "        [0, 0, 0, 0, 0, 0],\n",
              "        [0, 0, 0, 0, 0, 0],\n",
              "        [1, 0, 0, 0, 0, 0],\n",
              "        [0, 0, 0, 0, 0, 0],\n",
              "        [0, 0, 0, 0, 0, 0],\n",
              "        [0, 0, 0, 0, 0, 0]]))"
            ]
          },
          "metadata": {},
          "execution_count": 20
        }
      ]
    },
    {
      "cell_type": "code",
      "source": [
        "batch_X,batch_Y=dataset.as_numpy_iterator().next()"
      ],
      "metadata": {
        "id": "ydXo9UirsxG0"
      },
      "execution_count": 21,
      "outputs": []
    },
    {
      "cell_type": "code",
      "source": [
        "batch_X.shape"
      ],
      "metadata": {
        "colab": {
          "base_uri": "https://localhost:8080/"
        },
        "id": "eqE3ui0WtEK2",
        "outputId": "edecfc6d-1b5a-4a48-db99-56291fa06e87"
      },
      "execution_count": 22,
      "outputs": [
        {
          "output_type": "execute_result",
          "data": {
            "text/plain": [
              "(16, 1800)"
            ]
          },
          "metadata": {},
          "execution_count": 22
        }
      ]
    },
    {
      "cell_type": "code",
      "source": [
        "train=dataset.take(int(len(dataset)*.7))\n",
        "val=dataset.skip(int(len(dataset)*.7)).take(int(len(dataset)*.9))\n",
        "test=dataset.skip(int(len(dataset)*.9)).take(int(len(dataset)*.1))"
      ],
      "metadata": {
        "id": "QLw_CHeutGUC"
      },
      "execution_count": 23,
      "outputs": []
    },
    {
      "cell_type": "code",
      "source": [
        "train_gen=train.as_numpy_iterator()\n"
      ],
      "metadata": {
        "id": "Ev2AMpjEtyas"
      },
      "execution_count": 25,
      "outputs": []
    },
    {
      "cell_type": "code",
      "source": [
        "train_gen.next()"
      ],
      "metadata": {
        "colab": {
          "base_uri": "https://localhost:8080/"
        },
        "id": "TtL6OpvsuskZ",
        "outputId": "e2d23dd2-64db-4fd1-f5c7-2b6add02f31d"
      },
      "execution_count": 26,
      "outputs": [
        {
          "output_type": "execute_result",
          "data": {
            "text/plain": [
              "(array([[ 3448, 19988,   163, ...,     0,     0,     0],\n",
              "        [   45,   125,     3, ...,     0,     0,     0],\n",
              "        [  121,  1226,   522, ...,     0,     0,     0],\n",
              "        ...,\n",
              "        [    6,  1712,     3, ...,     0,     0,     0],\n",
              "        [    8,    24,  4199, ...,     0,     0,     0],\n",
              "        [   14,     9,    76, ...,     0,     0,     0]]),\n",
              " array([[0, 0, 0, 0, 0, 0],\n",
              "        [0, 0, 0, 0, 0, 0],\n",
              "        [0, 0, 0, 0, 0, 0],\n",
              "        [0, 0, 0, 0, 0, 0],\n",
              "        [0, 0, 0, 0, 0, 0],\n",
              "        [0, 0, 0, 0, 0, 0],\n",
              "        [0, 0, 0, 0, 0, 0],\n",
              "        [0, 0, 0, 0, 0, 0],\n",
              "        [0, 0, 0, 0, 0, 0],\n",
              "        [0, 0, 0, 0, 0, 0],\n",
              "        [0, 0, 0, 0, 0, 0],\n",
              "        [0, 0, 0, 0, 0, 0],\n",
              "        [0, 0, 0, 0, 0, 0],\n",
              "        [0, 0, 0, 0, 0, 0],\n",
              "        [0, 0, 0, 0, 0, 0],\n",
              "        [1, 0, 0, 0, 0, 0]]))"
            ]
          },
          "metadata": {},
          "execution_count": 26
        }
      ]
    },
    {
      "cell_type": "markdown",
      "source": [
        "3 .BUILD DEEP NEURAL NETWORK"
      ],
      "metadata": {
        "id": "ihx83ATVvVmh"
      }
    },
    {
      "cell_type": "code",
      "source": [
        "!pip install Sequential"
      ],
      "metadata": {
        "colab": {
          "base_uri": "https://localhost:8080/"
        },
        "id": "fzevbfdDxmVn",
        "outputId": "ba24a8d5-38ac-40af-efbb-3d9729f088f5"
      },
      "execution_count": 27,
      "outputs": [
        {
          "output_type": "stream",
          "name": "stdout",
          "text": [
            "Collecting Sequential\n",
            "  Downloading sequential-1.0.0.tar.gz (2.3 kB)\n",
            "  Preparing metadata (setup.py) ... \u001b[?25l\u001b[?25hdone\n",
            "Building wheels for collected packages: Sequential\n",
            "  Building wheel for Sequential (setup.py) ... \u001b[?25l\u001b[?25hdone\n",
            "  Created wheel for Sequential: filename=sequential-1.0.0-py3-none-any.whl size=2856 sha256=0c10f924f8b7f54c5e94305cf9c81ada665752954f9fd8e9efe62f8e59ccf8a1\n",
            "  Stored in directory: /root/.cache/pip/wheels/c3/61/56/fe456787532527aafb108ffeceecb4a2e928a518c88bbdd5c5\n",
            "Successfully built Sequential\n",
            "Installing collected packages: Sequential\n",
            "Successfully installed Sequential-1.0.0\n"
          ]
        }
      ]
    },
    {
      "cell_type": "code",
      "source": [
        "from tensorflow.keras.models import Sequential\n",
        "from tensorflow.keras.layers import LSTM, Dropout, Bidirectional,Dense,Embedding"
      ],
      "metadata": {
        "id": "FSCFQhWdvap3"
      },
      "execution_count": 28,
      "outputs": []
    },
    {
      "cell_type": "code",
      "source": [
        "model=Sequential()\n",
        "model.add(Embedding(MAX_FEATURES+1,32))\n",
        "model.add(Bidirectional(LSTM(32,activation='tanh')))\n",
        "model.add(Dense(128,activation='relu'))\n",
        "model.add(Dense(256,activation='relu'))\n",
        "model.add(Dense(128,activation='relu'))\n",
        "model.add(Dense(6,activation='sigmoid'))"
      ],
      "metadata": {
        "id": "i4B-n2Y5wK0g"
      },
      "execution_count": 29,
      "outputs": []
    },
    {
      "cell_type": "code",
      "source": [
        "model.compile(loss=\"binary_crossentropy\",optimizer=\"adam\")"
      ],
      "metadata": {
        "id": "qDQ_jk55x7_Z"
      },
      "execution_count": 30,
      "outputs": []
    },
    {
      "cell_type": "code",
      "source": [
        "model.summary()"
      ],
      "metadata": {
        "colab": {
          "base_uri": "https://localhost:8080/"
        },
        "id": "lidH9cCrn_Yl",
        "outputId": "1102c9bd-e312-46df-c2d6-ccced9b5b2e6"
      },
      "execution_count": 31,
      "outputs": [
        {
          "output_type": "stream",
          "name": "stdout",
          "text": [
            "Model: \"sequential\"\n",
            "_________________________________________________________________\n",
            " Layer (type)                Output Shape              Param #   \n",
            "=================================================================\n",
            " embedding (Embedding)       (None, None, 32)          6400032   \n",
            "                                                                 \n",
            " bidirectional (Bidirection  (None, 64)                16640     \n",
            " al)                                                             \n",
            "                                                                 \n",
            " dense (Dense)               (None, 128)               8320      \n",
            "                                                                 \n",
            " dense_1 (Dense)             (None, 256)               33024     \n",
            "                                                                 \n",
            " dense_2 (Dense)             (None, 128)               32896     \n",
            "                                                                 \n",
            " dense_3 (Dense)             (None, 6)                 774       \n",
            "                                                                 \n",
            "=================================================================\n",
            "Total params: 6491686 (24.76 MB)\n",
            "Trainable params: 6491686 (24.76 MB)\n",
            "Non-trainable params: 0 (0.00 Byte)\n",
            "_________________________________________________________________\n"
          ]
        }
      ]
    },
    {
      "cell_type": "code",
      "source": [
        "history=model.fit(train,epochs=1,validation_data=val)"
      ],
      "metadata": {
        "colab": {
          "base_uri": "https://localhost:8080/"
        },
        "id": "CdNPQciwwFB1",
        "outputId": "f37f4f17-5e04-423e-e253-b1e391a4c776"
      },
      "execution_count": 36,
      "outputs": [
        {
          "output_type": "stream",
          "name": "stdout",
          "text": [
            "1487/1487 [==============================] - 2601s 2s/step - loss: 0.0866 - val_loss: 0.0588\n"
          ]
        }
      ]
    },
    {
      "cell_type": "code",
      "source": [
        "from matplotlib import pyplot as plt"
      ],
      "metadata": {
        "id": "__ew-HY4gZnA"
      },
      "execution_count": 33,
      "outputs": []
    },
    {
      "cell_type": "code",
      "source": [
        "plt.figure(figsize=(8,5))\n",
        "pd.DataFrame(history.history).plot()\n",
        "plt.show(9)"
      ],
      "metadata": {
        "colab": {
          "base_uri": "https://localhost:8080/",
          "height": 447
        },
        "id": "wnKMT457ggPK",
        "outputId": "ff9fba75-3fd3-4022-b7a1-df966433e1e2"
      },
      "execution_count": 37,
      "outputs": [
        {
          "output_type": "display_data",
          "data": {
            "text/plain": [
              "<Figure size 800x500 with 0 Axes>"
            ]
          },
          "metadata": {}
        },
        {
          "output_type": "display_data",
          "data": {
            "text/plain": [
              "<Figure size 640x480 with 1 Axes>"
            ],
            "image/png": "[encoded data removed]"
          },
          "metadata": {}
        }
      ]
    },
    {
      "cell_type": "markdown",
      "source": [
        "4. MAKING **PREDICTION**"
      ],
      "metadata": {
        "id": "hj8WKXZA2hNd"
      }
    },
    {
      "cell_type": "code",
      "source": [
        "input_text=vectorizer('You freaking suck! I am going to hit you.')"
      ],
      "metadata": {
        "id": "uLhuRdyvrSsm"
      },
      "execution_count": 38,
      "outputs": []
    },
    {
      "cell_type": "code",
      "source": [
        "data.columns[2:]"
      ],
      "metadata": {
        "colab": {
          "base_uri": "https://localhost:8080/"
        },
        "id": "OTa9ZH34vaTY",
        "outputId": "19b403b1-7499-416c-9bc3-de20ed312ad8"
      },
      "execution_count": 39,
      "outputs": [
        {
          "output_type": "execute_result",
          "data": {
            "text/plain": [
              "Index(['toxic', 'severe_toxic', 'obscene', 'threat', 'insult',\n",
              "       'identity_hate'],\n",
              "      dtype='object')"
            ]
          },
          "metadata": {},
          "execution_count": 39
        }
      ]
    },
    {
      "cell_type": "code",
      "source": [
        "batch=test.as_numpy_iterator().next()"
      ],
      "metadata": {
        "id": "Erg67sIprklI"
      },
      "execution_count": 40,
      "outputs": []
    },
    {
      "cell_type": "code",
      "source": [
        "test.as_numpy_iterator().next()"
      ],
      "metadata": {
        "colab": {
          "base_uri": "https://localhost:8080/"
        },
        "id": "ETSMhcuIziGO",
        "outputId": "1eb9d1ac-ab95-4829-8e0c-263d68865cb1"
      },
      "execution_count": 41,
      "outputs": [
        {
          "output_type": "execute_result",
          "data": {
            "text/plain": [
              "(array([[  105,    91,   170, ...,     0,     0,     0],\n",
              "        [  637,   177,   195, ...,     0,     0,     0],\n",
              "        [   88,    10,    14, ...,     0,     0,     0],\n",
              "        ...,\n",
              "        [   41,    19,   628, ...,     0,     0,     0],\n",
              "        [   14, 31967,     9, ...,     0,     0,     0],\n",
              "        [ 1262,   508,   134, ...,     0,     0,     0]]),\n",
              " array([[0, 0, 0, 0, 0, 0],\n",
              "        [0, 0, 0, 0, 0, 0],\n",
              "        [0, 0, 0, 0, 0, 0],\n",
              "        [0, 0, 0, 0, 0, 0],\n",
              "        [1, 0, 1, 1, 1, 0],\n",
              "        [0, 0, 0, 0, 0, 0],\n",
              "        [0, 0, 0, 0, 0, 0],\n",
              "        [0, 0, 0, 0, 0, 0],\n",
              "        [1, 0, 0, 0, 1, 0],\n",
              "        [0, 0, 0, 0, 0, 0],\n",
              "        [0, 0, 0, 0, 0, 0],\n",
              "        [0, 0, 0, 0, 0, 0],\n",
              "        [0, 0, 0, 0, 0, 0],\n",
              "        [0, 0, 0, 0, 0, 0],\n",
              "        [0, 0, 0, 0, 0, 0],\n",
              "        [0, 0, 0, 0, 0, 0]]))"
            ]
          },
          "metadata": {},
          "execution_count": 41
        }
      ]
    },
    {
      "cell_type": "code",
      "source": [
        "model.predict(np.expand_dims(input_text,0))"
      ],
      "metadata": {
        "colab": {
          "base_uri": "https://localhost:8080/"
        },
        "id": "od0ppbbcyEog",
        "outputId": "a2a903af-6a62-4e07-a50f-3aff00e16fa8"
      },
      "execution_count": 42,
      "outputs": [
        {
          "output_type": "stream",
          "name": "stdout",
          "text": [
            "1/1 [==============================] - 1s 949ms/step\n"
          ]
        },
        {
          "output_type": "execute_result",
          "data": {
            "text/plain": [
              "array([[0.9821678 , 0.36734515, 0.8303621 , 0.09147251, 0.76718086,\n",
              "        0.16524215]], dtype=float32)"
            ]
          },
          "metadata": {},
          "execution_count": 42
        }
      ]
    },
    {
      "cell_type": "code",
      "source": [
        "res=model.predict(batch_X)"
      ],
      "metadata": {
        "colab": {
          "base_uri": "https://localhost:8080/"
        },
        "id": "oAtMRekPySjx",
        "outputId": "22c08bd6-0a2e-40f2-9acd-0a06d503310f"
      },
      "execution_count": 43,
      "outputs": [
        {
          "output_type": "stream",
          "name": "stdout",
          "text": [
            "1/1 [==============================] - 0s 204ms/step\n"
          ]
        }
      ]
    },
    {
      "cell_type": "code",
      "source": [
        "res.flatten().shape"
      ],
      "metadata": {
        "colab": {
          "base_uri": "https://localhost:8080/"
        },
        "id": "RQ8iZ9BU7i3b",
        "outputId": "f176801b-ba3f-4679-c4d4-f012833f85d5"
      },
      "execution_count": 44,
      "outputs": [
        {
          "output_type": "execute_result",
          "data": {
            "text/plain": [
              "(96,)"
            ]
          },
          "metadata": {},
          "execution_count": 44
        }
      ]
    },
    {
      "cell_type": "code",
      "source": [
        "np.expand_dims(input_text,0)"
      ],
      "metadata": {
        "colab": {
          "base_uri": "https://localhost:8080/"
        },
        "id": "84Ackxf3xrSV",
        "outputId": "03368863-e1e7-48c8-d8ea-4102a28a8d8b"
      },
      "execution_count": 45,
      "outputs": [
        {
          "output_type": "execute_result",
          "data": {
            "text/plain": [
              "array([[   7, 6722,  886, ...,    0,    0,    0]])"
            ]
          },
          "metadata": {},
          "execution_count": 45
        }
      ]
    },
    {
      "cell_type": "code",
      "source": [
        "batch_X,batch_Y=test.as_numpy_iterator().next()"
      ],
      "metadata": {
        "id": "pTr0a1y4vPz8"
      },
      "execution_count": 46,
      "outputs": []
    },
    {
      "cell_type": "code",
      "source": [
        "(model.predict(batch_X)>0.5).astype(int)"
      ],
      "metadata": {
        "colab": {
          "base_uri": "https://localhost:8080/"
        },
        "id": "rUmCDSslz3LC",
        "outputId": "a762775e-458e-4475-f194-878c34137561"
      },
      "execution_count": 47,
      "outputs": [
        {
          "output_type": "stream",
          "name": "stdout",
          "text": [
            "1/1 [==============================] - 0s 217ms/step\n"
          ]
        },
        {
          "output_type": "execute_result",
          "data": {
            "text/plain": [
              "array([[0, 0, 0, 0, 0, 0],\n",
              "       [0, 0, 0, 0, 0, 0],\n",
              "       [0, 0, 0, 0, 0, 0],\n",
              "       [0, 0, 0, 0, 0, 0],\n",
              "       [0, 0, 0, 0, 0, 0],\n",
              "       [0, 0, 0, 0, 0, 0],\n",
              "       [0, 0, 0, 0, 0, 0],\n",
              "       [0, 0, 0, 0, 0, 0],\n",
              "       [0, 0, 0, 0, 0, 0],\n",
              "       [0, 0, 0, 0, 0, 0],\n",
              "       [0, 0, 0, 0, 0, 0],\n",
              "       [0, 0, 0, 0, 0, 0],\n",
              "       [0, 0, 0, 0, 0, 0],\n",
              "       [0, 0, 0, 0, 0, 0],\n",
              "       [1, 0, 1, 0, 1, 0],\n",
              "       [0, 0, 0, 0, 0, 0]])"
            ]
          },
          "metadata": {},
          "execution_count": 47
        }
      ]
    },
    {
      "cell_type": "code",
      "source": [
        "test=model.predict(np.expand_dims(input_text,0))"
      ],
      "metadata": {
        "colab": {
          "base_uri": "https://localhost:8080/"
        },
        "id": "kTP68xZesHkb",
        "outputId": "916a0369-95fe-4fef-8c1f-0776ccd3175b"
      },
      "execution_count": 48,
      "outputs": [
        {
          "output_type": "stream",
          "name": "stdout",
          "text": [
            "1/1 [==============================] - 0s 128ms/step\n"
          ]
        }
      ]
    },
    {
      "cell_type": "markdown",
      "source": [
        "5. MODEL **EVALUATION**"
      ],
      "metadata": {
        "id": "weczpLpR3nxK"
      }
    },
    {
      "cell_type": "code",
      "source": [
        "!pip install tensorflow-addons"
      ],
      "metadata": {
        "colab": {
          "base_uri": "https://localhost:8080/"
        },
        "id": "oUGRbZEn3uqd",
        "outputId": "c25f7a77-2ff8-48a3-8303-978152559e48"
      },
      "execution_count": 49,
      "outputs": [
        {
          "output_type": "stream",
          "name": "stdout",
          "text": [
            "Collecting tensorflow-addons\n",
            "  Downloading tensorflow_addons-0.23.0-cp310-cp310-manylinux_2_17_x86_64.manylinux2014_x86_64.whl (611 kB)\n",
            "\u001b[?25l     \u001b[90m━━━━━━━━━━━━━━━━━━━━━━━━━━━━━━━━━━━━━━━━\u001b[0m \u001b[32m0.0/611.8 kB\u001b[0m \u001b[31m?\u001b[0m eta \u001b[36m-:--:--\u001b[0m\r\u001b[2K     \u001b[91m━━━━━━━━━━━\u001b[0m\u001b[90m╺\u001b[0m\u001b[90m━━━━━━━━━━━━━━━━━━━━━━━━━━━━\u001b[0m \u001b[32m174.1/611.8 kB\u001b[0m \u001b[31m5.0 MB/s\u001b[0m eta \u001b[36m0:00:01\u001b[0m\r\u001b[2K     \u001b[91m━━━━━━━━━━━━━━━━━━━━━━━━━━━━━━━━━━━\u001b[0m\u001b[90m╺\u001b[0m\u001b[90m━━━━\u001b[0m \u001b[32m542.7/611.8 kB\u001b[0m \u001b[31m7.8 MB/s\u001b[0m eta \u001b[36m0:00:01\u001b[0m\r\u001b[2K     \u001b[90m━━━━━━━━━━━━━━━━━━━━━━━━━━━━━━━━━━━━━━━━\u001b[0m \u001b[32m611.8/611.8 kB\u001b[0m \u001b[31m7.1 MB/s\u001b[0m eta \u001b[36m0:00:00\u001b[0m\n",
            "\u001b[?25hRequirement already satisfied: packaging in /usr/local/lib/python3.10/dist-packages (from tensorflow-addons) (23.2)\n",
            "Collecting typeguard<3.0.0,>=2.7 (from tensorflow-addons)\n",
            "  Downloading typeguard-2.13.3-py3-none-any.whl (17 kB)\n",
            "Installing collected packages: typeguard, tensorflow-addons\n",
            "Successfully installed tensorflow-addons-0.23.0 typeguard-2.13.3\n"
          ]
        }
      ]
    },
    {
      "cell_type": "code",
      "source": [
        "import tensorflow_addons as tfa"
      ],
      "metadata": {
        "id": "eS2IDWkm4Pqb",
        "colab": {
          "base_uri": "https://localhost:8080/"
        },
        "outputId": "718f130e-74d7-48c5-fbcc-faf46ad6ef1d"
      },
      "execution_count": 50,
      "outputs": [
        {
          "output_type": "stream",
          "name": "stderr",
          "text": [
            "/usr/local/lib/python3.10/dist-packages/tensorflow_addons/utils/tfa_eol_msg.py:23: UserWarning: \n",
            "\n",
            "TensorFlow Addons (TFA) has ended development and introduction of new features.\n",
            "TFA has entered a minimal maintenance and release mode until a planned end of life in May 2024.\n",
            "Please modify downstream libraries to take dependencies from other repositories in our TensorFlow community (e.g. Keras, Keras-CV, and Keras-NLP). \n",
            "\n",
            "For more information see: https://github.com/tensorflow/addons/issues/2807 \n",
            "\n",
            "  warnings.warn(\n"
          ]
        }
      ]
    },
    {
      "cell_type": "code",
      "source": [
        "from tensorflow.keras.metrics  import Precision, Recall, CategoricalAccuracy"
      ],
      "metadata": {
        "id": "Z5Z_6q-G4VIA"
      },
      "execution_count": 51,
      "outputs": []
    },
    {
      "cell_type": "code",
      "source": [
        "pre=Precision()\n",
        "re=Recall()\n",
        "acc=CategoricalAccuracy()"
      ],
      "metadata": {
        "id": "uvIlWQ-q4--A"
      },
      "execution_count": 52,
      "outputs": []
    },
    {
      "cell_type": "code",
      "source": [
        "for batch in train.as_numpy_iterator():\n",
        "    # unpack the batch\n",
        "    X_true,Y_true= batch\n",
        "    # make a prediction\n",
        "    yhat=model.predict(X_true)\n",
        "    # flatten the predicition\n",
        "    Y_true=Y_true.flatten()\n",
        "    yhat=yhat.flatten()\n",
        "\n",
        "    pre.update_state(Y_true,yhat)\n",
        "    re.update_state(Y_true,yhat)\n",
        "    acc.update_state(Y_true,yhat)"
      ],
      "metadata": {
        "id": "6oFb7ffj6IRH"
      },
      "execution_count": null,
      "outputs": []
    },
    {
      "cell_type": "code",
      "source": [
        "print(f' Precision:{pre.result().numpy()},\\n Recall:{re.result()},\\n Accuracy:{acc.result().numpy}')"
      ],
      "metadata": {
        "colab": {
          "base_uri": "https://localhost:8080/"
        },
        "id": "Ncdz291_8slA",
        "outputId": "375d159f-8f1e-41d4-8eac-dcd53987b372"
      },
      "execution_count": 54,
      "outputs": [
        {
          "output_type": "stream",
          "name": "stdout",
          "text": [
            " Precision:0.7573904395103455,\n",
            " Recall:0.7012079954147339,\n",
            " Accuracy:<bound method _EagerTensorBase.numpy of <tf.Tensor: shape=(), dtype=float32, numpy=0.45931405>>\n"
          ]
        }
      ]
    },
    {
      "cell_type": "markdown",
      "source": [
        "6. TEST AND GRADIO **APP**"
      ],
      "metadata": {
        "id": "sGc-228b_iVJ"
      }
    },
    {
      "cell_type": "code",
      "source": [
        "!pip install gradio"
      ],
      "metadata": {
        "colab": {
          "base_uri": "https://localhost:8080/"
        },
        "id": "0TRCd80K_pjn",
        "outputId": "32026e05-a409-4485-8a00-ac96362a9078"
      },
      "execution_count": 55,
      "outputs": [
        {
          "output_type": "stream",
          "name": "stdout",
          "text": [
            "Collecting gradio\n",
            "  Downloading gradio-4.18.0-py3-none-any.whl (16.8 MB)\n",
            "\u001b[2K     \u001b[90m━━━━━━━━━━━━━━━━━━━━━━━━━━━━━━━━━━━━━━━━\u001b[0m \u001b[32m16.8/16.8 MB\u001b[0m \u001b[31m32.3 MB/s\u001b[0m eta \u001b[36m0:00:00\u001b[0m\n",
            "\u001b[?25hCollecting aiofiles<24.0,>=22.0 (from gradio)\n",
            "  Downloading aiofiles-23.2.1-py3-none-any.whl (15 kB)\n",
            "Requirement already satisfied: altair<6.0,>=4.2.0 in /usr/local/lib/python3.10/dist-packages (from gradio) (4.2.2)\n",
            "Collecting fastapi (from gradio)\n",
            "  Downloading fastapi-0.109.2-py3-none-any.whl (92 kB)\n",
            "\u001b[2K     \u001b[90m━━━━━━━━━━━━━━━━━━━━━━━━━━━━━━━━━━━━━━━━\u001b[0m \u001b[32m92.1/92.1 kB\u001b[0m \u001b[31m11.6 MB/s\u001b[0m eta \u001b[36m0:00:00\u001b[0m\n",
            "\u001b[?25hCollecting ffmpy (from gradio)\n",
            "  Downloading ffmpy-0.3.2.tar.gz (5.5 kB)\n",
            "  Preparing metadata (setup.py) ... \u001b[?25l\u001b[?25hdone\n",
            "Collecting gradio-client==0.10.0 (from gradio)\n",
            "  Downloading gradio_client-0.10.0-py3-none-any.whl (307 kB)\n",
            "\u001b[2K     \u001b[90m━━━━━━━━━━━━━━━━━━━━━━━━━━━━━━━━━━━━━━━━\u001b[0m \u001b[32m307.7/307.7 kB\u001b[0m \u001b[31m24.7 MB/s\u001b[0m eta \u001b[36m0:00:00\u001b[0m\n",
            "\u001b[?25hCollecting httpx (from gradio)\n",
            "  Downloading httpx-0.26.0-py3-none-any.whl (75 kB)\n",
            "\u001b[2K     \u001b[90m━━━━━━━━━━━━━━━━━━━━━━━━━━━━━━━━━━━━━━━━\u001b[0m \u001b[32m75.9/75.9 kB\u001b[0m \u001b[31m6.4 MB/s\u001b[0m eta \u001b[36m0:00:00\u001b[0m\n",
            "\u001b[?25hRequirement already satisfied: huggingface-hub>=0.19.3 in /usr/local/lib/python3.10/dist-packages (from gradio) (0.20.3)\n",
            "Requirement already satisfied: importlib-resources<7.0,>=1.3 in /usr/local/lib/python3.10/dist-packages (from gradio) (6.1.1)\n",
            "Requirement already satisfied: jinja2<4.0 in /usr/local/lib/python3.10/dist-packages (from gradio) (3.1.3)\n",
            "Requirement already satisfied: markupsafe~=2.0 in /usr/local/lib/python3.10/dist-packages (from gradio) (2.1.5)\n",
            "Requirement already satisfied: matplotlib~=3.0 in /usr/local/lib/python3.10/dist-packages (from gradio) (3.7.1)\n",
            "Requirement already satisfied: numpy~=1.0 in /usr/local/lib/python3.10/dist-packages (from gradio) (1.23.5)\n",
            "Collecting orjson~=3.0 (from gradio)\n",
            "  Downloading orjson-3.9.13-cp310-cp310-manylinux_2_17_x86_64.manylinux2014_x86_64.whl (138 kB)\n",
            "\u001b[2K     \u001b[90m━━━━━━━━━━━━━━━━━━━━━━━━━━━━━━━━━━━━━━━━\u001b[0m \u001b[32m138.7/138.7 kB\u001b[0m \u001b[31m11.5 MB/s\u001b[0m eta \u001b[36m0:00:00\u001b[0m\n",
            "\u001b[?25hRequirement already satisfied: packaging in /usr/local/lib/python3.10/dist-packages (from gradio) (23.2)\n",
            "Requirement already satisfied: pandas<3.0,>=1.0 in /usr/local/lib/python3.10/dist-packages (from gradio) (1.5.3)\n",
            "Requirement already satisfied: pillow<11.0,>=8.0 in /usr/local/lib/python3.10/dist-packages (from gradio) (9.4.0)\n",
            "Requirement already satisfied: pydantic>=2.0 in /usr/local/lib/python3.10/dist-packages (from gradio) (2.6.1)\n",
            "Collecting pydub (from gradio)\n",
            "  Downloading pydub-0.25.1-py2.py3-none-any.whl (32 kB)\n",
            "Collecting python-multipart (from gradio)\n",
            "  Downloading python_multipart-0.0.9-py3-none-any.whl (22 kB)\n",
            "Requirement already satisfied: pyyaml<7.0,>=5.0 in /usr/local/lib/python3.10/dist-packages (from gradio) (6.0.1)\n",
            "Collecting ruff>=0.1.7 (from gradio)\n",
            "  Downloading ruff-0.2.1-py3-none-manylinux_2_17_x86_64.manylinux2014_x86_64.whl (7.6 MB)\n",
            "\u001b[2K     \u001b[90m━━━━━━━━━━━━━━━━━━━━━━━━━━━━━━━━━━━━━━━━\u001b[0m \u001b[32m7.6/7.6 MB\u001b[0m \u001b[31m56.8 MB/s\u001b[0m eta \u001b[36m0:00:00\u001b[0m\n",
            "\u001b[?25hCollecting semantic-version~=2.0 (from gradio)\n",
            "  Downloading semantic_version-2.10.0-py2.py3-none-any.whl (15 kB)\n",
            "Collecting tomlkit==0.12.0 (from gradio)\n",
            "  Downloading tomlkit-0.12.0-py3-none-any.whl (37 kB)\n",
            "Requirement already satisfied: typer[all]<1.0,>=0.9 in /usr/local/lib/python3.10/dist-packages (from gradio) (0.9.0)\n",
            "Requirement already satisfied: typing-extensions~=4.0 in /usr/local/lib/python3.10/dist-packages (from gradio) (4.9.0)\n",
            "Collecting uvicorn>=0.14.0 (from gradio)\n",
            "  Downloading uvicorn-0.27.1-py3-none-any.whl (60 kB)\n",
            "\u001b[2K     \u001b[90m━━━━━━━━━━━━━━━━━━━━━━━━━━━━━━━━━━━━━━━━\u001b[0m \u001b[32m60.8/60.8 kB\u001b[0m \u001b[31m6.6 MB/s\u001b[0m eta \u001b[36m0:00:00\u001b[0m\n",
            "\u001b[?25hRequirement already satisfied: fsspec in /usr/local/lib/python3.10/dist-packages (from gradio-client==0.10.0->gradio) (2023.6.0)\n",
            "Collecting websockets<12.0,>=10.0 (from gradio-client==0.10.0->gradio)\n",
            "  Downloading websockets-11.0.3-cp310-cp310-manylinux_2_5_x86_64.manylinux1_x86_64.manylinux_2_17_x86_64.manylinux2014_x86_64.whl (129 kB)\n",
            "\u001b[2K     \u001b[90m━━━━━━━━━━━━━━━━━━━━━━━━━━━━━━━━━━━━━━━━\u001b[0m \u001b[32m129.9/129.9 kB\u001b[0m \u001b[31m15.5 MB/s\u001b[0m eta \u001b[36m0:00:00\u001b[0m\n",
            "\u001b[?25hRequirement already satisfied: entrypoints in /usr/local/lib/python3.10/dist-packages (from altair<6.0,>=4.2.0->gradio) (0.4)\n",
            "Requirement already satisfied: jsonschema>=3.0 in /usr/local/lib/python3.10/dist-packages (from altair<6.0,>=4.2.0->gradio) (4.19.2)\n",
            "Requirement already satisfied: toolz in /usr/local/lib/python3.10/dist-packages (from altair<6.0,>=4.2.0->gradio) (0.12.1)\n",
            "Requirement already satisfied: filelock in /usr/local/lib/python3.10/dist-packages (from huggingface-hub>=0.19.3->gradio) (3.13.1)\n",
            "Requirement already satisfied: requests in /usr/local/lib/python3.10/dist-packages (from huggingface-hub>=0.19.3->gradio) (2.31.0)\n",
            "Requirement already satisfied: tqdm>=4.42.1 in /usr/local/lib/python3.10/dist-packages (from huggingface-hub>=0.19.3->gradio) (4.66.1)\n",
            "Requirement already satisfied: contourpy>=1.0.1 in /usr/local/lib/python3.10/dist-packages (from matplotlib~=3.0->gradio) (1.2.0)\n",
            "Requirement already satisfied: cycler>=0.10 in /usr/local/lib/python3.10/dist-packages (from matplotlib~=3.0->gradio) (0.12.1)\n",
            "Requirement already satisfied: fonttools>=4.22.0 in /usr/local/lib/python3.10/dist-packages (from matplotlib~=3.0->gradio) (4.48.1)\n",
            "Requirement already satisfied: kiwisolver>=1.0.1 in /usr/local/lib/python3.10/dist-packages (from matplotlib~=3.0->gradio) (1.4.5)\n",
            "Requirement already satisfied: pyparsing>=2.3.1 in /usr/local/lib/python3.10/dist-packages (from matplotlib~=3.0->gradio) (3.1.1)\n",
            "Requirement already satisfied: python-dateutil>=2.7 in /usr/local/lib/python3.10/dist-packages (from matplotlib~=3.0->gradio) (2.8.2)\n",
            "Requirement already satisfied: pytz>=2020.1 in /usr/local/lib/python3.10/dist-packages (from pandas<3.0,>=1.0->gradio) (2023.4)\n",
            "Requirement already satisfied: annotated-types>=0.4.0 in /usr/local/lib/python3.10/dist-packages (from pydantic>=2.0->gradio) (0.6.0)\n",
            "Requirement already satisfied: pydantic-core==2.16.2 in /usr/local/lib/python3.10/dist-packages (from pydantic>=2.0->gradio) (2.16.2)\n",
            "Requirement already satisfied: click<9.0.0,>=7.1.1 in /usr/local/lib/python3.10/dist-packages (from typer[all]<1.0,>=0.9->gradio) (8.1.7)\n",
            "Collecting colorama<0.5.0,>=0.4.3 (from typer[all]<1.0,>=0.9->gradio)\n",
            "  Downloading colorama-0.4.6-py2.py3-none-any.whl (25 kB)\n",
            "Collecting shellingham<2.0.0,>=1.3.0 (from typer[all]<1.0,>=0.9->gradio)\n",
            "  Downloading shellingham-1.5.4-py2.py3-none-any.whl (9.8 kB)\n",
            "Requirement already satisfied: rich<14.0.0,>=10.11.0 in /usr/local/lib/python3.10/dist-packages (from typer[all]<1.0,>=0.9->gradio) (13.7.0)\n",
            "Collecting h11>=0.8 (from uvicorn>=0.14.0->gradio)\n",
            "  Downloading h11-0.14.0-py3-none-any.whl (58 kB)\n",
            "\u001b[2K     \u001b[90m━━━━━━━━━━━━━━━━━━━━━━━━━━━━━━━━━━━━━━━━\u001b[0m \u001b[32m58.3/58.3 kB\u001b[0m \u001b[31m4.4 MB/s\u001b[0m eta \u001b[36m0:00:00\u001b[0m\n",
            "\u001b[?25hCollecting starlette<0.37.0,>=0.36.3 (from fastapi->gradio)\n",
            "  Downloading starlette-0.36.3-py3-none-any.whl (71 kB)\n",
            "\u001b[2K     \u001b[90m━━━━━━━━━━━━━━━━━━━━━━━━━━━━━━━━━━━━━━━━\u001b[0m \u001b[32m71.5/71.5 kB\u001b[0m \u001b[31m9.1 MB/s\u001b[0m eta \u001b[36m0:00:00\u001b[0m\n",
            "\u001b[?25hRequirement already satisfied: anyio in /usr/local/lib/python3.10/dist-packages (from httpx->gradio) (3.7.1)\n",
            "Requirement already satisfied: certifi in /usr/local/lib/python3.10/dist-packages (from httpx->gradio) (2024.2.2)\n",
            "Collecting httpcore==1.* (from httpx->gradio)\n",
            "  Downloading httpcore-1.0.2-py3-none-any.whl (76 kB)\n",
            "\u001b[2K     \u001b[90m━━━━━━━━━━━━━━━━━━━━━━━━━━━━━━━━━━━━━━━━\u001b[0m \u001b[32m76.9/76.9 kB\u001b[0m \u001b[31m9.7 MB/s\u001b[0m eta \u001b[36m0:00:00\u001b[0m\n",
            "\u001b[?25hRequirement already satisfied: idna in /usr/local/lib/python3.10/dist-packages (from httpx->gradio) (3.6)\n",
            "Requirement already satisfied: sniffio in /usr/local/lib/python3.10/dist-packages (from httpx->gradio) (1.3.0)\n",
            "Requirement already satisfied: attrs>=22.2.0 in /usr/local/lib/python3.10/dist-packages (from jsonschema>=3.0->altair<6.0,>=4.2.0->gradio) (23.2.0)\n",
            "Requirement already satisfied: jsonschema-specifications>=2023.03.6 in /usr/local/lib/python3.10/dist-packages (from jsonschema>=3.0->altair<6.0,>=4.2.0->gradio) (2023.12.1)\n",
            "Requirement already satisfied: referencing>=0.28.4 in /usr/local/lib/python3.10/dist-packages (from jsonschema>=3.0->altair<6.0,>=4.2.0->gradio) (0.33.0)\n",
            "Requirement already satisfied: rpds-py>=0.7.1 in /usr/local/lib/python3.10/dist-packages (from jsonschema>=3.0->altair<6.0,>=4.2.0->gradio) (0.17.1)\n",
            "Requirement already satisfied: six>=1.5 in /usr/local/lib/python3.10/dist-packages (from python-dateutil>=2.7->matplotlib~=3.0->gradio) (1.16.0)\n",
            "Requirement already satisfied: markdown-it-py>=2.2.0 in /usr/local/lib/python3.10/dist-packages (from rich<14.0.0,>=10.11.0->typer[all]<1.0,>=0.9->gradio) (3.0.0)\n",
            "Requirement already satisfied: pygments<3.0.0,>=2.13.0 in /usr/local/lib/python3.10/dist-packages (from rich<14.0.0,>=10.11.0->typer[all]<1.0,>=0.9->gradio) (2.16.1)\n",
            "Requirement already satisfied: exceptiongroup in /usr/local/lib/python3.10/dist-packages (from anyio->httpx->gradio) (1.2.0)\n",
            "Requirement already satisfied: charset-normalizer<4,>=2 in /usr/local/lib/python3.10/dist-packages (from requests->huggingface-hub>=0.19.3->gradio) (3.3.2)\n",
            "Requirement already satisfied: urllib3<3,>=1.21.1 in /usr/local/lib/python3.10/dist-packages (from requests->huggingface-hub>=0.19.3->gradio) (2.0.7)\n",
            "Requirement already satisfied: mdurl~=0.1 in /usr/local/lib/python3.10/dist-packages (from markdown-it-py>=2.2.0->rich<14.0.0,>=10.11.0->typer[all]<1.0,>=0.9->gradio) (0.1.2)\n",
            "Building wheels for collected packages: ffmpy\n",
            "  Building wheel for ffmpy (setup.py) ... \u001b[?25l\u001b[?25hdone\n",
            "  Created wheel for ffmpy: filename=ffmpy-0.3.2-py3-none-any.whl size=5584 sha256=f00a8f000abf1d3298db7e25e004b6f5c46b6fd54fac6a972b0a270e441cd5d6\n",
            "  Stored in directory: /root/.cache/pip/wheels/bd/65/9a/671fc6dcde07d4418df0c592f8df512b26d7a0029c2a23dd81\n",
            "Successfully built ffmpy\n",
            "Installing collected packages: pydub, ffmpy, websockets, tomlkit, shellingham, semantic-version, ruff, python-multipart, orjson, h11, colorama, aiofiles, uvicorn, starlette, httpcore, httpx, fastapi, gradio-client, gradio\n",
            "\u001b[31mERROR: pip's dependency resolver does not currently take into account all the packages that are installed. This behaviour is the source of the following dependency conflicts.\n",
            "lida 0.0.10 requires kaleido, which is not installed.\u001b[0m\u001b[31m\n",
            "\u001b[0mSuccessfully installed aiofiles-23.2.1 colorama-0.4.6 fastapi-0.109.2 ffmpy-0.3.2 gradio-4.18.0 gradio-client-0.10.0 h11-0.14.0 httpcore-1.0.2 httpx-0.26.0 orjson-3.9.13 pydub-0.25.1 python-multipart-0.0.9 ruff-0.2.1 semantic-version-2.10.0 shellingham-1.5.4 starlette-0.36.3 tomlkit-0.12.0 uvicorn-0.27.1 websockets-11.0.3\n"
          ]
        }
      ]
    },
    {
      "cell_type": "code",
      "source": [
        "!pip install matplotlib-venn"
      ],
      "metadata": {
        "colab": {
          "base_uri": "https://localhost:8080/"
        },
        "id": "5eFvxDcUNriQ",
        "outputId": "e2948edc-887b-4b27-8810-6bdd69da6c02"
      },
      "execution_count": 56,
      "outputs": [
        {
          "output_type": "stream",
          "name": "stdout",
          "text": [
            "Requirement already satisfied: matplotlib-venn in /usr/local/lib/python3.10/dist-packages (0.11.10)\n",
            "Requirement already satisfied: matplotlib in /usr/local/lib/python3.10/dist-packages (from matplotlib-venn) (3.7.1)\n",
            "Requirement already satisfied: numpy in /usr/local/lib/python3.10/dist-packages (from matplotlib-venn) (1.23.5)\n",
            "Requirement already satisfied: scipy in /usr/local/lib/python3.10/dist-packages (from matplotlib-venn) (1.11.4)\n",
            "Requirement already satisfied: contourpy>=1.0.1 in /usr/local/lib/python3.10/dist-packages (from matplotlib->matplotlib-venn) (1.2.0)\n",
            "Requirement already satisfied: cycler>=0.10 in /usr/local/lib/python3.10/dist-packages (from matplotlib->matplotlib-venn) (0.12.1)\n",
            "Requirement already satisfied: fonttools>=4.22.0 in /usr/local/lib/python3.10/dist-packages (from matplotlib->matplotlib-venn) (4.48.1)\n",
            "Requirement already satisfied: kiwisolver>=1.0.1 in /usr/local/lib/python3.10/dist-packages (from matplotlib->matplotlib-venn) (1.4.5)\n",
            "Requirement already satisfied: packaging>=20.0 in /usr/local/lib/python3.10/dist-packages (from matplotlib->matplotlib-venn) (23.2)\n",
            "Requirement already satisfied: pillow>=6.2.0 in /usr/local/lib/python3.10/dist-packages (from matplotlib->matplotlib-venn) (9.4.0)\n",
            "Requirement already satisfied: pyparsing>=2.3.1 in /usr/local/lib/python3.10/dist-packages (from matplotlib->matplotlib-venn) (3.1.1)\n",
            "Requirement already satisfied: python-dateutil>=2.7 in /usr/local/lib/python3.10/dist-packages (from matplotlib->matplotlib-venn) (2.8.2)\n",
            "Requirement already satisfied: six>=1.5 in /usr/local/lib/python3.10/dist-packages (from python-dateutil>=2.7->matplotlib->matplotlib-venn) (1.16.0)\n"
          ]
        }
      ]
    },
    {
      "cell_type": "code",
      "source": [
        "!pip install gradio jinja2"
      ],
      "metadata": {
        "id": "Ar6qbP8JMBWo",
        "colab": {
          "base_uri": "https://localhost:8080/"
        },
        "outputId": "76b9b348-ee7a-424d-df93-416247e1149a"
      },
      "execution_count": 57,
      "outputs": [
        {
          "output_type": "stream",
          "name": "stdout",
          "text": [
            "Requirement already satisfied: gradio in /usr/local/lib/python3.10/dist-packages (4.18.0)\n",
            "Requirement already satisfied: jinja2 in /usr/local/lib/python3.10/dist-packages (3.1.3)\n",
            "Requirement already satisfied: aiofiles<24.0,>=22.0 in /usr/local/lib/python3.10/dist-packages (from gradio) (23.2.1)\n",
            "Requirement already satisfied: altair<6.0,>=4.2.0 in /usr/local/lib/python3.10/dist-packages (from gradio) (4.2.2)\n",
            "Requirement already satisfied: fastapi in /usr/local/lib/python3.10/dist-packages (from gradio) (0.109.2)\n",
            "Requirement already satisfied: ffmpy in /usr/local/lib/python3.10/dist-packages (from gradio) (0.3.2)\n",
            "Requirement already satisfied: gradio-client==0.10.0 in /usr/local/lib/python3.10/dist-packages (from gradio) (0.10.0)\n",
            "Requirement already satisfied: httpx in /usr/local/lib/python3.10/dist-packages (from gradio) (0.26.0)\n",
            "Requirement already satisfied: huggingface-hub>=0.19.3 in /usr/local/lib/python3.10/dist-packages (from gradio) (0.20.3)\n",
            "Requirement already satisfied: importlib-resources<7.0,>=1.3 in /usr/local/lib/python3.10/dist-packages (from gradio) (6.1.1)\n",
            "Requirement already satisfied: markupsafe~=2.0 in /usr/local/lib/python3.10/dist-packages (from gradio) (2.1.5)\n",
            "Requirement already satisfied: matplotlib~=3.0 in /usr/local/lib/python3.10/dist-packages (from gradio) (3.7.1)\n",
            "Requirement already satisfied: numpy~=1.0 in /usr/local/lib/python3.10/dist-packages (from gradio) (1.23.5)\n",
            "Requirement already satisfied: orjson~=3.0 in /usr/local/lib/python3.10/dist-packages (from gradio) (3.9.13)\n",
            "Requirement already satisfied: packaging in /usr/local/lib/python3.10/dist-packages (from gradio) (23.2)\n",
            "Requirement already satisfied: pandas<3.0,>=1.0 in /usr/local/lib/python3.10/dist-packages (from gradio) (1.5.3)\n",
            "Requirement already satisfied: pillow<11.0,>=8.0 in /usr/local/lib/python3.10/dist-packages (from gradio) (9.4.0)\n",
            "Requirement already satisfied: pydantic>=2.0 in /usr/local/lib/python3.10/dist-packages (from gradio) (2.6.1)\n",
            "Requirement already satisfied: pydub in /usr/local/lib/python3.10/dist-packages (from gradio) (0.25.1)\n",
            "Requirement already satisfied: python-multipart in /usr/local/lib/python3.10/dist-packages (from gradio) (0.0.9)\n",
            "Requirement already satisfied: pyyaml<7.0,>=5.0 in /usr/local/lib/python3.10/dist-packages (from gradio) (6.0.1)\n",
            "Requirement already satisfied: ruff>=0.1.7 in /usr/local/lib/python3.10/dist-packages (from gradio) (0.2.1)\n",
            "Requirement already satisfied: semantic-version~=2.0 in /usr/local/lib/python3.10/dist-packages (from gradio) (2.10.0)\n",
            "Requirement already satisfied: tomlkit==0.12.0 in /usr/local/lib/python3.10/dist-packages (from gradio) (0.12.0)\n",
            "Requirement already satisfied: typer[all]<1.0,>=0.9 in /usr/local/lib/python3.10/dist-packages (from gradio) (0.9.0)\n",
            "Requirement already satisfied: typing-extensions~=4.0 in /usr/local/lib/python3.10/dist-packages (from gradio) (4.9.0)\n",
            "Requirement already satisfied: uvicorn>=0.14.0 in /usr/local/lib/python3.10/dist-packages (from gradio) (0.27.1)\n",
            "Requirement already satisfied: fsspec in /usr/local/lib/python3.10/dist-packages (from gradio-client==0.10.0->gradio) (2023.6.0)\n",
            "Requirement already satisfied: websockets<12.0,>=10.0 in /usr/local/lib/python3.10/dist-packages (from gradio-client==0.10.0->gradio) (11.0.3)\n",
            "Requirement already satisfied: entrypoints in /usr/local/lib/python3.10/dist-packages (from altair<6.0,>=4.2.0->gradio) (0.4)\n",
            "Requirement already satisfied: jsonschema>=3.0 in /usr/local/lib/python3.10/dist-packages (from altair<6.0,>=4.2.0->gradio) (4.19.2)\n",
            "Requirement already satisfied: toolz in /usr/local/lib/python3.10/dist-packages (from altair<6.0,>=4.2.0->gradio) (0.12.1)\n",
            "Requirement already satisfied: filelock in /usr/local/lib/python3.10/dist-packages (from huggingface-hub>=0.19.3->gradio) (3.13.1)\n",
            "Requirement already satisfied: requests in /usr/local/lib/python3.10/dist-packages (from huggingface-hub>=0.19.3->gradio) (2.31.0)\n",
            "Requirement already satisfied: tqdm>=4.42.1 in /usr/local/lib/python3.10/dist-packages (from huggingface-hub>=0.19.3->gradio) (4.66.1)\n",
            "Requirement already satisfied: contourpy>=1.0.1 in /usr/local/lib/python3.10/dist-packages (from matplotlib~=3.0->gradio) (1.2.0)\n",
            "Requirement already satisfied: cycler>=0.10 in /usr/local/lib/python3.10/dist-packages (from matplotlib~=3.0->gradio) (0.12.1)\n",
            "Requirement already satisfied: fonttools>=4.22.0 in /usr/local/lib/python3.10/dist-packages (from matplotlib~=3.0->gradio) (4.48.1)\n",
            "Requirement already satisfied: kiwisolver>=1.0.1 in /usr/local/lib/python3.10/dist-packages (from matplotlib~=3.0->gradio) (1.4.5)\n",
            "Requirement already satisfied: pyparsing>=2.3.1 in /usr/local/lib/python3.10/dist-packages (from matplotlib~=3.0->gradio) (3.1.1)\n",
            "Requirement already satisfied: python-dateutil>=2.7 in /usr/local/lib/python3.10/dist-packages (from matplotlib~=3.0->gradio) (2.8.2)\n",
            "Requirement already satisfied: pytz>=2020.1 in /usr/local/lib/python3.10/dist-packages (from pandas<3.0,>=1.0->gradio) (2023.4)\n",
            "Requirement already satisfied: annotated-types>=0.4.0 in /usr/local/lib/python3.10/dist-packages (from pydantic>=2.0->gradio) (0.6.0)\n",
            "Requirement already satisfied: pydantic-core==2.16.2 in /usr/local/lib/python3.10/dist-packages (from pydantic>=2.0->gradio) (2.16.2)\n",
            "Requirement already satisfied: click<9.0.0,>=7.1.1 in /usr/local/lib/python3.10/dist-packages (from typer[all]<1.0,>=0.9->gradio) (8.1.7)\n",
            "Requirement already satisfied: colorama<0.5.0,>=0.4.3 in /usr/local/lib/python3.10/dist-packages (from typer[all]<1.0,>=0.9->gradio) (0.4.6)\n",
            "Requirement already satisfied: shellingham<2.0.0,>=1.3.0 in /usr/local/lib/python3.10/dist-packages (from typer[all]<1.0,>=0.9->gradio) (1.5.4)\n",
            "Requirement already satisfied: rich<14.0.0,>=10.11.0 in /usr/local/lib/python3.10/dist-packages (from typer[all]<1.0,>=0.9->gradio) (13.7.0)\n",
            "Requirement already satisfied: h11>=0.8 in /usr/local/lib/python3.10/dist-packages (from uvicorn>=0.14.0->gradio) (0.14.0)\n",
            "Requirement already satisfied: starlette<0.37.0,>=0.36.3 in /usr/local/lib/python3.10/dist-packages (from fastapi->gradio) (0.36.3)\n",
            "Requirement already satisfied: anyio in /usr/local/lib/python3.10/dist-packages (from httpx->gradio) (3.7.1)\n",
            "Requirement already satisfied: certifi in /usr/local/lib/python3.10/dist-packages (from httpx->gradio) (2024.2.2)\n",
            "Requirement already satisfied: httpcore==1.* in /usr/local/lib/python3.10/dist-packages (from httpx->gradio) (1.0.2)\n",
            "Requirement already satisfied: idna in /usr/local/lib/python3.10/dist-packages (from httpx->gradio) (3.6)\n",
            "Requirement already satisfied: sniffio in /usr/local/lib/python3.10/dist-packages (from httpx->gradio) (1.3.0)\n",
            "Requirement already satisfied: attrs>=22.2.0 in /usr/local/lib/python3.10/dist-packages (from jsonschema>=3.0->altair<6.0,>=4.2.0->gradio) (23.2.0)\n",
            "Requirement already satisfied: jsonschema-specifications>=2023.03.6 in /usr/local/lib/python3.10/dist-packages (from jsonschema>=3.0->altair<6.0,>=4.2.0->gradio) (2023.12.1)\n",
            "Requirement already satisfied: referencing>=0.28.4 in /usr/local/lib/python3.10/dist-packages (from jsonschema>=3.0->altair<6.0,>=4.2.0->gradio) (0.33.0)\n",
            "Requirement already satisfied: rpds-py>=0.7.1 in /usr/local/lib/python3.10/dist-packages (from jsonschema>=3.0->altair<6.0,>=4.2.0->gradio) (0.17.1)\n",
            "Requirement already satisfied: six>=1.5 in /usr/local/lib/python3.10/dist-packages (from python-dateutil>=2.7->matplotlib~=3.0->gradio) (1.16.0)\n",
            "Requirement already satisfied: markdown-it-py>=2.2.0 in /usr/local/lib/python3.10/dist-packages (from rich<14.0.0,>=10.11.0->typer[all]<1.0,>=0.9->gradio) (3.0.0)\n",
            "Requirement already satisfied: pygments<3.0.0,>=2.13.0 in /usr/local/lib/python3.10/dist-packages (from rich<14.0.0,>=10.11.0->typer[all]<1.0,>=0.9->gradio) (2.16.1)\n",
            "Requirement already satisfied: exceptiongroup in /usr/local/lib/python3.10/dist-packages (from anyio->httpx->gradio) (1.2.0)\n",
            "Requirement already satisfied: charset-normalizer<4,>=2 in /usr/local/lib/python3.10/dist-packages (from requests->huggingface-hub>=0.19.3->gradio) (3.3.2)\n",
            "Requirement already satisfied: urllib3<3,>=1.21.1 in /usr/local/lib/python3.10/dist-packages (from requests->huggingface-hub>=0.19.3->gradio) (2.0.7)\n",
            "Requirement already satisfied: mdurl~=0.1 in /usr/local/lib/python3.10/dist-packages (from markdown-it-py>=2.2.0->rich<14.0.0,>=10.11.0->typer[all]<1.0,>=0.9->gradio) (0.1.2)\n"
          ]
        }
      ]
    },
    {
      "cell_type": "code",
      "source": [
        "import gradio as gr"
      ],
      "metadata": {
        "id": "YxUc3SnEMgfY"
      },
      "execution_count": 58,
      "outputs": []
    },
    {
      "cell_type": "code",
      "source": [
        "model.save('toxicity.h5')"
      ],
      "metadata": {
        "colab": {
          "base_uri": "https://localhost:8080/"
        },
        "id": "vXiEGJSRTzfl",
        "outputId": "7da13725-46b0-44b3-c5ec-7afa85c5a889"
      },
      "execution_count": 60,
      "outputs": [
        {
          "output_type": "stream",
          "name": "stderr",
          "text": [
            "/usr/local/lib/python3.10/dist-packages/keras/src/engine/training.py:3103: UserWarning: You are saving your model as an HDF5 file via `model.save()`. This file format is considered legacy. We recommend using instead the native Keras format, e.g. `model.save('my_model.keras')`.\n",
            "  saving_api.save_model(\n"
          ]
        }
      ]
    },
    {
      "cell_type": "code",
      "source": [
        "%%writefile app.py\n",
        "from diffusers import AutoencoderKL, UNet2DConditionModel, StableDiffusionPipeline, StableDiffusionImg2ImgPipeline, DPMSolverMultistepScheduler\n",
        "import gradio as gr\n",
        "import torch\n",
        "from PIL import Image\n",
        "import utils\n",
        "import datetime\n",
        "import time\n",
        "import psutil\n",
        "import random\n",
        "\n",
        "\n",
        "start_time = time.time()\n",
        "is_colab = utils.is_google_colab()\n",
        "state = None\n",
        "current_steps = 25\n",
        "\n",
        "class Model:\n",
        "    def __init__(self, name, path=\"\", prefix=\"\"):\n",
        "        self.name = name\n",
        "        self.path = path\n",
        "        self.prefix = prefix\n",
        "        self.pipe_t2i = None\n",
        "        self.pipe_i2i = None\n",
        "\n",
        "models = [\n",
        "     Model(\"Arcane\", \"nitrosocke/Arcane-Diffusion\", \"arcane style \"),\n",
        "     Model(\"Dreamlike Diffusion 1.0\", \"dreamlike-art/dreamlike-diffusion-1.0\", \"dreamlikeart \"),\n",
        "     Model(\"Archer\", \"nitrosocke/archer-diffusion\", \"archer style \"),\n",
        "     Model(\"Anything V4\", \"andite/anything-v4.0\", \"\"),\n",
        "     Model(\"Modern Disney\", \"nitrosocke/mo-di-diffusion\", \"modern disney style \"),\n",
        "     Model(\"Classic Disney\", \"nitrosocke/classic-anim-diffusion\", \"classic disney style \"),\n",
        "     Model(\"Loving Vincent (Van Gogh)\", \"dallinmackay/Van-Gogh-diffusion\", \"lvngvncnt \"),\n",
        "     Model(\"Wavyfusion\", \"wavymulder/wavyfusion\", \"wa-vy style \"),\n",
        "     Model(\"Analog Diffusion\", \"wavymulder/Analog-Diffusion\", \"analog style \"),\n",
        "     Model(\"Redshift renderer (Cinema4D)\", \"nitrosocke/redshift-diffusion\", \"redshift style \"),\n",
        "     Model(\"Midjourney v4 style\", \"prompthero/midjourney-v4-diffusion\", \"mdjrny-v4 style \"),\n",
        "     Model(\"Waifu\", \"hakurei/waifu-diffusion\"),\n",
        "     Model(\"Cyberpunk Anime\", \"DGSpitzer/Cyberpunk-Anime-Diffusion\", \"dgs illustration style \"),\n",
        "     Model(\"Elden Ring\", \"nitrosocke/elden-ring-diffusion\", \"elden ring style \"),\n",
        "     Model(\"TrinArt v2\", \"naclbit/trinart_stable_diffusion_v2\"),\n",
        "     Model(\"Spider-Verse\", \"nitrosocke/spider-verse-diffusion\", \"spiderverse style \"),\n",
        "     Model(\"Balloon Art\", \"Fictiverse/Stable_Diffusion_BalloonArt_Model\", \"BalloonArt \"),\n",
        "     Model(\"Tron Legacy\", \"dallinmackay/Tron-Legacy-diffusion\", \"trnlgcy \"),\n",
        "     Model(\"Pokémon\", \"lambdalabs/sd-pokemon-diffusers\"),\n",
        "     Model(\"Pony Diffusion\", \"AstraliteHeart/pony-diffusion\"),\n",
        "     Model(\"Robo Diffusion\", \"nousr/robo-diffusion\"),\n",
        "     Model(\"Epic Diffusion\", \"johnslegers/epic-diffusion\")\n",
        "  ]\n",
        "\n",
        "custom_model = None\n",
        "if is_colab:\n",
        "  models.insert(0, Model(\"Custom model\"))\n",
        "  custom_model = models[0]\n",
        "\n",
        "last_mode = \"txt2img\"\n",
        "current_model = models[1] if is_colab else models[0]\n",
        "current_model_path = current_model.path\n",
        "\n",
        "if is_colab:\n",
        "  pipe = StableDiffusionPipeline.from_pretrained(\n",
        "      current_model.path,\n",
        "      torch_dtype=torch.float16,\n",
        "      scheduler=DPMSolverMultistepScheduler.from_pretrained(current_model.path, subfolder=\"scheduler\"),\n",
        "      safety_checker=lambda images, clip_input: (images, False)\n",
        "      )\n",
        "\n",
        "else:\n",
        "  pipe = StableDiffusionPipeline.from_pretrained(\n",
        "      current_model.path,\n",
        "      torch_dtype=torch.float16,\n",
        "      scheduler=DPMSolverMultistepScheduler.from_pretrained(current_model.path, subfolder=\"scheduler\")\n",
        "      )\n",
        "\n",
        "if torch.cuda.is_available():\n",
        "  pipe = pipe.to(\"cuda\")\n",
        "  pipe.enable_xformers_memory_efficient_attention()\n",
        "\n",
        "device = \"GPU 🔥\" if torch.cuda.is_available() else \"CPU 🥶\"\n",
        "\n",
        "def error_str(error, title=\"Error\"):\n",
        "    return f\"\"\"#### {title}\n",
        "            {error}\"\"\"  if error else \"\"\n",
        "\n",
        "def update_state(new_state):\n",
        "  global state\n",
        "  state = new_state\n",
        "\n",
        "def update_state_info(old_state):\n",
        "  if state and state != old_state:\n",
        "    return gr.update(value=state)\n",
        "\n",
        "def custom_model_changed(path):\n",
        "  models[0].path = path\n",
        "  global current_model\n",
        "  current_model = models[0]\n",
        "\n",
        "def on_model_change(model_name):\n",
        "\n",
        "  prefix = \"Enter prompt. \\\"\" + next((m.prefix for m in models if m.name == model_name), None) + \"\\\" is prefixed automatically\" if model_name != models[0].name else \"Don't forget to use the custom model prefix in the prompt!\"\n",
        "\n",
        "  return gr.update(visible = model_name == models[0].name), gr.update(placeholder=prefix)\n",
        "\n",
        "def on_steps_change(steps):\n",
        "  global current_steps\n",
        "  current_steps = steps\n",
        "\n",
        "def pipe_callback(step: int, timestep: int, latents: torch.FloatTensor):\n",
        "    update_state(f\"{step}/{current_steps} steps\")#\\nTime left, sec: {timestep/100:.0f}\")\n",
        "\n",
        "def inference(model_name, prompt, guidance, steps, n_images=1, width=512, height=512, seed=0, img=None, strength=0.5, neg_prompt=\"\"):\n",
        "\n",
        "  update_state(\" \")\n",
        "\n",
        "  print(psutil.virtual_memory()) # print memory usage\n",
        "\n",
        "  global current_model\n",
        "  for model in models:\n",
        "    if model.name == model_name:\n",
        "      current_model = model\n",
        "      model_path = current_model.path\n",
        "\n",
        "  # generator = torch.Generator('cuda').manual_seed(seed) if seed != 0 else None\n",
        "  if seed == 0:\n",
        "    seed = random.randint(0, 2147483647)\n",
        "\n",
        "  generator = torch.Generator('cuda').manual_seed(seed)\n",
        "\n",
        "  try:\n",
        "    if img is not None:\n",
        "      return img_to_img(model_path, prompt, n_images, neg_prompt, img, strength, guidance, steps, width, height, generator, seed), f\"Done. Seed: {seed}\"\n",
        "    else:\n",
        "      return txt_to_img(model_path, prompt, n_images, neg_prompt, guidance, steps, width, height, generator, seed), f\"Done. Seed: {seed}\"\n",
        "  except Exception as e:\n",
        "    return None, error_str(e)\n",
        "\n",
        "def txt_to_img(model_path, prompt, n_images, neg_prompt, guidance, steps, width, height, generator, seed):\n",
        "\n",
        "    print(f\"{datetime.datetime.now()} txt_to_img, model: {current_model.name}\")\n",
        "\n",
        "    global last_mode\n",
        "    global pipe\n",
        "    global current_model_path\n",
        "    if model_path != current_model_path or last_mode != \"txt2img\":\n",
        "        current_model_path = model_path\n",
        "\n",
        "        update_state(f\"Loading {current_model.name} text-to-image model...\")\n",
        "\n",
        "        if is_colab or current_model == custom_model:\n",
        "          pipe = StableDiffusionPipeline.from_pretrained(\n",
        "              current_model_path,\n",
        "              torch_dtype=torch.float16,\n",
        "              scheduler=DPMSolverMultistepScheduler.from_pretrained(current_model.path, subfolder=\"scheduler\"),\n",
        "              safety_checker=lambda images, clip_input: (images, False)\n",
        "              )\n",
        "        else:\n",
        "          pipe = StableDiffusionPipeline.from_pretrained(\n",
        "              current_model_path,\n",
        "              torch_dtype=torch.float16,\n",
        "              scheduler=DPMSolverMultistepScheduler.from_pretrained(current_model.path, subfolder=\"scheduler\")\n",
        "              )\n",
        "          # pipe = pipe.to(\"cpu\")\n",
        "          # pipe = current_model.pipe_t2i\n",
        "\n",
        "        if torch.cuda.is_available():\n",
        "          pipe = pipe.to(\"cuda\")\n",
        "          pipe.enable_xformers_memory_efficient_attention()\n",
        "        last_mode = \"txt2img\"\n",
        "\n",
        "    prompt = current_model.prefix + prompt\n",
        "    result = pipe(\n",
        "      prompt,\n",
        "      negative_prompt = neg_prompt,\n",
        "      num_images_per_prompt=n_images,\n",
        "      num_inference_steps = int(steps),\n",
        "      guidance_scale = guidance,\n",
        "      width = width,\n",
        "      height = height,\n",
        "      generator = generator,\n",
        "      callback=pipe_callback)\n",
        "\n",
        "    # update_state(f\"Done. Seed: {seed}\")\n",
        "\n",
        "    return replace_nsfw_images(result)\n",
        "\n",
        "def img_to_img(model_path, prompt, n_images, neg_prompt, img, strength, guidance, steps, width, height, generator, seed):\n",
        "\n",
        "    print(f\"{datetime.datetime.now()} img_to_img, model: {model_path}\")\n",
        "\n",
        "    global last_mode\n",
        "    global pipe\n",
        "    global current_model_path\n",
        "    if model_path != current_model_path or last_mode != \"img2img\":\n",
        "        current_model_path = model_path\n",
        "\n",
        "        update_state(f\"Loading {current_model.name} image-to-image model...\")\n",
        "\n",
        "        if is_colab or current_model == custom_model:\n",
        "          pipe = StableDiffusionImg2ImgPipeline.from_pretrained(\n",
        "              current_model_path,\n",
        "              torch_dtype=torch.float16,\n",
        "              scheduler=DPMSolverMultistepScheduler.from_pretrained(current_model.path, subfolder=\"scheduler\"),\n",
        "              safety_checker=lambda images, clip_input: (images, False)\n",
        "              )\n",
        "        else:\n",
        "          pipe = StableDiffusionImg2ImgPipeline.from_pretrained(\n",
        "              current_model_path,\n",
        "              torch_dtype=torch.float16,\n",
        "              scheduler=DPMSolverMultistepScheduler.from_pretrained(current_model.path, subfolder=\"scheduler\")\n",
        "              )\n",
        "          # pipe = pipe.to(\"cpu\")\n",
        "          # pipe = current_model.pipe_i2i\n",
        "\n",
        "        if torch.cuda.is_available():\n",
        "          pipe = pipe.to(\"cuda\")\n",
        "          pipe.enable_xformers_memory_efficient_attention()\n",
        "        last_mode = \"img2img\"\n",
        "\n",
        "    prompt = current_model.prefix + prompt\n",
        "    ratio = min(height / img.height, width / img.width)\n",
        "    img = img.resize((int(img.width * ratio), int(img.height * ratio)), Image.LANCZOS)\n",
        "    result = pipe(\n",
        "        prompt,\n",
        "        negative_prompt = neg_prompt,\n",
        "        num_images_per_prompt=n_images,\n",
        "        image = img,\n",
        "        num_inference_steps = int(steps),\n",
        "        strength = strength,\n",
        "        guidance_scale = guidance,\n",
        "        # width = width,\n",
        "        # height = height,\n",
        "        generator = generator,\n",
        "        callback=pipe_callback)\n",
        "\n",
        "    # update_state(f\"Done. Seed: {seed}\")\n",
        "\n",
        "    return replace_nsfw_images(result)\n",
        "\n",
        "def replace_nsfw_images(results):\n",
        "\n",
        "    if is_colab:\n",
        "      return results.images\n",
        "\n",
        "    for i in range(len(results.images)):\n",
        "      if results.nsfw_content_detected[i]:\n",
        "        results.images[i] = Image.open(\"nsfw.png\")\n",
        "    return results.images\n",
        "\n",
        "# css = \"\"\".finetuned-diffusion-div div{display:inline-flex;align-items:center;gap:.8rem;font-size:1.75rem}.finetuned-diffusion-div div h1{font-weight:900;margin-bottom:7px}.finetuned-diffusion-div p{margin-bottom:10px;font-size:94%}a{text-decoration:underline}.tabs{margin-top:0;margin-bottom:0}#gallery{min-height:20rem}\n",
        "# \"\"\"\n",
        "with gr.Blocks(css=\"style.css\") as demo:\n",
        "    gr.HTML(\n",
        "        f\"\"\"\n",
        "            <div class=\"finetuned-diffusion-div\">\n",
        "              <div>\n",
        "                <h1>Finetuned Diffusion</h1>\n",
        "              </div>\n",
        "              <p>\n",
        "               Demo for multiple fine-tuned Stable Diffusion models, trained on different styles: <br>\n",
        "               <a href=\"https://huggingface.co/nitrosocke/Arcane-Diffusion\">Arcane</a>, <a href=\"https://huggingface.co/nitrosocke/archer-diffusion\">Archer</a>, <a href=\"https://huggingface.co/nitrosocke/elden-ring-diffusion\">Elden Ring</a>, <a href=\"https://huggingface.co/nitrosocke/spider-verse-diffusion\">Spider-Verse</a>, <a href=\"https://huggingface.co/nitrosocke/mo-di-diffusion\">Modern Disney</a>, <a href=\"https://huggingface.co/nitrosocke/classic-anim-diffusion\">Classic Disney</a>, <a href=\"https://huggingface.co/dallinmackay/Van-Gogh-diffusion\">Loving Vincent (Van Gogh)</a>, <a href=\"https://huggingface.co/nitrosocke/redshift-diffusion\">Redshift renderer (Cinema4D)</a>, <a href=\"https://huggingface.co/prompthero/midjourney-v4-diffusion\">Midjourney v4 style</a>, <a href=\"https://huggingface.co/hakurei/waifu-diffusion\">Waifu</a>, <a href=\"https://huggingface.co/lambdalabs/sd-pokemon-diffusers\">Pokémon</a>, <a href=\"https://huggingface.co/AstraliteHeart/pony-diffusion\">Pony Diffusion</a>, <a href=\"https://huggingface.co/nousr/robo-diffusion\">Robo Diffusion</a>, <a href=\"https://huggingface.co/DGSpitzer/Cyberpunk-Anime-Diffusion\">Cyberpunk Anime</a>, <a href=\"https://huggingface.co/dallinmackay/Tron-Legacy-diffusion\">Tron Legacy</a>, <a href=\"https://huggingface.co/Fictiverse/Stable_Diffusion_BalloonArt_Model\">Balloon Art</a> + in colab notebook you can load any other Diffusers 🧨 SD model hosted on HuggingFace 🤗.\n",
        "              </p>\n",
        "              <p>You can skip the queue and load custom models in the colab: <a href=\"https://colab.research.google.com/gist/qunash/42112fb104509c24fd3aa6d1c11dd6e0/copy-of-fine-tuned-diffusion-gradio.ipynb\"><img data-canonical-src=\"https://colab.research.google.com/assets/colab-badge.svg\" alt=\"Open In Colab\" src=\"https://camo.githubusercontent.com/84f0493939e0c4de4e6dbe113251b4bfb5353e57134ffd9fcab6b8714514d4d1/68747470733a2f2f636f6c61622e72657365617263682e676f6f676c652e636f6d2f6173736574732f636f6c61622d62616467652e737667\"></a></p>\n",
        "               Running on <b>{device}</b>{(\" in a <b>Google Colab</b>.\" if is_colab else \"\")}\n",
        "              </p>\n",
        "              <p>You can also duplicate this space and upgrade to gpu by going to settings:<br>\n",
        "              <a style=\"display:inline-block\" href=\"https://huggingface.co/spaces/anzorq/finetuned_diffusion?duplicate=true\"><img src=\"https://img.shields.io/badge/-Duplicate%20Space-blue?labelColor=white&style=flat&logo=data:image/png;base64,iVBORw0KGgoAAAANSUhEUgAAABAAAAAQCAYAAAAf8/9hAAAAAXNSR0IArs4c6QAAAP5JREFUOE+lk7FqAkEURY+ltunEgFXS2sZGIbXfEPdLlnxJyDdYB62sbbUKpLbVNhyYFzbrrA74YJlh9r079973psed0cvUD4A+4HoCjsA85X0Dfn/RBLBgBDxnQPfAEJgBY+A9gALA4tcbamSzS4xq4FOQAJgCDwV2CPKV8tZAJcAjMMkUe1vX+U+SMhfAJEHasQIWmXNN3abzDwHUrgcRGmYcgKe0bxrblHEB4E/pndMazNpSZGcsZdBlYJcEL9Afo75molJyM2FxmPgmgPqlWNLGfwZGG6UiyEvLzHYDmoPkDDiNm9JR9uboiONcBXrpY1qmgs21x1QwyZcpvxt9NS09PlsPAAAAAElFTkSuQmCC&logoWidth=14\" alt=\"Duplicate Space\"></a></p>\n",
        "            </div>\n",
        "        \"\"\"\n",
        "    )\n",
        "    with gr.Row():\n",
        "\n",
        "        with gr.Column(scale=55):\n",
        "          with gr.Group():\n",
        "              model_name = gr.Dropdown(label=\"Model\", choices=[m.name for m in models], value=current_model.name)\n",
        "              with gr.Box(visible=False) as custom_model_group:\n",
        "                custom_model_path = gr.Textbox(label=\"Custom model path\", placeholder=\"Path to model, e.g. nitrosocke/Arcane-Diffusion\", interactive=True)\n",
        "                gr.HTML(\"<div><font size='2'>Custom models have to be downloaded first, so give it some time.</font></div>\")\n",
        "\n",
        "              with gr.Row():\n",
        "                prompt = gr.Textbox(label=\"Prompt\", show_label=False, max_lines=2,placeholder=\"Enter prompt. Style applied automatically\").style(container=False)\n",
        "                generate = gr.Button(value=\"Generate\").style(rounded=(False, True, True, False))\n",
        "\n",
        "\n",
        "              # image_out = gr.Image(height=512)\n",
        "              gallery = gr.Gallery(label=\"Generated images\", show_label=False, elem_id=\"gallery\").style(grid=[2], height=\"auto\")\n",
        "\n",
        "          state_info = gr.Textbox(label=\"State\", show_label=False, max_lines=2).style(container=False)\n",
        "          error_output = gr.Markdown()\n",
        "\n",
        "        with gr.Column(scale=45):\n",
        "          with gr.Tab(\"Options\"):\n",
        "            with gr.Group():\n",
        "              neg_prompt = gr.Textbox(label=\"Negative prompt\", placeholder=\"What to exclude from the image\")\n",
        "\n",
        "              n_images = gr.Slider(label=\"Images\", value=1, minimum=1, maximum=4, step=1)\n",
        "\n",
        "              with gr.Row():\n",
        "                guidance = gr.Slider(label=\"Guidance scale\", value=7.5, maximum=15)\n",
        "                steps = gr.Slider(label=\"Steps\", value=current_steps, minimum=2, maximum=75, step=1)\n",
        "\n",
        "              with gr.Row():\n",
        "                width = gr.Slider(label=\"Width\", value=512, minimum=64, maximum=1024, step=8)\n",
        "                height = gr.Slider(label=\"Height\", value=512, minimum=64, maximum=1024, step=8)\n",
        "\n",
        "              seed = gr.Slider(0, 2147483647, label='Seed (0 = random)', value=0, step=1)\n",
        "\n",
        "          with gr.Tab(\"Image to image\"):\n",
        "              with gr.Group():\n",
        "                image = gr.Image(label=\"Image\", height=256, tool=\"editor\", type=\"pil\")\n",
        "                strength = gr.Slider(label=\"Transformation strength\", minimum=0, maximum=1, step=0.01, value=0.5)\n",
        "\n",
        "    if is_colab:\n",
        "        model_name.change(on_model_change, inputs=model_name, outputs=[custom_model_group, prompt], queue=False)\n",
        "        custom_model_path.change(custom_model_changed, inputs=custom_model_path, outputs=None)\n",
        "    # n_images.change(lambda n: gr.Gallery().style(grid=[2 if n > 1 else 1], height=\"auto\"), inputs=n_images, outputs=gallery)\n",
        "    steps.change(on_steps_change, inputs=[steps], outputs=[], queue=False)\n",
        "\n",
        "    inputs = [model_name, prompt, guidance, steps, n_images, width, height, seed, image, strength, neg_prompt]\n",
        "    outputs = [gallery, error_output]\n",
        "    prompt.submit(inference, inputs=inputs, outputs=outputs)\n",
        "    generate.click(inference, inputs=inputs, outputs=outputs)\n",
        "\n",
        "    ex = gr.Examples([\n",
        "        [models[7].name, \"tiny cute and adorable kitten adventurer dressed in a warm overcoat with survival gear on a winters day\", 7.5, 25],\n",
        "        [models[4].name, \"portrait of dwayne johnson\", 7.0, 35],\n",
        "        [models[5].name, \"portrait of a beautiful alyx vance half life\", 10, 25],\n",
        "        [models[6].name, \"Aloy from Horizon: Zero Dawn, half body portrait, smooth, detailed armor, beautiful face, illustration\", 7.0, 30],\n",
        "        [models[5].name, \"fantasy portrait painting, digital art\", 4.0, 20],\n",
        "    ], inputs=[model_name, prompt, guidance, steps], outputs=outputs, fn=inference, cache_examples=False)\n",
        "\n",
        "    gr.HTML(\"\"\"\n",
        "    <div style=\"border-top: 1px solid #303030;\">\n",
        "      <br>\n",
        "      <p>Models by <a href=\"https://huggingface.co/nitrosocke\">@nitrosocke</a>, <a href=\"https://twitter.com/haruu1367\">@haruu1367</a>, <a href=\"https://twitter.com/DGSpitzer\">@Helixngc7293</a>, <a href=\"https://twitter.com/dal_mack\">@dal_mack</a>, <a href=\"https://twitter.com/prompthero\">@prompthero</a> and others. ❤️</p>\n",
        "      <p>This space uses the <a href=\"https://github.com/LuChengTHU/dpm-solver\">DPM-Solver++</a> sampler by <a href=\"https://arxiv.org/abs/2206.00927\">Cheng Lu, et al.</a>.</p>\n",
        "      <p>Space by:<br>\n",
        "      <a href=\"https://twitter.com/hahahahohohe\"><img src=\"https://img.shields.io/twitter/follow/hahahahohohe?label=%40anzorq&style=social\" alt=\"Twitter Follow\"></a><br>\n",
        "      <a href=\"https://github.com/qunash\"><img alt=\"GitHub followers\" src=\"https://img.shields.io/github/followers/qunash?style=social\" alt=\"Github Follow\"></a></p><br><br>\n",
        "      <a href=\"https://www.buymeacoffee.com/anzorq\" target=\"_blank\"><img src=\"https://cdn.buymeacoffee.com/buttons/v2/default-yellow.png\" alt=\"Buy Me A Coffee\" style=\"height: 45px !important;width: 162px !important;\" ></a><br><br>\n",
        "      <p><img src=\"https://visitor-badge.glitch.me/badge?page_id=anzorq.finetuned_diffusion\" alt=\"visitors\"></p>\n",
        "    </div>\n",
        "    \"\"\")\n",
        "\n",
        "    demo.load(update_state_info, inputs=state_info, outputs=state_info, every=0.5, show_progress=False)\n",
        "\n",
        "print(f\"Space built in {time.time() - start_time:.2f} seconds\")\n",
        "\n",
        "# if not is_colab:\n",
        "demo.queue(concurrency_count=1)\n",
        "demo.launch(debug=is_colab, share=is_colab)\n"
      ],
      "metadata": {
        "colab": {
          "base_uri": "https://localhost:8080/"
        },
        "id": "JLMzi7nJ7qjP",
        "outputId": "91bbbf78-aaf3-4a88-e236-c3bc9b27a720"
      },
      "execution_count": null,
      "outputs": [
        {
          "output_type": "stream",
          "name": "stdout",
          "text": [
            "Overwriting app.py\n"
          ]
        }
      ]
    },
    {
      "cell_type": "code",
      "source": [
        "model=tf.keras.models.load_model('toxicity.h5')"
      ],
      "metadata": {
        "id": "no5yv9ieDdwg"
      },
      "execution_count": 62,
      "outputs": []
    },
    {
      "cell_type": "code",
      "source": [
        "inp_str=vectorizer(\"hey i hate you!\")"
      ],
      "metadata": {
        "id": "4eqpqGtjEFQ8"
      },
      "execution_count": 63,
      "outputs": []
    },
    {
      "cell_type": "code",
      "source": [
        "res=model.predict(np.expand_dims(inp_str,0))"
      ],
      "metadata": {
        "colab": {
          "base_uri": "https://localhost:8080/"
        },
        "id": "isL27F3hEQz-",
        "outputId": "edb24b1b-14c6-4c8a-ce9d-2e846f4f0bf6"
      },
      "execution_count": 65,
      "outputs": [
        {
          "output_type": "stream",
          "name": "stdout",
          "text": [
            "1/1 [==============================] - 1s 931ms/step\n"
          ]
        }
      ]
    },
    {
      "cell_type": "code",
      "source": [
        "res"
      ],
      "metadata": {
        "colab": {
          "base_uri": "https://localhost:8080/"
        },
        "id": "3_ph5aR_EgZW",
        "outputId": "eb71d7ba-7af8-416e-d9de-e45d6e30b9ff"
      },
      "execution_count": 66,
      "outputs": [
        {
          "output_type": "execute_result",
          "data": {
            "text/plain": [
              "array([[0.5100883 , 0.0198322 , 0.17340647, 0.03250339, 0.20615563,\n",
              "        0.0486983 ]], dtype=float32)"
            ]
          },
          "metadata": {},
          "execution_count": 66
        }
      ]
    },
    {
      "cell_type": "code",
      "source": [
        "def score_comment(comment):\n",
        "  vectorized_comment=vectorizer([comment])\n",
        "  results=model.predict(vectorized_comment)\n",
        "\n",
        "  text=''\n",
        "  for idx, col in enumerate(df.columns[2:]):\n",
        "      text+='{}:{}\\n'.format(col,results[0][idx]>0.5)\n",
        "  return text"
      ],
      "metadata": {
        "id": "TEJ_oNB1E39j"
      },
      "execution_count": 67,
      "outputs": []
    },
    {
      "cell_type": "code",
      "source": [
        "!pip install gradio"
      ],
      "metadata": {
        "colab": {
          "base_uri": "https://localhost:8080/"
        },
        "id": "QVQpX4dLVAjE",
        "outputId": "ab1a4bfc-cd81-4212-9138-84109f487462"
      },
      "execution_count": 69,
      "outputs": [
        {
          "output_type": "stream",
          "name": "stdout",
          "text": [
            "Requirement already satisfied: gradio in /usr/local/lib/python3.10/dist-packages (4.18.0)\n",
            "Requirement already satisfied: aiofiles<24.0,>=22.0 in /usr/local/lib/python3.10/dist-packages (from gradio) (23.2.1)\n",
            "Requirement already satisfied: altair<6.0,>=4.2.0 in /usr/local/lib/python3.10/dist-packages (from gradio) (4.2.2)\n",
            "Requirement already satisfied: fastapi in /usr/local/lib/python3.10/dist-packages (from gradio) (0.109.2)\n",
            "Requirement already satisfied: ffmpy in /usr/local/lib/python3.10/dist-packages (from gradio) (0.3.2)\n",
            "Requirement already satisfied: gradio-client==0.10.0 in /usr/local/lib/python3.10/dist-packages (from gradio) (0.10.0)\n",
            "Requirement already satisfied: httpx in /usr/local/lib/python3.10/dist-packages (from gradio) (0.26.0)\n",
            "Requirement already satisfied: huggingface-hub>=0.19.3 in /usr/local/lib/python3.10/dist-packages (from gradio) (0.20.3)\n",
            "Requirement already satisfied: importlib-resources<7.0,>=1.3 in /usr/local/lib/python3.10/dist-packages (from gradio) (6.1.1)\n",
            "Requirement already satisfied: jinja2<4.0 in /usr/local/lib/python3.10/dist-packages (from gradio) (3.1.3)\n",
            "Requirement already satisfied: markupsafe~=2.0 in /usr/local/lib/python3.10/dist-packages (from gradio) (2.1.5)\n",
            "Requirement already satisfied: matplotlib~=3.0 in /usr/local/lib/python3.10/dist-packages (from gradio) (3.7.1)\n",
            "Requirement already satisfied: numpy~=1.0 in /usr/local/lib/python3.10/dist-packages (from gradio) (1.23.5)\n",
            "Requirement already satisfied: orjson~=3.0 in /usr/local/lib/python3.10/dist-packages (from gradio) (3.9.13)\n",
            "Requirement already satisfied: packaging in /usr/local/lib/python3.10/dist-packages (from gradio) (23.2)\n",
            "Requirement already satisfied: pandas<3.0,>=1.0 in /usr/local/lib/python3.10/dist-packages (from gradio) (1.5.3)\n",
            "Requirement already satisfied: pillow<11.0,>=8.0 in /usr/local/lib/python3.10/dist-packages (from gradio) (9.4.0)\n",
            "Requirement already satisfied: pydantic>=2.0 in /usr/local/lib/python3.10/dist-packages (from gradio) (2.6.1)\n",
            "Requirement already satisfied: pydub in /usr/local/lib/python3.10/dist-packages (from gradio) (0.25.1)\n",
            "Requirement already satisfied: python-multipart in /usr/local/lib/python3.10/dist-packages (from gradio) (0.0.9)\n",
            "Requirement already satisfied: pyyaml<7.0,>=5.0 in /usr/local/lib/python3.10/dist-packages (from gradio) (6.0.1)\n",
            "Requirement already satisfied: ruff>=0.1.7 in /usr/local/lib/python3.10/dist-packages (from gradio) (0.2.1)\n",
            "Requirement already satisfied: semantic-version~=2.0 in /usr/local/lib/python3.10/dist-packages (from gradio) (2.10.0)\n",
            "Requirement already satisfied: tomlkit==0.12.0 in /usr/local/lib/python3.10/dist-packages (from gradio) (0.12.0)\n",
            "Requirement already satisfied: typer[all]<1.0,>=0.9 in /usr/local/lib/python3.10/dist-packages (from gradio) (0.9.0)\n",
            "Requirement already satisfied: typing-extensions~=4.0 in /usr/local/lib/python3.10/dist-packages (from gradio) (4.9.0)\n",
            "Requirement already satisfied: uvicorn>=0.14.0 in /usr/local/lib/python3.10/dist-packages (from gradio) (0.27.1)\n",
            "Requirement already satisfied: fsspec in /usr/local/lib/python3.10/dist-packages (from gradio-client==0.10.0->gradio) (2023.6.0)\n",
            "Requirement already satisfied: websockets<12.0,>=10.0 in /usr/local/lib/python3.10/dist-packages (from gradio-client==0.10.0->gradio) (11.0.3)\n",
            "Requirement already satisfied: entrypoints in /usr/local/lib/python3.10/dist-packages (from altair<6.0,>=4.2.0->gradio) (0.4)\n",
            "Requirement already satisfied: jsonschema>=3.0 in /usr/local/lib/python3.10/dist-packages (from altair<6.0,>=4.2.0->gradio) (4.19.2)\n",
            "Requirement already satisfied: toolz in /usr/local/lib/python3.10/dist-packages (from altair<6.0,>=4.2.0->gradio) (0.12.1)\n",
            "Requirement already satisfied: filelock in /usr/local/lib/python3.10/dist-packages (from huggingface-hub>=0.19.3->gradio) (3.13.1)\n",
            "Requirement already satisfied: requests in /usr/local/lib/python3.10/dist-packages (from huggingface-hub>=0.19.3->gradio) (2.31.0)\n",
            "Requirement already satisfied: tqdm>=4.42.1 in /usr/local/lib/python3.10/dist-packages (from huggingface-hub>=0.19.3->gradio) (4.66.1)\n",
            "Requirement already satisfied: contourpy>=1.0.1 in /usr/local/lib/python3.10/dist-packages (from matplotlib~=3.0->gradio) (1.2.0)\n",
            "Requirement already satisfied: cycler>=0.10 in /usr/local/lib/python3.10/dist-packages (from matplotlib~=3.0->gradio) (0.12.1)\n",
            "Requirement already satisfied: fonttools>=4.22.0 in /usr/local/lib/python3.10/dist-packages (from matplotlib~=3.0->gradio) (4.48.1)\n",
            "Requirement already satisfied: kiwisolver>=1.0.1 in /usr/local/lib/python3.10/dist-packages (from matplotlib~=3.0->gradio) (1.4.5)\n",
            "Requirement already satisfied: pyparsing>=2.3.1 in /usr/local/lib/python3.10/dist-packages (from matplotlib~=3.0->gradio) (3.1.1)\n",
            "Requirement already satisfied: python-dateutil>=2.7 in /usr/local/lib/python3.10/dist-packages (from matplotlib~=3.0->gradio) (2.8.2)\n",
            "Requirement already satisfied: pytz>=2020.1 in /usr/local/lib/python3.10/dist-packages (from pandas<3.0,>=1.0->gradio) (2023.4)\n",
            "Requirement already satisfied: annotated-types>=0.4.0 in /usr/local/lib/python3.10/dist-packages (from pydantic>=2.0->gradio) (0.6.0)\n",
            "Requirement already satisfied: pydantic-core==2.16.2 in /usr/local/lib/python3.10/dist-packages (from pydantic>=2.0->gradio) (2.16.2)\n",
            "Requirement already satisfied: click<9.0.0,>=7.1.1 in /usr/local/lib/python3.10/dist-packages (from typer[all]<1.0,>=0.9->gradio) (8.1.7)\n",
            "Requirement already satisfied: colorama<0.5.0,>=0.4.3 in /usr/local/lib/python3.10/dist-packages (from typer[all]<1.0,>=0.9->gradio) (0.4.6)\n",
            "Requirement already satisfied: shellingham<2.0.0,>=1.3.0 in /usr/local/lib/python3.10/dist-packages (from typer[all]<1.0,>=0.9->gradio) (1.5.4)\n",
            "Requirement already satisfied: rich<14.0.0,>=10.11.0 in /usr/local/lib/python3.10/dist-packages (from typer[all]<1.0,>=0.9->gradio) (13.7.0)\n",
            "Requirement already satisfied: h11>=0.8 in /usr/local/lib/python3.10/dist-packages (from uvicorn>=0.14.0->gradio) (0.14.0)\n",
            "Requirement already satisfied: starlette<0.37.0,>=0.36.3 in /usr/local/lib/python3.10/dist-packages (from fastapi->gradio) (0.36.3)\n",
            "Requirement already satisfied: anyio in /usr/local/lib/python3.10/dist-packages (from httpx->gradio) (3.7.1)\n",
            "Requirement already satisfied: certifi in /usr/local/lib/python3.10/dist-packages (from httpx->gradio) (2024.2.2)\n",
            "Requirement already satisfied: httpcore==1.* in /usr/local/lib/python3.10/dist-packages (from httpx->gradio) (1.0.2)\n",
            "Requirement already satisfied: idna in /usr/local/lib/python3.10/dist-packages (from httpx->gradio) (3.6)\n",
            "Requirement already satisfied: sniffio in /usr/local/lib/python3.10/dist-packages (from httpx->gradio) (1.3.0)\n",
            "Requirement already satisfied: attrs>=22.2.0 in /usr/local/lib/python3.10/dist-packages (from jsonschema>=3.0->altair<6.0,>=4.2.0->gradio) (23.2.0)\n",
            "Requirement already satisfied: jsonschema-specifications>=2023.03.6 in /usr/local/lib/python3.10/dist-packages (from jsonschema>=3.0->altair<6.0,>=4.2.0->gradio) (2023.12.1)\n",
            "Requirement already satisfied: referencing>=0.28.4 in /usr/local/lib/python3.10/dist-packages (from jsonschema>=3.0->altair<6.0,>=4.2.0->gradio) (0.33.0)\n",
            "Requirement already satisfied: rpds-py>=0.7.1 in /usr/local/lib/python3.10/dist-packages (from jsonschema>=3.0->altair<6.0,>=4.2.0->gradio) (0.17.1)\n",
            "Requirement already satisfied: six>=1.5 in /usr/local/lib/python3.10/dist-packages (from python-dateutil>=2.7->matplotlib~=3.0->gradio) (1.16.0)\n",
            "Requirement already satisfied: markdown-it-py>=2.2.0 in /usr/local/lib/python3.10/dist-packages (from rich<14.0.0,>=10.11.0->typer[all]<1.0,>=0.9->gradio) (3.0.0)\n",
            "Requirement already satisfied: pygments<3.0.0,>=2.13.0 in /usr/local/lib/python3.10/dist-packages (from rich<14.0.0,>=10.11.0->typer[all]<1.0,>=0.9->gradio) (2.16.1)\n",
            "Requirement already satisfied: exceptiongroup in /usr/local/lib/python3.10/dist-packages (from anyio->httpx->gradio) (1.2.0)\n",
            "Requirement already satisfied: charset-normalizer<4,>=2 in /usr/local/lib/python3.10/dist-packages (from requests->huggingface-hub>=0.19.3->gradio) (3.3.2)\n",
            "Requirement already satisfied: urllib3<3,>=1.21.1 in /usr/local/lib/python3.10/dist-packages (from requests->huggingface-hub>=0.19.3->gradio) (2.0.7)\n",
            "Requirement already satisfied: mdurl~=0.1 in /usr/local/lib/python3.10/dist-packages (from markdown-it-py>=2.2.0->rich<14.0.0,>=10.11.0->typer[all]<1.0,>=0.9->gradio) (0.1.2)\n"
          ]
        }
      ]
    },
    {
      "cell_type": "code",
      "source": [
        "import gradio as gr\n",
        "\n",
        "def score_comment(comment):\n",
        "  # Your scoring logic here\n",
        "  return score\n",
        "\n",
        "interface = gr.Interface(\n",
        "  fn=score_comment,\n",
        "  inputs=gr.Textbox(lines=2, placeholder='comment to score'),\n",
        "  outputs=\"text\"\n",
        ")\n",
        "\n"
      ],
      "metadata": {
        "id": "CbTzbUERVEzE"
      },
      "execution_count": 85,
      "outputs": []
    },
    {
      "cell_type": "code",
      "source": [
        "interface.launch()"
      ],
      "metadata": {
        "colab": {
          "base_uri": "https://localhost:8080/",
          "height": 680
        },
        "id": "Y_7mg2tAZwxG",
        "outputId": "9aac6ec9-b684-444e-8984-417083661ef3"
      },
      "execution_count": 87,
      "outputs": [
        {
          "output_type": "stream",
          "name": "stdout",
          "text": [
            "Rerunning server... use `close()` to stop if you need to change `launch()` parameters.\n",
            "----\n",
            "Setting queue=True in a Colab notebook requires sharing enabled. Setting `share=True` (you can turn this off by setting `share=False` in `launch()` explicitly).\n",
            "\n",
            "Colab notebook detected. To show errors in colab notebook, set debug=True in launch()\n",
            "Running on public URL: https://1d7b895d68c6540809.gradio.live\n",
            "\n",
            "This share link expires in 72 hours. For free permanent hosting and GPU upgrades, run `gradio deploy` from Terminal to deploy to Spaces (https://huggingface.co/spaces)\n"
          ]
        },
        {
          "output_type": "display_data",
          "data": {
            "text/plain": [
              "<IPython.core.display.HTML object>"
            ],
            "text/html": [
              "<div><iframe src=\"https://1d7b895d68c6540809.gradio.live\" width=\"100%\" height=\"500\" allow=\"autoplay; camera; microphone; clipboard-read; clipboard-write;\" frameborder=\"0\" allowfullscreen></iframe></div>"
            ]
          },
          "metadata": {}
        },
        {
          "output_type": "execute_result",
          "data": {
            "text/plain": []
          },
          "metadata": {},
          "execution_count": 87
        }
      ]
    },
    {
      "cell_type": "code",
      "source": [
        "!pip install -Uqq ipdb\n",
        "import ipdb"
      ],
      "metadata": {
        "colab": {
          "base_uri": "https://localhost:8080/"
        },
        "id": "WsJLHn4qYtud",
        "outputId": "8f70ab6c-41de-4d33-a006-6cabee13296a"
      },
      "execution_count": 83,
      "outputs": [
        {
          "output_type": "stream",
          "name": "stdout",
          "text": [
            "\u001b[?25l     \u001b[90m━━━━━━━━━━━━━━━━━━━━━━━━━━━━━━━━━━━━━━━━\u001b[0m \u001b[32m0.0/1.6 MB\u001b[0m \u001b[31m?\u001b[0m eta \u001b[36m-:--:--\u001b[0m\r\u001b[2K     \u001b[91m━━━\u001b[0m\u001b[91m╸\u001b[0m\u001b[90m━━━━━━━━━━━━━━━━━━━━━━━━━━━━━━━━━━━━\u001b[0m \u001b[32m0.1/1.6 MB\u001b[0m \u001b[31m4.6 MB/s\u001b[0m eta \u001b[36m0:00:01\u001b[0m\r\u001b[2K     \u001b[91m━━━━━━━━━━\u001b[0m\u001b[90m╺\u001b[0m\u001b[90m━━━━━━━━━━━━━━━━━━━━━━━━━━━━━\u001b[0m \u001b[32m0.4/1.6 MB\u001b[0m \u001b[31m6.2 MB/s\u001b[0m eta \u001b[36m0:00:01\u001b[0m\r\u001b[2K     \u001b[91m━━━━━━━━━━━━━━━━━━\u001b[0m\u001b[91m╸\u001b[0m\u001b[90m━━━━━━━━━━━━━━━━━━━━━\u001b[0m \u001b[32m0.7/1.6 MB\u001b[0m \u001b[31m7.2 MB/s\u001b[0m eta \u001b[36m0:00:01\u001b[0m\r\u001b[2K     \u001b[91m━━━━━━━━━━━━━━━━━━━━━━━━━━━━\u001b[0m\u001b[91m╸\u001b[0m\u001b[90m━━━━━━━━━━━\u001b[0m \u001b[32m1.1/1.6 MB\u001b[0m \u001b[31m8.2 MB/s\u001b[0m eta \u001b[36m0:00:01\u001b[0m\r\u001b[2K     \u001b[91m━━━━━━━━━━━━━━━━━━━━━━━━━━━━━━━━━━━━━━━\u001b[0m\u001b[91m╸\u001b[0m \u001b[32m1.6/1.6 MB\u001b[0m \u001b[31m9.0 MB/s\u001b[0m eta \u001b[36m0:00:01\u001b[0m\r\u001b[2K     \u001b[90m━━━━━━━━━━━━━━━━━━━━━━━━━━━━━━━━━━━━━━━━\u001b[0m \u001b[32m1.6/1.6 MB\u001b[0m \u001b[31m8.0 MB/s\u001b[0m eta \u001b[36m0:00:00\u001b[0m\n",
            "\u001b[?25h"
          ]
        }
      ]
    },
    {
      "cell_type": "code",
      "source": [
        "%pdb on"
      ],
      "metadata": {
        "colab": {
          "base_uri": "https://localhost:8080/"
        },
        "id": "fFbdXCkUYhAv",
        "outputId": "d24cd46d-ed3a-4513-c789-266868059723"
      },
      "execution_count": 81,
      "outputs": [
        {
          "output_type": "stream",
          "name": "stdout",
          "text": [
            "Automatic pdb calling has been turned ON\n"
          ]
        }
      ]
    }
  ]
}