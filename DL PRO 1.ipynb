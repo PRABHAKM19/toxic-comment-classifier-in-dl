{
  "nbformat": 4,
  "nbformat_minor": 0,
  "metadata": {
    "colab": {
      "provenance": []
    },
    "kernelspec": {
      "name": "python3",
      "display_name": "Python 3"
    },
    "language_info": {
      "name": "python"
    }
  },
  "cells": [
    {
      "cell_type": "markdown",
      "source": [
        "1. IMPORTING LIBS AND **PACKAGES**"
      ],
      "metadata": {
        "id": "zuiHdp9h2oMw"
      }
    },
    {
      "cell_type": "code",
      "execution_count": null,
      "metadata": {
        "id": "kDevyJH10KQo"
      },
      "outputs": [],
      "source": [
        "import os\n",
        "import numpy as np\n",
        "import pandas as pd\n",
        "import tensorflow as tf"
      ]
    },
    {
      "cell_type": "code",
      "source": [
        "np.expand_dims??"
      ],
      "metadata": {
        "id": "A2gJfaNC2K5c"
      },
      "execution_count": null,
      "outputs": []
    },
    {
      "cell_type": "code",
      "source": [
        "os.path.join('/content/train.csv')"
      ],
      "metadata": {
        "colab": {
          "base_uri": "https://localhost:8080/",
          "height": 35
        },
        "id": "pm8a1y_N3gyV",
        "outputId": "2232f0bf-c3a5-4631-d02d-ff66dff60332"
      },
      "execution_count": null,
      "outputs": [
        {
          "output_type": "execute_result",
          "data": {
            "text/plain": [
              "'/content/train.csv'"
            ],
            "application/vnd.google.colaboratory.intrinsic+json": {
              "type": "string"
            }
          },
          "metadata": {},
          "execution_count": 55
        }
      ]
    },
    {
      "cell_type": "code",
      "source": [
        "data= pd.read_csv('train.csv', engine='python', encoding='utf8', error_bad_lines=False)"
      ],
      "metadata": {
        "id": "6aoRbRdV5V-U"
      },
      "execution_count": null,
      "outputs": []
    },
    {
      "cell_type": "code",
      "source": [
        "data.iloc[555]['comment_text']"
      ],
      "metadata": {
        "colab": {
          "base_uri": "https://localhost:8080/",
          "height": 87
        },
        "id": "DCoQq91M6ctZ",
        "outputId": "304339d4-4ac7-4c1c-aa5a-495b1bc1e5bd"
      },
      "execution_count": null,
      "outputs": [
        {
          "output_type": "execute_result",
          "data": {
            "text/plain": [
              "'\"\\n\\n Image \\n\\n Image deletion warning Image:Metroid Prime Hunter title screen, top display.jpg has been listed at Wikipedia:Images and media for deletion. If you feel that this image should not be deleted, please go there to voice your opinion.\\n 16:31, August 31, 2005 (UTC)\"'"
            ],
            "application/vnd.google.colaboratory.intrinsic+json": {
              "type": "string"
            }
          },
          "metadata": {},
          "execution_count": 7
        }
      ]
    },
    {
      "cell_type": "code",
      "source": [
        "data[data.columns[2:]].iloc[6]"
      ],
      "metadata": {
        "colab": {
          "base_uri": "https://localhost:8080/"
        },
        "id": "WQ2jx54H6fub",
        "outputId": "d53468e7-4cc7-4a5a-db56-5acefa80eb3a"
      },
      "execution_count": null,
      "outputs": [
        {
          "output_type": "execute_result",
          "data": {
            "text/plain": [
              "toxic            1\n",
              "severe_toxic     1\n",
              "obscene          1\n",
              "threat           0\n",
              "insult           1\n",
              "identity_hate    0\n",
              "Name: 6, dtype: int64"
            ]
          },
          "metadata": {},
          "execution_count": 8
        }
      ]
    },
    {
      "cell_type": "markdown",
      "source": [
        "2. PREPROCESSING\n"
      ],
      "metadata": {
        "id": "XJW66VFI7Jqc"
      }
    },
    {
      "cell_type": "code",
      "source": [
        "from tensorflow.keras.layers import TextVectorization"
      ],
      "metadata": {
        "id": "B1mcQ_ZK7Ofq"
      },
      "execution_count": null,
      "outputs": []
    },
    {
      "cell_type": "code",
      "source": [
        "X=data['comment_text']\n",
        "Y=data[data.columns[2:]].values"
      ],
      "metadata": {
        "id": "vf8thBES7brr"
      },
      "execution_count": null,
      "outputs": []
    },
    {
      "cell_type": "code",
      "source": [
        "X"
      ],
      "metadata": {
        "colab": {
          "base_uri": "https://localhost:8080/"
        },
        "id": "Ow74dlkH7zS7",
        "outputId": "e09265a7-faa8-4578-a5b1-48b4e4d24246"
      },
      "execution_count": null,
      "outputs": [
        {
          "output_type": "execute_result",
          "data": {
            "text/plain": [
              "0       Explanation\\nWhy the edits made under my usern...\n",
              "1       D'aww! He matches this background colour I'm s...\n",
              "2       Hey man, I'm really not trying to edit war. It...\n",
              "3       \"\\nMore\\nI can't make any real suggestions on ...\n",
              "4       You, sir, are my hero. Any chance you remember...\n",
              "                              ...                        \n",
              "7163    \"\\n\\n Please do not vandalize pages, as you di...\n",
              "7164    \"\\n I don't know the context, but you might fi...\n",
              "7165    Your source come from a Greek anti Albanian we...\n",
              "7166    There are no third party sources. And the ones...\n",
              "7167    Good idea. Let's continue the discussion at Ta...\n",
              "Name: comment_text, Length: 7168, dtype: object"
            ]
          },
          "metadata": {},
          "execution_count": 11
        }
      ]
    },
    {
      "cell_type": "code",
      "source": [
        "Y"
      ],
      "metadata": {
        "colab": {
          "base_uri": "https://localhost:8080/"
        },
        "id": "Phwq6oXd70m_",
        "outputId": "f99527f0-3b10-470d-fb8d-b47c6d98bc04"
      },
      "execution_count": null,
      "outputs": [
        {
          "output_type": "execute_result",
          "data": {
            "text/plain": [
              "array([[0, 0, 0, 0, 0, 0],\n",
              "       [0, 0, 0, 0, 0, 0],\n",
              "       [0, 0, 0, 0, 0, 0],\n",
              "       ...,\n",
              "       [0, 0, 0, 0, 0, 0],\n",
              "       [0, 0, 0, 0, 0, 0],\n",
              "       [0, 0, 0, 0, 0, 0]])"
            ]
          },
          "metadata": {},
          "execution_count": 12
        }
      ]
    },
    {
      "cell_type": "code",
      "source": [
        "data.columns[2:]"
      ],
      "metadata": {
        "colab": {
          "base_uri": "https://localhost:8080/"
        },
        "id": "bucCYN7o73RR",
        "outputId": "b87c6ff1-ca2c-4407-bfd8-8b062c33c095"
      },
      "execution_count": null,
      "outputs": [
        {
          "output_type": "execute_result",
          "data": {
            "text/plain": [
              "Index(['toxic', 'severe_toxic', 'obscene', 'threat', 'insult',\n",
              "       'identity_hate'],\n",
              "      dtype='object')"
            ]
          },
          "metadata": {},
          "execution_count": 13
        }
      ]
    },
    {
      "cell_type": "code",
      "source": [
        "data[data.columns[2:].values]"
      ],
      "metadata": {
        "colab": {
          "base_uri": "https://localhost:8080/",
          "height": 424
        },
        "id": "xYzfnp7g8YaG",
        "outputId": "9585917a-4c95-4e35-b8de-22287d518a93"
      },
      "execution_count": null,
      "outputs": [
        {
          "output_type": "execute_result",
          "data": {
            "text/plain": [
              "      toxic  severe_toxic  obscene  threat  insult  identity_hate\n",
              "0         0             0        0       0       0              0\n",
              "1         0             0        0       0       0              0\n",
              "2         0             0        0       0       0              0\n",
              "3         0             0        0       0       0              0\n",
              "4         0             0        0       0       0              0\n",
              "...     ...           ...      ...     ...     ...            ...\n",
              "7163      0             0        0       0       0              0\n",
              "7164      0             0        0       0       0              0\n",
              "7165      0             0        0       0       0              0\n",
              "7166      0             0        0       0       0              0\n",
              "7167      0             0        0       0       0              0\n",
              "\n",
              "[7168 rows x 6 columns]"
            ],
            "text/html": [
              "\n",
              "  <div id=\"df-923b9c7a-83e2-4031-8bd2-6c3c529000b7\" class=\"colab-df-container\">\n",
              "    <div>\n",
              "<style scoped>\n",
              "    .dataframe tbody tr th:only-of-type {\n",
              "        vertical-align: middle;\n",
              "    }\n",
              "\n",
              "    .dataframe tbody tr th {\n",
              "        vertical-align: top;\n",
              "    }\n",
              "\n",
              "    .dataframe thead th {\n",
              "        text-align: right;\n",
              "    }\n",
              "</style>\n",
              "<table border=\"1\" class=\"dataframe\">\n",
              "  <thead>\n",
              "    <tr style=\"text-align: right;\">\n",
              "      <th></th>\n",
              "      <th>toxic</th>\n",
              "      <th>severe_toxic</th>\n",
              "      <th>obscene</th>\n",
              "      <th>threat</th>\n",
              "      <th>insult</th>\n",
              "      <th>identity_hate</th>\n",
              "    </tr>\n",
              "  </thead>\n",
              "  <tbody>\n",
              "    <tr>\n",
              "      <th>0</th>\n",
              "      <td>0</td>\n",
              "      <td>0</td>\n",
              "      <td>0</td>\n",
              "      <td>0</td>\n",
              "      <td>0</td>\n",
              "      <td>0</td>\n",
              "    </tr>\n",
              "    <tr>\n",
              "      <th>1</th>\n",
              "      <td>0</td>\n",
              "      <td>0</td>\n",
              "      <td>0</td>\n",
              "      <td>0</td>\n",
              "      <td>0</td>\n",
              "      <td>0</td>\n",
              "    </tr>\n",
              "    <tr>\n",
              "      <th>2</th>\n",
              "      <td>0</td>\n",
              "      <td>0</td>\n",
              "      <td>0</td>\n",
              "      <td>0</td>\n",
              "      <td>0</td>\n",
              "      <td>0</td>\n",
              "    </tr>\n",
              "    <tr>\n",
              "      <th>3</th>\n",
              "      <td>0</td>\n",
              "      <td>0</td>\n",
              "      <td>0</td>\n",
              "      <td>0</td>\n",
              "      <td>0</td>\n",
              "      <td>0</td>\n",
              "    </tr>\n",
              "    <tr>\n",
              "      <th>4</th>\n",
              "      <td>0</td>\n",
              "      <td>0</td>\n",
              "      <td>0</td>\n",
              "      <td>0</td>\n",
              "      <td>0</td>\n",
              "      <td>0</td>\n",
              "    </tr>\n",
              "    <tr>\n",
              "      <th>...</th>\n",
              "      <td>...</td>\n",
              "      <td>...</td>\n",
              "      <td>...</td>\n",
              "      <td>...</td>\n",
              "      <td>...</td>\n",
              "      <td>...</td>\n",
              "    </tr>\n",
              "    <tr>\n",
              "      <th>7163</th>\n",
              "      <td>0</td>\n",
              "      <td>0</td>\n",
              "      <td>0</td>\n",
              "      <td>0</td>\n",
              "      <td>0</td>\n",
              "      <td>0</td>\n",
              "    </tr>\n",
              "    <tr>\n",
              "      <th>7164</th>\n",
              "      <td>0</td>\n",
              "      <td>0</td>\n",
              "      <td>0</td>\n",
              "      <td>0</td>\n",
              "      <td>0</td>\n",
              "      <td>0</td>\n",
              "    </tr>\n",
              "    <tr>\n",
              "      <th>7165</th>\n",
              "      <td>0</td>\n",
              "      <td>0</td>\n",
              "      <td>0</td>\n",
              "      <td>0</td>\n",
              "      <td>0</td>\n",
              "      <td>0</td>\n",
              "    </tr>\n",
              "    <tr>\n",
              "      <th>7166</th>\n",
              "      <td>0</td>\n",
              "      <td>0</td>\n",
              "      <td>0</td>\n",
              "      <td>0</td>\n",
              "      <td>0</td>\n",
              "      <td>0</td>\n",
              "    </tr>\n",
              "    <tr>\n",
              "      <th>7167</th>\n",
              "      <td>0</td>\n",
              "      <td>0</td>\n",
              "      <td>0</td>\n",
              "      <td>0</td>\n",
              "      <td>0</td>\n",
              "      <td>0</td>\n",
              "    </tr>\n",
              "  </tbody>\n",
              "</table>\n",
              "<p>7168 rows × 6 columns</p>\n",
              "</div>\n",
              "    <div class=\"colab-df-buttons\">\n",
              "\n",
              "  <div class=\"colab-df-container\">\n",
              "    <button class=\"colab-df-convert\" onclick=\"convertToInteractive('df-923b9c7a-83e2-4031-8bd2-6c3c529000b7')\"\n",
              "            title=\"Convert this dataframe to an interactive table.\"\n",
              "            style=\"display:none;\">\n",
              "\n",
              "  <svg xmlns=\"http://www.w3.org/2000/svg\" height=\"24px\" viewBox=\"0 -960 960 960\">\n",
              "    <path d=\"M120-120v-720h720v720H120Zm60-500h600v-160H180v160Zm220 220h160v-160H400v160Zm0 220h160v-160H400v160ZM180-400h160v-160H180v160Zm440 0h160v-160H620v160ZM180-180h160v-160H180v160Zm440 0h160v-160H620v160Z\"/>\n",
              "  </svg>\n",
              "    </button>\n",
              "\n",
              "  <style>\n",
              "    .colab-df-container {\n",
              "      display:flex;\n",
              "      gap: 12px;\n",
              "    }\n",
              "\n",
              "    .colab-df-convert {\n",
              "      background-color: #E8F0FE;\n",
              "      border: none;\n",
              "      border-radius: 50%;\n",
              "      cursor: pointer;\n",
              "      display: none;\n",
              "      fill: #1967D2;\n",
              "      height: 32px;\n",
              "      padding: 0 0 0 0;\n",
              "      width: 32px;\n",
              "    }\n",
              "\n",
              "    .colab-df-convert:hover {\n",
              "      background-color: #E2EBFA;\n",
              "      box-shadow: 0px 1px 2px rgba(60, 64, 67, 0.3), 0px 1px 3px 1px rgba(60, 64, 67, 0.15);\n",
              "      fill: #174EA6;\n",
              "    }\n",
              "\n",
              "    .colab-df-buttons div {\n",
              "      margin-bottom: 4px;\n",
              "    }\n",
              "\n",
              "    [theme=dark] .colab-df-convert {\n",
              "      background-color: #3B4455;\n",
              "      fill: #D2E3FC;\n",
              "    }\n",
              "\n",
              "    [theme=dark] .colab-df-convert:hover {\n",
              "      background-color: #434B5C;\n",
              "      box-shadow: 0px 1px 3px 1px rgba(0, 0, 0, 0.15);\n",
              "      filter: drop-shadow(0px 1px 2px rgba(0, 0, 0, 0.3));\n",
              "      fill: #FFFFFF;\n",
              "    }\n",
              "  </style>\n",
              "\n",
              "    <script>\n",
              "      const buttonEl =\n",
              "        document.querySelector('#df-923b9c7a-83e2-4031-8bd2-6c3c529000b7 button.colab-df-convert');\n",
              "      buttonEl.style.display =\n",
              "        google.colab.kernel.accessAllowed ? 'block' : 'none';\n",
              "\n",
              "      async function convertToInteractive(key) {\n",
              "        const element = document.querySelector('#df-923b9c7a-83e2-4031-8bd2-6c3c529000b7');\n",
              "        const dataTable =\n",
              "          await google.colab.kernel.invokeFunction('convertToInteractive',\n",
              "                                                    [key], {});\n",
              "        if (!dataTable) return;\n",
              "\n",
              "        const docLinkHtml = 'Like what you see? Visit the ' +\n",
              "          '<a target=\"_blank\" href=https://colab.research.google.com/notebooks/data_table.ipynb>data table notebook</a>'\n",
              "          + ' to learn more about interactive tables.';\n",
              "        element.innerHTML = '';\n",
              "        dataTable['output_type'] = 'display_data';\n",
              "        await google.colab.output.renderOutput(dataTable, element);\n",
              "        const docLink = document.createElement('div');\n",
              "        docLink.innerHTML = docLinkHtml;\n",
              "        element.appendChild(docLink);\n",
              "      }\n",
              "    </script>\n",
              "  </div>\n",
              "\n",
              "\n",
              "<div id=\"df-702b9286-4ad7-4c13-95d4-4b1a3e2e984c\">\n",
              "  <button class=\"colab-df-quickchart\" onclick=\"quickchart('df-702b9286-4ad7-4c13-95d4-4b1a3e2e984c')\"\n",
              "            title=\"Suggest charts\"\n",
              "            style=\"display:none;\">\n",
              "\n",
              "<svg xmlns=\"http://www.w3.org/2000/svg\" height=\"24px\"viewBox=\"0 0 24 24\"\n",
              "     width=\"24px\">\n",
              "    <g>\n",
              "        <path d=\"M19 3H5c-1.1 0-2 .9-2 2v14c0 1.1.9 2 2 2h14c1.1 0 2-.9 2-2V5c0-1.1-.9-2-2-2zM9 17H7v-7h2v7zm4 0h-2V7h2v10zm4 0h-2v-4h2v4z\"/>\n",
              "    </g>\n",
              "</svg>\n",
              "  </button>\n",
              "\n",
              "<style>\n",
              "  .colab-df-quickchart {\n",
              "      --bg-color: #E8F0FE;\n",
              "      --fill-color: #1967D2;\n",
              "      --hover-bg-color: #E2EBFA;\n",
              "      --hover-fill-color: #174EA6;\n",
              "      --disabled-fill-color: #AAA;\n",
              "      --disabled-bg-color: #DDD;\n",
              "  }\n",
              "\n",
              "  [theme=dark] .colab-df-quickchart {\n",
              "      --bg-color: #3B4455;\n",
              "      --fill-color: #D2E3FC;\n",
              "      --hover-bg-color: #434B5C;\n",
              "      --hover-fill-color: #FFFFFF;\n",
              "      --disabled-bg-color: #3B4455;\n",
              "      --disabled-fill-color: #666;\n",
              "  }\n",
              "\n",
              "  .colab-df-quickchart {\n",
              "    background-color: var(--bg-color);\n",
              "    border: none;\n",
              "    border-radius: 50%;\n",
              "    cursor: pointer;\n",
              "    display: none;\n",
              "    fill: var(--fill-color);\n",
              "    height: 32px;\n",
              "    padding: 0;\n",
              "    width: 32px;\n",
              "  }\n",
              "\n",
              "  .colab-df-quickchart:hover {\n",
              "    background-color: var(--hover-bg-color);\n",
              "    box-shadow: 0 1px 2px rgba(60, 64, 67, 0.3), 0 1px 3px 1px rgba(60, 64, 67, 0.15);\n",
              "    fill: var(--button-hover-fill-color);\n",
              "  }\n",
              "\n",
              "  .colab-df-quickchart-complete:disabled,\n",
              "  .colab-df-quickchart-complete:disabled:hover {\n",
              "    background-color: var(--disabled-bg-color);\n",
              "    fill: var(--disabled-fill-color);\n",
              "    box-shadow: none;\n",
              "  }\n",
              "\n",
              "  .colab-df-spinner {\n",
              "    border: 2px solid var(--fill-color);\n",
              "    border-color: transparent;\n",
              "    border-bottom-color: var(--fill-color);\n",
              "    animation:\n",
              "      spin 1s steps(1) infinite;\n",
              "  }\n",
              "\n",
              "  @keyframes spin {\n",
              "    0% {\n",
              "      border-color: transparent;\n",
              "      border-bottom-color: var(--fill-color);\n",
              "      border-left-color: var(--fill-color);\n",
              "    }\n",
              "    20% {\n",
              "      border-color: transparent;\n",
              "      border-left-color: var(--fill-color);\n",
              "      border-top-color: var(--fill-color);\n",
              "    }\n",
              "    30% {\n",
              "      border-color: transparent;\n",
              "      border-left-color: var(--fill-color);\n",
              "      border-top-color: var(--fill-color);\n",
              "      border-right-color: var(--fill-color);\n",
              "    }\n",
              "    40% {\n",
              "      border-color: transparent;\n",
              "      border-right-color: var(--fill-color);\n",
              "      border-top-color: var(--fill-color);\n",
              "    }\n",
              "    60% {\n",
              "      border-color: transparent;\n",
              "      border-right-color: var(--fill-color);\n",
              "    }\n",
              "    80% {\n",
              "      border-color: transparent;\n",
              "      border-right-color: var(--fill-color);\n",
              "      border-bottom-color: var(--fill-color);\n",
              "    }\n",
              "    90% {\n",
              "      border-color: transparent;\n",
              "      border-bottom-color: var(--fill-color);\n",
              "    }\n",
              "  }\n",
              "</style>\n",
              "\n",
              "  <script>\n",
              "    async function quickchart(key) {\n",
              "      const quickchartButtonEl =\n",
              "        document.querySelector('#' + key + ' button');\n",
              "      quickchartButtonEl.disabled = true;  // To prevent multiple clicks.\n",
              "      quickchartButtonEl.classList.add('colab-df-spinner');\n",
              "      try {\n",
              "        const charts = await google.colab.kernel.invokeFunction(\n",
              "            'suggestCharts', [key], {});\n",
              "      } catch (error) {\n",
              "        console.error('Error during call to suggestCharts:', error);\n",
              "      }\n",
              "      quickchartButtonEl.classList.remove('colab-df-spinner');\n",
              "      quickchartButtonEl.classList.add('colab-df-quickchart-complete');\n",
              "    }\n",
              "    (() => {\n",
              "      let quickchartButtonEl =\n",
              "        document.querySelector('#df-702b9286-4ad7-4c13-95d4-4b1a3e2e984c button');\n",
              "      quickchartButtonEl.style.display =\n",
              "        google.colab.kernel.accessAllowed ? 'block' : 'none';\n",
              "    })();\n",
              "  </script>\n",
              "</div>\n",
              "\n",
              "    </div>\n",
              "  </div>\n"
            ]
          },
          "metadata": {},
          "execution_count": 14
        }
      ]
    },
    {
      "cell_type": "code",
      "source": [
        "MAX_FEATURES=200000"
      ],
      "metadata": {
        "id": "MFwaGSdb8uCh"
      },
      "execution_count": null,
      "outputs": []
    },
    {
      "cell_type": "code",
      "source": [
        "vectorizer=TextVectorization(max_tokens = MAX_FEATURES,\n",
        "                             output_sequence_length=1800,\n",
        "                             output_mode='int')"
      ],
      "metadata": {
        "id": "cmvEmbh781pW"
      },
      "execution_count": null,
      "outputs": []
    },
    {
      "cell_type": "code",
      "source": [
        "type(X.values)"
      ],
      "metadata": {
        "id": "Qu_rOwtu-Tlh",
        "colab": {
          "base_uri": "https://localhost:8080/"
        },
        "outputId": "5d741102-563f-458c-8551-0e5f571ca065"
      },
      "execution_count": null,
      "outputs": [
        {
          "output_type": "execute_result",
          "data": {
            "text/plain": [
              "numpy.ndarray"
            ]
          },
          "metadata": {},
          "execution_count": 17
        }
      ]
    },
    {
      "cell_type": "code",
      "source": [
        "vectorizer.adapt(X.values)"
      ],
      "metadata": {
        "id": "Ox3QXld09npn"
      },
      "execution_count": null,
      "outputs": []
    },
    {
      "cell_type": "code",
      "source": [
        "vectorizer.get_vocabulary()"
      ],
      "metadata": {
        "colab": {
          "base_uri": "https://localhost:8080/"
        },
        "id": "f_xNxul1-jlP",
        "outputId": "aa69d3f6-d483-4627-d63b-ea53bd5d2719"
      },
      "execution_count": null,
      "outputs": [
        {
          "output_type": "execute_result",
          "data": {
            "text/plain": [
              "['',\n",
              " '[UNK]',\n",
              " 'the',\n",
              " 'to',\n",
              " 'of',\n",
              " 'and',\n",
              " 'a',\n",
              " 'i',\n",
              " 'you',\n",
              " 'is',\n",
              " 'that',\n",
              " 'in',\n",
              " 'it',\n",
              " 'for',\n",
              " 'this',\n",
              " 'not',\n",
              " 'on',\n",
              " 'be',\n",
              " 'as',\n",
              " 'are',\n",
              " 'have',\n",
              " 'with',\n",
              " 'your',\n",
              " 'if',\n",
              " 'was',\n",
              " 'article',\n",
              " 'or',\n",
              " 'but',\n",
              " 'page',\n",
              " 'my',\n",
              " 'an',\n",
              " 'do',\n",
              " 'by',\n",
              " 'from',\n",
              " 'at',\n",
              " 'me',\n",
              " 'about',\n",
              " 'so',\n",
              " 'what',\n",
              " 'can',\n",
              " 'wikipedia',\n",
              " 'there',\n",
              " 'all',\n",
              " 'has',\n",
              " 'will',\n",
              " 'would',\n",
              " 'like',\n",
              " 'its',\n",
              " 'one',\n",
              " 'no',\n",
              " 'talk',\n",
              " 'just',\n",
              " 'please',\n",
              " 'they',\n",
              " 'he',\n",
              " 'any',\n",
              " 'been',\n",
              " 'dont',\n",
              " 'which',\n",
              " 'we',\n",
              " 'his',\n",
              " 'other',\n",
              " 'more',\n",
              " 'here',\n",
              " 'see',\n",
              " 'should',\n",
              " 'some',\n",
              " 'who',\n",
              " 'also',\n",
              " 'im',\n",
              " 'because',\n",
              " 'know',\n",
              " 'think',\n",
              " 'how',\n",
              " 'then',\n",
              " 'up',\n",
              " 'why',\n",
              " 'edit',\n",
              " 'were',\n",
              " 'out',\n",
              " 'am',\n",
              " 'people',\n",
              " 'only',\n",
              " 'articles',\n",
              " 'fuck',\n",
              " 'ass',\n",
              " 'use',\n",
              " 'sex',\n",
              " 'go',\n",
              " 'did',\n",
              " 'now',\n",
              " 'when',\n",
              " 'their',\n",
              " 'time',\n",
              " 'being',\n",
              " 'may',\n",
              " 'than',\n",
              " 'get',\n",
              " 'thanks',\n",
              " 'even',\n",
              " 'make',\n",
              " 'hate',\n",
              " 'them',\n",
              " 'had',\n",
              " 'information',\n",
              " 'good',\n",
              " 'could',\n",
              " 'well',\n",
              " 'very',\n",
              " 'first',\n",
              " 'deletion',\n",
              " 'sources',\n",
              " 'way',\n",
              " 'want',\n",
              " 'yourself',\n",
              " 'does',\n",
              " 'pages',\n",
              " 'name',\n",
              " 'made',\n",
              " 'new',\n",
              " 'such',\n",
              " 'say',\n",
              " 'really',\n",
              " 'again',\n",
              " 'ive',\n",
              " 'user',\n",
              " 'section',\n",
              " 'where',\n",
              " 'these',\n",
              " 'used',\n",
              " 'need',\n",
              " 'much',\n",
              " 'source',\n",
              " 'edits',\n",
              " 'since',\n",
              " 'help',\n",
              " 'many',\n",
              " 'same',\n",
              " 'before',\n",
              " 'said',\n",
              " 'right',\n",
              " 'after',\n",
              " 'find',\n",
              " 'into',\n",
              " 'thank',\n",
              " 'those',\n",
              " 'editing',\n",
              " 'read',\n",
              " 'him',\n",
              " 'most',\n",
              " 'someone',\n",
              " 'discussion',\n",
              " 'two',\n",
              " 'too',\n",
              " 'still',\n",
              " 'own',\n",
              " 'fact',\n",
              " 'take',\n",
              " 'something',\n",
              " 'going',\n",
              " 'look',\n",
              " 'deleted',\n",
              " 'point',\n",
              " 'over',\n",
              " 'u',\n",
              " 'back',\n",
              " 'work',\n",
              " 'thats',\n",
              " 'sexsex',\n",
              " 'content',\n",
              " 'link',\n",
              " 'case',\n",
              " 'stop',\n",
              " 'image',\n",
              " 'under',\n",
              " 'better',\n",
              " 'might',\n",
              " 'utc',\n",
              " 'editors',\n",
              " 'never',\n",
              " 'another',\n",
              " 'youre',\n",
              " 'place',\n",
              " 'history',\n",
              " 'personal',\n",
              " 'both',\n",
              " 'blocked',\n",
              " 'us',\n",
              " 'list',\n",
              " 'block',\n",
              " 'sure',\n",
              " 'our',\n",
              " 'note',\n",
              " 'her',\n",
              " 'added',\n",
              " 'removed',\n",
              " 'without',\n",
              " 'using',\n",
              " 'add',\n",
              " 'question',\n",
              " 'doesnt',\n",
              " 'ask',\n",
              " 'reason',\n",
              " 'put',\n",
              " 'comment',\n",
              " 'cant',\n",
              " 'thing',\n",
              " 'person',\n",
              " 'done',\n",
              " 'anything',\n",
              " 'feel',\n",
              " 'while',\n",
              " 'however',\n",
              " 'off',\n",
              " 'didnt',\n",
              " 'come',\n",
              " 'part',\n",
              " 'welcome',\n",
              " 'against',\n",
              " 'though',\n",
              " 'vandalism',\n",
              " 'bot',\n",
              " 'hope',\n",
              " 'actually',\n",
              " 'policy',\n",
              " 'ill',\n",
              " 'things',\n",
              " 'little',\n",
              " 'believe',\n",
              " 'problem',\n",
              " 'she',\n",
              " 'seems',\n",
              " 'links',\n",
              " 'years',\n",
              " 'anyone',\n",
              " 'sorry',\n",
              " 'post',\n",
              " 'useless',\n",
              " 'free',\n",
              " 'best',\n",
              " 'homeland',\n",
              " 'making',\n",
              " 'comments',\n",
              " 'securityfuck',\n",
              " 'wiki',\n",
              " 'must',\n",
              " 'different',\n",
              " 'rather',\n",
              " 'change',\n",
              " 'users',\n",
              " 'others',\n",
              " 'last',\n",
              " 'isnt',\n",
              " 'hi',\n",
              " 'give',\n",
              " 'got',\n",
              " 'mean',\n",
              " 'long',\n",
              " 'agree',\n",
              " 'far',\n",
              " 'trying',\n",
              " 'remove',\n",
              " 'reference',\n",
              " 'delete',\n",
              " 'already',\n",
              " 'understand',\n",
              " 'few',\n",
              " 'editor',\n",
              " 'write',\n",
              " 'english',\n",
              " 'life',\n",
              " 'issue',\n",
              " 'nothing',\n",
              " 'keep',\n",
              " 'wrong',\n",
              " 'reliable',\n",
              " 'references',\n",
              " 'etc',\n",
              " 'great',\n",
              " 'above',\n",
              " 'subject',\n",
              " 'world',\n",
              " 'simply',\n",
              " 'every',\n",
              " 'try',\n",
              " 'example',\n",
              " 'between',\n",
              " 'let',\n",
              " 'through',\n",
              " 'speedy',\n",
              " 'either',\n",
              " 'clearly',\n",
              " 'says',\n",
              " 'evidence',\n",
              " 'original',\n",
              " 'leave',\n",
              " 'word',\n",
              " 'least',\n",
              " 'probably',\n",
              " 'bit',\n",
              " 'yes',\n",
              " 'around',\n",
              " 'opinion',\n",
              " 'id',\n",
              " 'having',\n",
              " 'enough',\n",
              " 'tag',\n",
              " 'text',\n",
              " 'doing',\n",
              " 'day',\n",
              " 'states',\n",
              " 'saying',\n",
              " 'fair',\n",
              " 'encyclopedia',\n",
              " 'else',\n",
              " 'found',\n",
              " 'account',\n",
              " '1',\n",
              " 'hello',\n",
              " '2',\n",
              " 'yet',\n",
              " 'continue',\n",
              " 'ip',\n",
              " 'material',\n",
              " 'down',\n",
              " 'called',\n",
              " 'support',\n",
              " 'state',\n",
              " 'show',\n",
              " 'created',\n",
              " 'thought',\n",
              " 'once',\n",
              " 'lot',\n",
              " 'site',\n",
              " 'questions',\n",
              " 'perhaps',\n",
              " 'important',\n",
              " 'check',\n",
              " 'true',\n",
              " 'statement',\n",
              " 'number',\n",
              " 'further',\n",
              " 'ever',\n",
              " 'book',\n",
              " 'message',\n",
              " 'version',\n",
              " 'copyright',\n",
              " 'term',\n",
              " 'call',\n",
              " 'adding',\n",
              " 'request',\n",
              " 'war',\n",
              " 'real',\n",
              " 'matter',\n",
              " 'consider',\n",
              " 'whether',\n",
              " 'several',\n",
              " 'needs',\n",
              " 'clear',\n",
              " 'reverted',\n",
              " 'images',\n",
              " 'quite',\n",
              " 'given',\n",
              " 'claim',\n",
              " 'tell',\n",
              " 'written',\n",
              " 'idea',\n",
              " 'each',\n",
              " 'words',\n",
              " 'times',\n",
              " 'maybe',\n",
              " 'correct',\n",
              " 'facts',\n",
              " 'title',\n",
              " 'research',\n",
              " 'changes',\n",
              " 'theres',\n",
              " 'second',\n",
              " 'instead',\n",
              " 'bad',\n",
              " 'address',\n",
              " 'consensus',\n",
              " 'makes',\n",
              " 'contributions',\n",
              " 'review',\n",
              " '3',\n",
              " 'view',\n",
              " 'possible',\n",
              " 'considered',\n",
              " 'cannot',\n",
              " 'notice',\n",
              " 'main',\n",
              " 'left',\n",
              " 'mention',\n",
              " 'following',\n",
              " 'criteria',\n",
              " 'website',\n",
              " 'until',\n",
              " 'means',\n",
              " 'always',\n",
              " 'year',\n",
              " 'seem',\n",
              " 'admin',\n",
              " 'language',\n",
              " 'based',\n",
              " 'notable',\n",
              " 'looking',\n",
              " 'explain',\n",
              " 'current',\n",
              " 'although',\n",
              " 'revert',\n",
              " 'regarding',\n",
              " 'old',\n",
              " 'course',\n",
              " 'wikipedias',\n",
              " 'three',\n",
              " 'pov',\n",
              " 'issues',\n",
              " 'including',\n",
              " 'guidelines',\n",
              " 'getting',\n",
              " '—',\n",
              " 'less',\n",
              " 'fucking',\n",
              " 'later',\n",
              " 'include',\n",
              " 'seen',\n",
              " 'ok',\n",
              " 'top',\n",
              " 'changed',\n",
              " 'project',\n",
              " 'claims',\n",
              " 'care',\n",
              " 'rules',\n",
              " 'man',\n",
              " 'general',\n",
              " 'date',\n",
              " 'attack',\n",
              " 'move',\n",
              " 'mentioned',\n",
              " 'end',\n",
              " 'political',\n",
              " 'myself',\n",
              " 'create',\n",
              " 'big',\n",
              " 'whole',\n",
              " 'provide',\n",
              " 'sense',\n",
              " 'group',\n",
              " 'start',\n",
              " 'recent',\n",
              " 'listed',\n",
              " 'known',\n",
              " 'suggest',\n",
              " 'specific',\n",
              " 'currently',\n",
              " 'stuff',\n",
              " 'kind',\n",
              " 'wont',\n",
              " 'answer',\n",
              " 'names',\n",
              " 'interest',\n",
              " 'according',\n",
              " 'redirect',\n",
              " 'public',\n",
              " 'position',\n",
              " 'lead',\n",
              " 'country',\n",
              " 'able',\n",
              " 'taken',\n",
              " 'per',\n",
              " 'oh',\n",
              " 'template',\n",
              " 'line',\n",
              " 'anyway',\n",
              " 'warning',\n",
              " 'attacks',\n",
              " 'wish',\n",
              " 'school',\n",
              " 'proposed',\n",
              " 'happy',\n",
              " 'full',\n",
              " 'wasnt',\n",
              " 'common',\n",
              " '4',\n",
              " '2005',\n",
              " 'nor',\n",
              " 'mind',\n",
              " 'during',\n",
              " 'order',\n",
              " 'included',\n",
              " 'within',\n",
              " 'style',\n",
              " 'response',\n",
              " 'party',\n",
              " 'appears',\n",
              " 'working',\n",
              " 'sentence',\n",
              " 'completely',\n",
              " 'appropriate',\n",
              " 'youve',\n",
              " 'relevant',\n",
              " 'next',\n",
              " 'present',\n",
              " 'media',\n",
              " 'love',\n",
              " 'king',\n",
              " 'hey',\n",
              " 'certainly',\n",
              " 'american',\n",
              " 'pretty',\n",
              " 'obviously',\n",
              " 'knowledge',\n",
              " 'info',\n",
              " 'form',\n",
              " 'days',\n",
              " 'wanted',\n",
              " 'username',\n",
              " 'single',\n",
              " 'removing',\n",
              " 'reasons',\n",
              " 'nice',\n",
              " 'especially',\n",
              " 'side',\n",
              " 'related',\n",
              " 'official',\n",
              " 'looks',\n",
              " 'government',\n",
              " 'everything',\n",
              " 'ago',\n",
              " 'writing',\n",
              " 'truth',\n",
              " 'talking',\n",
              " 'summary',\n",
              " 'started',\n",
              " 'sign',\n",
              " 'picture',\n",
              " 'news',\n",
              " 'live',\n",
              " 'interested',\n",
              " 'become',\n",
              " 'quote',\n",
              " 'neutral',\n",
              " 'away',\n",
              " 'united',\n",
              " 'topic',\n",
              " 'past',\n",
              " 'lets',\n",
              " 'email',\n",
              " 'today',\n",
              " 'therefore',\n",
              " 'stated',\n",
              " 'policies',\n",
              " 'havent',\n",
              " 'future',\n",
              " 'four',\n",
              " 'remember',\n",
              " 'major',\n",
              " 'community',\n",
              " 'came',\n",
              " '5',\n",
              " '2007',\n",
              " 'whatever',\n",
              " 'report',\n",
              " 'discuss',\n",
              " '2008',\n",
              " 'process',\n",
              " 'dispute',\n",
              " 'wrote',\n",
              " 'tried',\n",
              " 'taking',\n",
              " 'sort',\n",
              " 'notability',\n",
              " 'fucker',\n",
              " 'city',\n",
              " 'almost',\n",
              " 'actual',\n",
              " 'similar',\n",
              " 'noticed',\n",
              " 'asked',\n",
              " 'works',\n",
              " 'unless',\n",
              " 'published',\n",
              " 'itself',\n",
              " 'guy',\n",
              " 'guess',\n",
              " 'faith',\n",
              " 'company',\n",
              " 'cheers',\n",
              " 'went',\n",
              " 'rule',\n",
              " 'placed',\n",
              " 'open',\n",
              " 'homo',\n",
              " 'hard',\n",
              " 'game',\n",
              " 'false',\n",
              " 'definition',\n",
              " 'books',\n",
              " 'along',\n",
              " 'due',\n",
              " 'below',\n",
              " 'argument',\n",
              " 'appreciate',\n",
              " '2006',\n",
              " 'romney',\n",
              " 'posted',\n",
              " 'paragraph',\n",
              " 'mitt',\n",
              " 'learn',\n",
              " 'involved',\n",
              " 'improve',\n",
              " 'exactly',\n",
              " 'everyone',\n",
              " '•',\n",
              " 'wp',\n",
              " 'theory',\n",
              " 'reverting',\n",
              " 'reading',\n",
              " 'ie',\n",
              " 'cited',\n",
              " 'banned',\n",
              " 'web',\n",
              " 'views',\n",
              " 'stay',\n",
              " 'short',\n",
              " 'problems',\n",
              " 'often',\n",
              " 'entry',\n",
              " 'entire',\n",
              " 'conflict',\n",
              " 'band',\n",
              " 'type',\n",
              " 'stupid',\n",
              " 'story',\n",
              " 'statements',\n",
              " 'reply',\n",
              " 'internet',\n",
              " 'soon',\n",
              " 'shit',\n",
              " 'music',\n",
              " 'deleting',\n",
              " 'small',\n",
              " 'search',\n",
              " 'obvious',\n",
              " 'yeah',\n",
              " 'took',\n",
              " 'cities',\n",
              " 'certain',\n",
              " 'calling',\n",
              " 'admins',\n",
              " 'violation',\n",
              " 'themselves',\n",
              " 'system',\n",
              " 'regards',\n",
              " 'likely',\n",
              " 'law',\n",
              " 'cocksucker',\n",
              " 'various',\n",
              " 'sucks',\n",
              " 'provided',\n",
              " 'play',\n",
              " 'period',\n",
              " 'ones',\n",
              " 'generally',\n",
              " 'edited',\n",
              " 'death',\n",
              " 'british',\n",
              " 'area',\n",
              " 'vandalize',\n",
              " 'useful',\n",
              " 'mothjer',\n",
              " 'india',\n",
              " 'himself',\n",
              " 'hes',\n",
              " 'film',\n",
              " 'fggt',\n",
              " 'white',\n",
              " 'valid',\n",
              " 'sourced',\n",
              " 'science',\n",
              " 'respect',\n",
              " 'interesting',\n",
              " 'indeed',\n",
              " 'high',\n",
              " 'google',\n",
              " 'goes',\n",
              " 'external',\n",
              " 'explanation',\n",
              " 'cite',\n",
              " 'citations',\n",
              " 'university',\n",
              " 'north',\n",
              " 'moved',\n",
              " 'gay',\n",
              " 'avoid',\n",
              " 'alone',\n",
              " 'accurate',\n",
              " 'status',\n",
              " 'shut',\n",
              " 'otherwise',\n",
              " 'cause',\n",
              " 'attempt',\n",
              " 'appear',\n",
              " 'addition',\n",
              " 'thus',\n",
              " 'series',\n",
              " 'saw',\n",
              " 'sandbox',\n",
              " 'proper',\n",
              " 'npov',\n",
              " 'follow',\n",
              " 'black',\n",
              " '2004',\n",
              " '–',\n",
              " 'upon',\n",
              " 'third',\n",
              " 'shows',\n",
              " 'modern',\n",
              " 'legal',\n",
              " 'hours',\n",
              " 'comes',\n",
              " 'children',\n",
              " 'aware',\n",
              " 'told',\n",
              " 'rights',\n",
              " 'points',\n",
              " 'particular',\n",
              " 'needed',\n",
              " 'living',\n",
              " 'debate',\n",
              " 'context',\n",
              " 'assume',\n",
              " '2010',\n",
              " 'team',\n",
              " 're',\n",
              " 'mr',\n",
              " 'members',\n",
              " 'lion',\n",
              " 'greek',\n",
              " 'five',\n",
              " 'exist',\n",
              " 'disagree',\n",
              " 'culture',\n",
              " 'worked',\n",
              " 'serious',\n",
              " 'multiple',\n",
              " 'months',\n",
              " 'description',\n",
              " 'automatically',\n",
              " 'apparently',\n",
              " 'administrator',\n",
              " '6',\n",
              " 'western',\n",
              " 'previous',\n",
              " 'helpful',\n",
              " 'god',\n",
              " 'details',\n",
              " 'de',\n",
              " 'bestfrozen',\n",
              " 'available',\n",
              " 'attention',\n",
              " 'study',\n",
              " 'set',\n",
              " 'run',\n",
              " 'meant',\n",
              " 'guys',\n",
              " 'citation',\n",
              " 'arguments',\n",
              " 'arent',\n",
              " 'allowed',\n",
              " 'allow',\n",
              " 'wouldnt',\n",
              " 'whats',\n",
              " 'week',\n",
              " 'theyre',\n",
              " 'terms',\n",
              " 'speak',\n",
              " 'south',\n",
              " 'refer',\n",
              " 'power',\n",
              " 'historical',\n",
              " 'hell',\n",
              " 'contributing',\n",
              " 'contribs',\n",
              " 'actions',\n",
              " '10',\n",
              " 'seriously',\n",
              " 'job',\n",
              " 'hand',\n",
              " 'german',\n",
              " 'events',\n",
              " 'w',\n",
              " 'vote',\n",
              " 'test',\n",
              " 'republic',\n",
              " 'nonsense',\n",
              " 'national',\n",
              " 'head',\n",
              " 'fine',\n",
              " 'factual',\n",
              " 'biased',\n",
              " 'category',\n",
              " 'blocking',\n",
              " 'author',\n",
              " 'accept',\n",
              " 'specifically',\n",
              " 'result',\n",
              " 'online',\n",
              " 'messages',\n",
              " 'incorrect',\n",
              " 'happened',\n",
              " 'french',\n",
              " 'age',\n",
              " 'afd',\n",
              " 'personally',\n",
              " 'nazi',\n",
              " 'march',\n",
              " 'manual',\n",
              " 'majority',\n",
              " 'longer',\n",
              " 'family',\n",
              " 'enjoy',\n",
              " 'earlier',\n",
              " 'creating',\n",
              " 'asking',\n",
              " 'accepted',\n",
              " 'together',\n",
              " 'propaganda',\n",
              " 'doubt',\n",
              " 'direct',\n",
              " 'contact',\n",
              " 'college',\n",
              " 'bias',\n",
              " 'uploaded',\n",
              " 'unblock',\n",
              " 'readers',\n",
              " 'press',\n",
              " 'none',\n",
              " 'lack',\n",
              " 'john',\n",
              " 'george',\n",
              " 'despite',\n",
              " 'december',\n",
              " 'character',\n",
              " 'changing',\n",
              " 'c',\n",
              " 'business',\n",
              " 'august',\n",
              " 'album',\n",
              " 'towns',\n",
              " 'thinking',\n",
              " 'tagged',\n",
              " 'simple',\n",
              " 'quality',\n",
              " 'particularly',\n",
              " 'july',\n",
              " 'gets',\n",
              " 'figure',\n",
              " 'face',\n",
              " 'entirely',\n",
              " 'directly',\n",
              " 'decide',\n",
              " 'barnstar',\n",
              " '7',\n",
              " 'youll',\n",
              " 'villages',\n",
              " 'understanding',\n",
              " 'separate',\n",
              " 'proof',\n",
              " 'minor',\n",
              " 'lost',\n",
              " 'light',\n",
              " 'home',\n",
              " 'explaining',\n",
              " 'dead',\n",
              " 'bush',\n",
              " 'america',\n",
              " 'administrators',\n",
              " 'uses',\n",
              " 'sometimes',\n",
              " 'population',\n",
              " 'meaning',\n",
              " 'heard',\n",
              " 'friends',\n",
              " 'criticism',\n",
              " 'academic',\n",
              " 'video',\n",
              " 'standard',\n",
              " 'sites',\n",
              " 'rest',\n",
              " 'record',\n",
              " 'primary',\n",
              " 'photo',\n",
              " 'local',\n",
              " 'lists',\n",
              " 'easily',\n",
              " 'difference',\n",
              " 'die',\n",
              " 'decided',\n",
              " 'deal',\n",
              " 'complete',\n",
              " '2009',\n",
              " 'totally',\n",
              " 'tags',\n",
              " 'sock',\n",
              " 'shouldnt',\n",
              " 'posting',\n",
              " 'ideas',\n",
              " 'human',\n",
              " 'honest',\n",
              " 'games',\n",
              " 'copy',\n",
              " 'contribute',\n",
              " 'church',\n",
              " 'bring',\n",
              " 'wikipedian',\n",
              " 'tildes',\n",
              " 'sound',\n",
              " 'recently',\n",
              " 'looked',\n",
              " 'lol',\n",
              " 'june',\n",
              " 'experience',\n",
              " 'existing',\n",
              " 'except',\n",
              " 'eg',\n",
              " '20',\n",
              " 'supposed',\n",
              " 'situation',\n",
              " 'sections',\n",
              " 'respond',\n",
              " 'rationale',\n",
              " 'month',\n",
              " 'merely',\n",
              " 'ignore',\n",
              " 'heres',\n",
              " 'dear',\n",
              " 'close',\n",
              " 'christian',\n",
              " 'california',\n",
              " 'born',\n",
              " 'accounts',\n",
              " 'wikiproject',\n",
              " 'usually',\n",
              " 'towards',\n",
              " 'telling',\n",
              " 'posts',\n",
              " 'large',\n",
              " 'indicate',\n",
              " 'funny',\n",
              " 'difficult',\n",
              " 'couple',\n",
              " 'contest',\n",
              " '8',\n",
              " 'wants',\n",
              " 'standards',\n",
              " 'shall',\n",
              " 'putting',\n",
              " 'possibly',\n",
              " 'jews',\n",
              " 'inclusion',\n",
              " 'fun',\n",
              " 'file',\n",
              " 'episode',\n",
              " 'early',\n",
              " 'century',\n",
              " 'box',\n",
              " 'ban',\n",
              " 'action',\n",
              " '24',\n",
              " 'quotes',\n",
              " 'places',\n",
              " 'piece',\n",
              " 'necessary',\n",
              " 'indian',\n",
              " 'independent',\n",
              " 'faggot',\n",
              " 'examples',\n",
              " 'europe',\n",
              " 'countries',\n",
              " 'controversial',\n",
              " 'chinese',\n",
              " 'act',\n",
              " '15',\n",
              " 'websites',\n",
              " 'takes',\n",
              " 'results',\n",
              " 'release',\n",
              " 'refers',\n",
              " 'organization',\n",
              " 'mother',\n",
              " 'level',\n",
              " 'league',\n",
              " 'giving',\n",
              " 'forever',\n",
              " 'force',\n",
              " 'fix',\n",
              " 'final',\n",
              " 'coming',\n",
              " ...]"
            ]
          },
          "metadata": {},
          "execution_count": 19
        }
      ]
    },
    {
      "cell_type": "code",
      "source": [
        "vectorizer(\"Hello World!\")"
      ],
      "metadata": {
        "colab": {
          "base_uri": "https://localhost:8080/"
        },
        "id": "87WiAoGO-2LB",
        "outputId": "4289287c-b336-44e0-f87b-4e021945ed3e"
      },
      "execution_count": null,
      "outputs": [
        {
          "output_type": "execute_result",
          "data": {
            "text/plain": [
              "<tf.Tensor: shape=(1800,), dtype=int64, numpy=array([318, 281,   0, ...,   0,   0,   0])>"
            ]
          },
          "metadata": {},
          "execution_count": 20
        }
      ]
    },
    {
      "cell_type": "code",
      "source": [
        "TextVectorization??"
      ],
      "metadata": {
        "id": "E-MkPA6w_B0U"
      },
      "execution_count": null,
      "outputs": []
    },
    {
      "cell_type": "code",
      "source": [
        "vectorized_text=vectorizer(X.values)"
      ],
      "metadata": {
        "id": "r2y27asO_WJB"
      },
      "execution_count": null,
      "outputs": []
    },
    {
      "cell_type": "code",
      "source": [
        "vectorized_text"
      ],
      "metadata": {
        "colab": {
          "base_uri": "https://localhost:8080/"
        },
        "id": "Lz2Sy76z_kki",
        "outputId": "40633d68-5ac8-4ae1-8da6-88fab013d7fd"
      },
      "execution_count": null,
      "outputs": [
        {
          "output_type": "execute_result",
          "data": {
            "text/plain": [
              "<tf.Tensor: shape=(7168, 1800), dtype=int64, numpy=\n",
              "array([[  688,    76,     2, ...,     0,     0,     0],\n",
              "       [29691,    54,  1912, ...,     0,     0,     0],\n",
              "       [  507,   434,    69, ...,     0,     0,     0],\n",
              "       ...,\n",
              "       [   22,   132,   215, ...,     0,     0,     0],\n",
              "       [   41,    19,    49, ...,     0,     0,     0],\n",
              "       [  105,   366,   547, ...,     0,     0,     0]])>"
            ]
          },
          "metadata": {},
          "execution_count": 23
        }
      ]
    },
    {
      "cell_type": "code",
      "source": [
        "len(X)"
      ],
      "metadata": {
        "colab": {
          "base_uri": "https://localhost:8080/"
        },
        "id": "pzIkX-eRAQVN",
        "outputId": "d014bce8-9436-43c5-ff35-dae7207f6fc6"
      },
      "execution_count": null,
      "outputs": [
        {
          "output_type": "execute_result",
          "data": {
            "text/plain": [
              "7168"
            ]
          },
          "metadata": {},
          "execution_count": 24
        }
      ]
    },
    {
      "cell_type": "code",
      "source": [
        "dataset=tf.data.Dataset.from_tensor_slices((vectorized_text,Y))\n",
        "dataset=dataset.cache()\n",
        "dataset=dataset.shuffle(160000)\n",
        "dataset=dataset.batch(16)\n",
        "dataset=dataset.prefetch(8)"
      ],
      "metadata": {
        "id": "OwZaJIVRA6ok"
      },
      "execution_count": null,
      "outputs": []
    },
    {
      "cell_type": "code",
      "source": [
        "dataset.as_numpy_iterator().next()"
      ],
      "metadata": {
        "colab": {
          "base_uri": "https://localhost:8080/"
        },
        "id": "RHyWgCdyua-p",
        "outputId": "cd540292-15f6-4f0f-a90b-f29cd1eec2a2"
      },
      "execution_count": null,
      "outputs": [
        {
          "output_type": "execute_result",
          "data": {
            "text/plain": [
              "(array([[2094,   22,  117, ...,    0,    0,    0],\n",
              "        [   8,   19,   94, ...,    0,    0,    0],\n",
              "        [1591,    8,  186, ...,    0,    0,    0],\n",
              "        ...,\n",
              "        [ 790,   25,    4, ...,    0,    0,    0],\n",
              "        [  12,   45,  298, ...,    0,    0,    0],\n",
              "        [   7,   89,   15, ...,    0,    0,    0]]),\n",
              " array([[0, 0, 0, 0, 0, 0],\n",
              "        [0, 0, 0, 0, 0, 0],\n",
              "        [1, 0, 0, 0, 1, 0],\n",
              "        [0, 0, 0, 0, 0, 0],\n",
              "        [0, 0, 0, 0, 0, 0],\n",
              "        [0, 0, 0, 0, 0, 0],\n",
              "        [0, 0, 0, 0, 0, 0],\n",
              "        [0, 0, 0, 0, 0, 0],\n",
              "        [0, 0, 0, 0, 0, 0],\n",
              "        [0, 0, 0, 0, 0, 0],\n",
              "        [0, 0, 0, 0, 0, 0],\n",
              "        [0, 0, 0, 0, 0, 0],\n",
              "        [0, 0, 0, 0, 0, 0],\n",
              "        [0, 0, 0, 0, 0, 0],\n",
              "        [0, 0, 0, 0, 0, 0],\n",
              "        [0, 0, 0, 0, 0, 0]]))"
            ]
          },
          "metadata": {},
          "execution_count": 26
        }
      ]
    },
    {
      "cell_type": "code",
      "source": [
        "batch_X,batch_Y=dataset.as_numpy_iterator().next()"
      ],
      "metadata": {
        "id": "ydXo9UirsxG0"
      },
      "execution_count": null,
      "outputs": []
    },
    {
      "cell_type": "code",
      "source": [
        "batch_X.shape"
      ],
      "metadata": {
        "colab": {
          "base_uri": "https://localhost:8080/"
        },
        "id": "eqE3ui0WtEK2",
        "outputId": "8cb17d0b-0322-49ba-988c-4a7c8e16bb15"
      },
      "execution_count": null,
      "outputs": [
        {
          "output_type": "execute_result",
          "data": {
            "text/plain": [
              "(16, 1800)"
            ]
          },
          "metadata": {},
          "execution_count": 28
        }
      ]
    },
    {
      "cell_type": "code",
      "source": [
        "train=dataset.take(int(len(dataset)*.7))\n",
        "val=dataset.skip(int(len(dataset)*.7)).take(int(len(dataset)*.9))\n",
        "test=dataset.skip(int(len(dataset)*.9)).take(int(len(dataset)*.1))"
      ],
      "metadata": {
        "id": "QLw_CHeutGUC"
      },
      "execution_count": null,
      "outputs": []
    },
    {
      "cell_type": "code",
      "source": [
        "len(test)"
      ],
      "metadata": {
        "colab": {
          "base_uri": "https://localhost:8080/"
        },
        "id": "fKIJxSW1uXzZ",
        "outputId": "c7f2a79c-42d1-4539-95f8-c5f0708b4bbf"
      },
      "execution_count": null,
      "outputs": [
        {
          "output_type": "execute_result",
          "data": {
            "text/plain": [
              "44"
            ]
          },
          "metadata": {},
          "execution_count": 30
        }
      ]
    },
    {
      "cell_type": "code",
      "source": [
        "train_gen=train.as_numpy_iterator()\n"
      ],
      "metadata": {
        "id": "Ev2AMpjEtyas"
      },
      "execution_count": null,
      "outputs": []
    },
    {
      "cell_type": "code",
      "source": [
        "train_gen.next()"
      ],
      "metadata": {
        "colab": {
          "base_uri": "https://localhost:8080/"
        },
        "id": "TtL6OpvsuskZ",
        "outputId": "bf598c61-ce41-49bb-95ec-4d53eeb2b441"
      },
      "execution_count": null,
      "outputs": [
        {
          "output_type": "execute_result",
          "data": {
            "text/plain": [
              "(array([[  475,     7,   147, ...,     0,     0,     0],\n",
              "        [15311, 17182, 26287, ...,     0,     0,     0],\n",
              "        [ 3852, 31845, 17768, ...,     0,     0,     0],\n",
              "        ...,\n",
              "        [    7,    82,   161, ...,     0,     0,     0],\n",
              "        [22964,    38,     6, ...,     0,     0,     0],\n",
              "        [    7,    72,  3366, ...,     0,     0,     0]]),\n",
              " array([[0, 0, 0, 0, 0, 0],\n",
              "        [0, 0, 0, 0, 0, 0],\n",
              "        [0, 0, 0, 0, 0, 0],\n",
              "        [0, 0, 0, 0, 0, 0],\n",
              "        [0, 0, 0, 0, 0, 0],\n",
              "        [0, 0, 0, 0, 0, 0],\n",
              "        [1, 0, 0, 1, 0, 0],\n",
              "        [0, 0, 0, 0, 0, 0],\n",
              "        [0, 0, 0, 0, 0, 0],\n",
              "        [0, 0, 0, 0, 0, 0],\n",
              "        [0, 0, 0, 0, 0, 0],\n",
              "        [0, 0, 0, 0, 0, 0],\n",
              "        [0, 0, 0, 0, 0, 0],\n",
              "        [0, 0, 0, 0, 0, 0],\n",
              "        [1, 0, 0, 0, 0, 0],\n",
              "        [0, 0, 0, 0, 0, 0]]))"
            ]
          },
          "metadata": {},
          "execution_count": 32
        }
      ]
    },
    {
      "cell_type": "markdown",
      "source": [
        "3 .BUILD DEEP NEURAL NETWORK"
      ],
      "metadata": {
        "id": "ihx83ATVvVmh"
      }
    },
    {
      "cell_type": "code",
      "source": [
        "!pip install Sequential"
      ],
      "metadata": {
        "colab": {
          "base_uri": "https://localhost:8080/"
        },
        "id": "fzevbfdDxmVn",
        "outputId": "f7dc655d-d684-45df-e688-efb339134e3f"
      },
      "execution_count": null,
      "outputs": [
        {
          "output_type": "stream",
          "name": "stdout",
          "text": [
            "Collecting Sequential\n",
            "  Downloading sequential-1.0.0.tar.gz (2.3 kB)\n",
            "  Preparing metadata (setup.py) ... \u001b[?25l\u001b[?25hdone\n",
            "Building wheels for collected packages: Sequential\n",
            "  Building wheel for Sequential (setup.py) ... \u001b[?25l\u001b[?25hdone\n",
            "  Created wheel for Sequential: filename=sequential-1.0.0-py3-none-any.whl size=2856 sha256=150d170cdabe8dda8f9ff656f6599a683436d3df5ebd3e5724eea15a88eafbf8\n",
            "  Stored in directory: /root/.cache/pip/wheels/c3/61/56/fe456787532527aafb108ffeceecb4a2e928a518c88bbdd5c5\n",
            "Successfully built Sequential\n",
            "Installing collected packages: Sequential\n",
            "Successfully installed Sequential-1.0.0\n"
          ]
        }
      ]
    },
    {
      "cell_type": "code",
      "source": [
        "from tensorflow.keras.models import Sequential\n",
        "from tensorflow.keras.layers import LSTM, Dropout, Bidirectional,Dense,Embedding"
      ],
      "metadata": {
        "id": "FSCFQhWdvap3"
      },
      "execution_count": null,
      "outputs": []
    },
    {
      "cell_type": "markdown",
      "source": [],
      "metadata": {
        "id": "nGo4cIq5yBZi"
      }
    },
    {
      "cell_type": "code",
      "source": [
        "model=Sequential()\n",
        "model.add(Embedding(MAX_FEATURES+1,32))\n",
        "model.add(Bidirectional(LSTM(32,activation='tanh')))\n",
        "model.add(Dense(128,activation='relu'))\n",
        "model.add(Dense(256,activation='relu'))\n",
        "model.add(Dense(128,activation='relu'))\n",
        "model.add(Dense(6,activation='sigmoid'))"
      ],
      "metadata": {
        "id": "i4B-n2Y5wK0g"
      },
      "execution_count": null,
      "outputs": []
    },
    {
      "cell_type": "code",
      "source": [
        "model.compile(loss=\"binary_crossentropy\",optimizer=\"adam\")"
      ],
      "metadata": {
        "id": "qDQ_jk55x7_Z"
      },
      "execution_count": null,
      "outputs": []
    },
    {
      "cell_type": "code",
      "source": [
        "model.summary()"
      ],
      "metadata": {
        "colab": {
          "base_uri": "https://localhost:8080/"
        },
        "id": "lidH9cCrn_Yl",
        "outputId": "83d962c4-53f7-41d5-9a56-f97e300c8837"
      },
      "execution_count": null,
      "outputs": [
        {
          "output_type": "stream",
          "name": "stdout",
          "text": [
            "Model: \"sequential\"\n",
            "_________________________________________________________________\n",
            " Layer (type)                Output Shape              Param #   \n",
            "=================================================================\n",
            " embedding (Embedding)       (None, None, 32)          6400032   \n",
            "                                                                 \n",
            " bidirectional (Bidirection  (None, 64)                16640     \n",
            " al)                                                             \n",
            "                                                                 \n",
            " dense (Dense)               (None, 128)               8320      \n",
            "                                                                 \n",
            " dense_1 (Dense)             (None, 256)               33024     \n",
            "                                                                 \n",
            " dense_2 (Dense)             (None, 128)               32896     \n",
            "                                                                 \n",
            " dense_3 (Dense)             (None, 6)                 774       \n",
            "                                                                 \n",
            "=================================================================\n",
            "Total params: 6491686 (24.76 MB)\n",
            "Trainable params: 6491686 (24.76 MB)\n",
            "Non-trainable params: 0 (0.00 Byte)\n",
            "_________________________________________________________________\n"
          ]
        }
      ]
    },
    {
      "cell_type": "code",
      "source": [
        "history=model.fit(train,epochs=1,validation_data=val)"
      ],
      "metadata": {
        "colab": {
          "base_uri": "https://localhost:8080/"
        },
        "id": "CdNPQciwwFB1",
        "outputId": "fc0d3a3a-8b31-424a-8b23-3b2782684266"
      },
      "execution_count": null,
      "outputs": [
        {
          "output_type": "stream",
          "name": "stdout",
          "text": [
            "313/313 [==============================] - 562s 2s/step - loss: 0.1491 - val_loss: 0.0856\n"
          ]
        }
      ]
    },
    {
      "cell_type": "code",
      "source": [
        "from matplotlib import pyplot as plt"
      ],
      "metadata": {
        "id": "__ew-HY4gZnA"
      },
      "execution_count": null,
      "outputs": []
    },
    {
      "cell_type": "code",
      "source": [
        "plt.figure(figsize=(8,5))\n",
        "pd.DataFrame(history.history).plot()\n",
        "plt.show(9)"
      ],
      "metadata": {
        "colab": {
          "base_uri": "https://localhost:8080/",
          "height": 447
        },
        "id": "wnKMT457ggPK",
        "outputId": "a37f7c6e-5f0f-46d4-ed21-5423203342a1"
      },
      "execution_count": null,
      "outputs": [
        {
          "output_type": "display_data",
          "data": {
            "text/plain": [
              "<Figure size 800x500 with 0 Axes>"
            ]
          },
          "metadata": {}
        },
        {
          "output_type": "display_data",
          "data": {
            "text/plain": [
              "<Figure size 640x480 with 1 Axes>"
            ],
            "image/png": "[encoded data removed]"
          },
          "metadata": {}
        }
      ]
    },
    {
      "cell_type": "markdown",
      "source": [
        "4. MAKING **PREDICTION**"
      ],
      "metadata": {
        "id": "hj8WKXZA2hNd"
      }
    },
    {
      "cell_type": "code",
      "source": [
        "input_text=vectorizer('You freaking suck! I am going to fuck you.')"
      ],
      "metadata": {
        "id": "uLhuRdyvrSsm"
      },
      "execution_count": null,
      "outputs": []
    },
    {
      "cell_type": "code",
      "source": [
        "data.columns[2:]"
      ],
      "metadata": {
        "colab": {
          "base_uri": "https://localhost:8080/"
        },
        "id": "OTa9ZH34vaTY",
        "outputId": "231a0428-dd37-4cc7-beac-46f382d0fc38"
      },
      "execution_count": null,
      "outputs": [
        {
          "output_type": "execute_result",
          "data": {
            "text/plain": [
              "Index(['toxic', 'severe_toxic', 'obscene', 'threat', 'insult',\n",
              "       'identity_hate'],\n",
              "      dtype='object')"
            ]
          },
          "metadata": {},
          "execution_count": 93
        }
      ]
    },
    {
      "cell_type": "code",
      "source": [
        "batch=test.as_numpy_iterator().next()"
      ],
      "metadata": {
        "id": "Erg67sIprklI"
      },
      "execution_count": null,
      "outputs": []
    },
    {
      "cell_type": "code",
      "source": [
        "test.as_numpy_iterator().next()"
      ],
      "metadata": {
        "colab": {
          "base_uri": "https://localhost:8080/"
        },
        "id": "ETSMhcuIziGO",
        "outputId": "f622d325-2be9-46ce-f834-40529090220e"
      },
      "execution_count": null,
      "outputs": [
        {
          "output_type": "execute_result",
          "data": {
            "text/plain": [
              "(array([[  23,   41,    9, ...,    0,    0,    0],\n",
              "        [   3,   38,  138, ...,    0,    0,    0],\n",
              "        [   7,   19, 8975, ...,    0,    0,    0],\n",
              "        ...,\n",
              "        [  10,    9,   40, ...,    0,    0,    0],\n",
              "        [1864, 1221,  742, ...,    0,    0,    0],\n",
              "        [ 999, 1862,  128, ...,    0,    0,    0]]),\n",
              " array([[0, 0, 0, 0, 0, 0],\n",
              "        [0, 0, 0, 0, 0, 0],\n",
              "        [0, 0, 0, 0, 0, 0],\n",
              "        [0, 0, 0, 0, 0, 0],\n",
              "        [0, 0, 0, 0, 0, 0],\n",
              "        [0, 0, 0, 0, 0, 0],\n",
              "        [0, 0, 0, 0, 0, 0],\n",
              "        [0, 0, 0, 0, 0, 0],\n",
              "        [0, 0, 0, 0, 0, 0],\n",
              "        [1, 0, 1, 0, 0, 0],\n",
              "        [0, 0, 0, 0, 0, 0],\n",
              "        [0, 0, 0, 0, 0, 0],\n",
              "        [1, 1, 1, 0, 1, 0],\n",
              "        [1, 0, 0, 0, 0, 0],\n",
              "        [1, 0, 0, 0, 0, 0],\n",
              "        [1, 0, 1, 0, 1, 1]]))"
            ]
          },
          "metadata": {},
          "execution_count": 100
        }
      ]
    },
    {
      "cell_type": "code",
      "source": [
        "model.predict(np.expand_dims(input_text,0))"
      ],
      "metadata": {
        "colab": {
          "base_uri": "https://localhost:8080/"
        },
        "id": "od0ppbbcyEog",
        "outputId": "c551aedc-7838-4758-bdd5-f36500d6d7f9"
      },
      "execution_count": null,
      "outputs": [
        {
          "output_type": "stream",
          "name": "stdout",
          "text": [
            "1/1 [==============================] - 0s 169ms/step\n"
          ]
        },
        {
          "output_type": "execute_result",
          "data": {
            "text/plain": [
              "array([[0.9918866 , 0.38238728, 0.8986447 , 0.05439932, 0.906184  ,\n",
              "        0.12764888]], dtype=float32)"
            ]
          },
          "metadata": {},
          "execution_count": 99
        }
      ]
    },
    {
      "cell_type": "code",
      "source": [
        "res=model.predict(batch_X)"
      ],
      "metadata": {
        "colab": {
          "base_uri": "https://localhost:8080/"
        },
        "id": "oAtMRekPySjx",
        "outputId": "8fc33fa7-d66b-4d89-846a-9ce1d0fa3213"
      },
      "execution_count": null,
      "outputs": [
        {
          "output_type": "stream",
          "name": "stdout",
          "text": [
            "1/1 [==============================] - 0s 205ms/step\n"
          ]
        }
      ]
    },
    {
      "cell_type": "code",
      "source": [
        "res.flatten().shape"
      ],
      "metadata": {
        "colab": {
          "base_uri": "https://localhost:8080/"
        },
        "id": "RQ8iZ9BU7i3b",
        "outputId": "f48de9e8-3c26-4e3b-b4d1-96d47fa8e8c6"
      },
      "execution_count": null,
      "outputs": [
        {
          "output_type": "execute_result",
          "data": {
            "text/plain": [
              "(96,)"
            ]
          },
          "metadata": {},
          "execution_count": 124
        }
      ]
    },
    {
      "cell_type": "code",
      "source": [
        "np.expand_dims(input_text,0)"
      ],
      "metadata": {
        "colab": {
          "base_uri": "https://localhost:8080/"
        },
        "id": "84Ackxf3xrSV",
        "outputId": "50172d09-aab6-4415-ec21-eb6321e8b6e8"
      },
      "execution_count": null,
      "outputs": [
        {
          "output_type": "execute_result",
          "data": {
            "text/plain": [
              "array([[   8, 7321, 1237, ...,    0,    0,    0]])"
            ]
          },
          "metadata": {},
          "execution_count": 83
        }
      ]
    },
    {
      "cell_type": "code",
      "source": [
        "batch_X,batch_Y=test.as_numpy_iterator().next()"
      ],
      "metadata": {
        "id": "pTr0a1y4vPz8"
      },
      "execution_count": null,
      "outputs": []
    },
    {
      "cell_type": "code",
      "source": [
        "batch_Y"
      ],
      "metadata": {
        "colab": {
          "base_uri": "https://localhost:8080/"
        },
        "id": "l2C4yOQ20WNc",
        "outputId": "81d8de62-996f-47f1-c5c6-151b96c30667"
      },
      "execution_count": null,
      "outputs": [
        {
          "output_type": "execute_result",
          "data": {
            "text/plain": [
              "array([[0, 0, 0, 0, 0, 0],\n",
              "       [1, 0, 0, 0, 0, 0],\n",
              "       [0, 0, 0, 0, 0, 0],\n",
              "       [0, 0, 0, 0, 0, 0],\n",
              "       [0, 0, 0, 0, 0, 0],\n",
              "       [0, 0, 0, 0, 0, 0],\n",
              "       [0, 0, 0, 0, 0, 0],\n",
              "       [0, 0, 0, 0, 0, 0],\n",
              "       [0, 0, 0, 0, 0, 0],\n",
              "       [1, 0, 1, 0, 1, 0],\n",
              "       [0, 0, 0, 0, 0, 0],\n",
              "       [0, 0, 0, 0, 0, 0],\n",
              "       [0, 0, 0, 0, 0, 0],\n",
              "       [0, 0, 0, 0, 0, 0],\n",
              "       [0, 0, 0, 0, 0, 0],\n",
              "       [0, 0, 0, 0, 0, 0]])"
            ]
          },
          "metadata": {},
          "execution_count": 108
        }
      ]
    },
    {
      "cell_type": "code",
      "source": [
        "(model.predict(batch_X)>0.5).astype(int)"
      ],
      "metadata": {
        "colab": {
          "base_uri": "https://localhost:8080/"
        },
        "id": "rUmCDSslz3LC",
        "outputId": "1ed4c511-cd73-4571-ac25-a5533ebc5138"
      },
      "execution_count": null,
      "outputs": [
        {
          "output_type": "stream",
          "name": "stdout",
          "text": [
            "1/1 [==============================] - 0s 376ms/step\n"
          ]
        },
        {
          "output_type": "execute_result",
          "data": {
            "text/plain": [
              "array([[0, 0, 0, 0, 0, 0],\n",
              "       [1, 0, 1, 0, 1, 0],\n",
              "       [0, 0, 0, 0, 0, 0],\n",
              "       [0, 0, 0, 0, 0, 0],\n",
              "       [0, 0, 0, 0, 0, 0],\n",
              "       [0, 0, 0, 0, 0, 0],\n",
              "       [0, 0, 0, 0, 0, 0],\n",
              "       [0, 0, 0, 0, 0, 0],\n",
              "       [0, 0, 0, 0, 0, 0],\n",
              "       [1, 0, 1, 0, 1, 0],\n",
              "       [0, 0, 0, 0, 0, 0],\n",
              "       [0, 0, 0, 0, 0, 0],\n",
              "       [0, 0, 0, 0, 0, 0],\n",
              "       [0, 0, 0, 0, 0, 0],\n",
              "       [0, 0, 0, 0, 0, 0],\n",
              "       [0, 0, 0, 0, 0, 0]])"
            ]
          },
          "metadata": {},
          "execution_count": 106
        }
      ]
    },
    {
      "cell_type": "code",
      "source": [
        "test=model.predict(np.expand_dims(input_text,0))"
      ],
      "metadata": {
        "colab": {
          "base_uri": "https://localhost:8080/"
        },
        "id": "kTP68xZesHkb",
        "outputId": "958705f7-957b-4764-9d6d-3f4c9d211d60"
      },
      "execution_count": null,
      "outputs": [
        {
          "output_type": "stream",
          "name": "stdout",
          "text": [
            "1/1 [==============================] - 1s 1s/step\n"
          ]
        }
      ]
    },
    {
      "cell_type": "markdown",
      "source": [
        "5. MODEL **EVALUATION**"
      ],
      "metadata": {
        "id": "weczpLpR3nxK"
      }
    },
    {
      "cell_type": "code",
      "source": [
        "!pip install tensorflow-addons"
      ],
      "metadata": {
        "colab": {
          "base_uri": "https://localhost:8080/"
        },
        "id": "oUGRbZEn3uqd",
        "outputId": "a8590753-baf8-4743-98cb-1ebc2f04aafa"
      },
      "execution_count": null,
      "outputs": [
        {
          "output_type": "stream",
          "name": "stdout",
          "text": [
            "Collecting tensorflow-addons\n",
            "  Downloading tensorflow_addons-0.23.0-cp310-cp310-manylinux_2_17_x86_64.manylinux2014_x86_64.whl (611 kB)\n",
            "\u001b[2K     \u001b[90m━━━━━━━━━━━━━━━━━━━━━━━━━━━━━━━━━━━━━━━━\u001b[0m \u001b[32m611.8/611.8 kB\u001b[0m \u001b[31m3.5 MB/s\u001b[0m eta \u001b[36m0:00:00\u001b[0m\n",
            "\u001b[?25hRequirement already satisfied: packaging in /usr/local/lib/python3.10/dist-packages (from tensorflow-addons) (23.2)\n",
            "Collecting typeguard<3.0.0,>=2.7 (from tensorflow-addons)\n",
            "  Downloading typeguard-2.13.3-py3-none-any.whl (17 kB)\n",
            "Installing collected packages: typeguard, tensorflow-addons\n",
            "Successfully installed tensorflow-addons-0.23.0 typeguard-2.13.3\n"
          ]
        }
      ]
    },
    {
      "cell_type": "code",
      "source": [
        "import tensorflow_addons as tfa"
      ],
      "metadata": {
        "id": "eS2IDWkm4Pqb"
      },
      "execution_count": null,
      "outputs": []
    },
    {
      "cell_type": "code",
      "source": [
        "from tensorflow.keras.metrics  import Precision, Recall, CategoricalAccuracy"
      ],
      "metadata": {
        "id": "Z5Z_6q-G4VIA"
      },
      "execution_count": null,
      "outputs": []
    },
    {
      "cell_type": "code",
      "source": [
        "pre=Precision()\n",
        "re=Recall()\n",
        "acc=CategoricalAccuracy()"
      ],
      "metadata": {
        "id": "uvIlWQ-q4--A"
      },
      "execution_count": null,
      "outputs": []
    },
    {
      "cell_type": "code",
      "source": [
        "for batch in train.as_numpy_iterator():\n",
        "    # unpack the batch\n",
        "    X_true,Y_true= batch\n",
        "    # make a prediction\n",
        "    yhat=model.predict(X_true)\n",
        "    # flatten the predicition\n",
        "    Y_true=Y_true.flatten()\n",
        "    yhat=yhat.flatten()\n",
        "\n",
        "    pre.update_state(Y_true,yhat)\n",
        "    re.update_state(Y_true,yhat)\n",
        "    acc.update_state(Y_true,yhat)"
      ],
      "metadata": {
        "id": "6oFb7ffj6IRH"
      },
      "execution_count": null,
      "outputs": []
    },
    {
      "cell_type": "code",
      "source": [
        "print(f' Precision:{pre.result().numpy()},\\n Recall:{re.result()},\\n Accuracy:{acc.result().numpy}')"
      ],
      "metadata": {
        "colab": {
          "base_uri": "https://localhost:8080/"
        },
        "id": "Ncdz291_8slA",
        "outputId": "eb8fe9e3-24b9-40e9-de41-e84b15a12f91"
      },
      "execution_count": null,
      "outputs": [
        {
          "output_type": "stream",
          "name": "stdout",
          "text": [
            " Precision:0.7667423486709595,\n",
            " Recall:0.748062014579773,\n",
            " Accuracy:<bound method _EagerTensorBase.numpy of <tf.Tensor: shape=(), dtype=float32, numpy=0.51984125>>\n"
          ]
        }
      ]
    },
    {
      "cell_type": "markdown",
      "source": [
        "6. TEST AND GRADIO **APP**"
      ],
      "metadata": {
        "id": "sGc-228b_iVJ"
      }
    },
    {
      "cell_type": "code",
      "source": [
        "!pip install gradio"
      ],
      "metadata": {
        "colab": {
          "base_uri": "https://localhost:8080/"
        },
        "id": "0TRCd80K_pjn",
        "outputId": "28835462-5a09-4553-9eb2-b01b26dd1950"
      },
      "execution_count": null,
      "outputs": [
        {
          "output_type": "stream",
          "name": "stdout",
          "text": [
            "Requirement already satisfied: gradio in /usr/local/lib/python3.10/dist-packages (4.16.0)\n",
            "Requirement already satisfied: aiofiles<24.0,>=22.0 in /usr/local/lib/python3.10/dist-packages (from gradio) (23.2.1)\n",
            "Requirement already satisfied: altair<6.0,>=4.2.0 in /usr/local/lib/python3.10/dist-packages (from gradio) (4.2.2)\n",
            "Requirement already satisfied: fastapi in /usr/local/lib/python3.10/dist-packages (from gradio) (0.109.1)\n",
            "Requirement already satisfied: ffmpy in /usr/local/lib/python3.10/dist-packages (from gradio) (0.3.1)\n",
            "Requirement already satisfied: gradio-client==0.8.1 in /usr/local/lib/python3.10/dist-packages (from gradio) (0.8.1)\n",
            "Requirement already satisfied: httpx in /usr/local/lib/python3.10/dist-packages (from gradio) (0.26.0)\n",
            "Requirement already satisfied: huggingface-hub>=0.19.3 in /usr/local/lib/python3.10/dist-packages (from gradio) (0.20.3)\n",
            "Requirement already satisfied: importlib-resources<7.0,>=1.3 in /usr/local/lib/python3.10/dist-packages (from gradio) (6.1.1)\n",
            "Requirement already satisfied: jinja2<4.0 in /usr/local/lib/python3.10/dist-packages (from gradio) (3.1.3)\n",
            "Requirement already satisfied: markupsafe~=2.0 in /usr/local/lib/python3.10/dist-packages (from gradio) (2.1.4)\n",
            "Requirement already satisfied: matplotlib~=3.0 in /usr/local/lib/python3.10/dist-packages (from gradio) (3.7.1)\n",
            "Requirement already satisfied: numpy~=1.0 in /usr/local/lib/python3.10/dist-packages (from gradio) (1.23.5)\n",
            "Requirement already satisfied: orjson~=3.0 in /usr/local/lib/python3.10/dist-packages (from gradio) (3.9.13)\n",
            "Requirement already satisfied: packaging in /usr/local/lib/python3.10/dist-packages (from gradio) (23.2)\n",
            "Requirement already satisfied: pandas<3.0,>=1.0 in /usr/local/lib/python3.10/dist-packages (from gradio) (1.5.3)\n",
            "Requirement already satisfied: pillow<11.0,>=8.0 in /usr/local/lib/python3.10/dist-packages (from gradio) (9.4.0)\n",
            "Requirement already satisfied: pydantic>=2.0 in /usr/local/lib/python3.10/dist-packages (from gradio) (2.6.0)\n",
            "Requirement already satisfied: pydub in /usr/local/lib/python3.10/dist-packages (from gradio) (0.25.1)\n",
            "Requirement already satisfied: python-multipart in /usr/local/lib/python3.10/dist-packages (from gradio) (0.0.7)\n",
            "Requirement already satisfied: pyyaml<7.0,>=5.0 in /usr/local/lib/python3.10/dist-packages (from gradio) (6.0.1)\n",
            "Requirement already satisfied: ruff>=0.1.7 in /usr/local/lib/python3.10/dist-packages (from gradio) (0.2.0)\n",
            "Requirement already satisfied: semantic-version~=2.0 in /usr/local/lib/python3.10/dist-packages (from gradio) (2.10.0)\n",
            "Requirement already satisfied: tomlkit==0.12.0 in /usr/local/lib/python3.10/dist-packages (from gradio) (0.12.0)\n",
            "Requirement already satisfied: typer[all]<1.0,>=0.9 in /usr/local/lib/python3.10/dist-packages (from gradio) (0.9.0)\n",
            "Requirement already satisfied: typing-extensions~=4.0 in /usr/local/lib/python3.10/dist-packages (from gradio) (4.9.0)\n",
            "Requirement already satisfied: uvicorn>=0.14.0 in /usr/local/lib/python3.10/dist-packages (from gradio) (0.27.0.post1)\n",
            "Requirement already satisfied: fsspec in /usr/local/lib/python3.10/dist-packages (from gradio-client==0.8.1->gradio) (2023.6.0)\n",
            "Requirement already satisfied: websockets<12.0,>=10.0 in /usr/local/lib/python3.10/dist-packages (from gradio-client==0.8.1->gradio) (11.0.3)\n",
            "Requirement already satisfied: entrypoints in /usr/local/lib/python3.10/dist-packages (from altair<6.0,>=4.2.0->gradio) (0.4)\n",
            "Requirement already satisfied: jsonschema>=3.0 in /usr/local/lib/python3.10/dist-packages (from altair<6.0,>=4.2.0->gradio) (4.19.2)\n",
            "Requirement already satisfied: toolz in /usr/local/lib/python3.10/dist-packages (from altair<6.0,>=4.2.0->gradio) (0.12.1)\n",
            "Requirement already satisfied: filelock in /usr/local/lib/python3.10/dist-packages (from huggingface-hub>=0.19.3->gradio) (3.13.1)\n",
            "Requirement already satisfied: requests in /usr/local/lib/python3.10/dist-packages (from huggingface-hub>=0.19.3->gradio) (2.31.0)\n",
            "Requirement already satisfied: tqdm>=4.42.1 in /usr/local/lib/python3.10/dist-packages (from huggingface-hub>=0.19.3->gradio) (4.66.1)\n",
            "Requirement already satisfied: contourpy>=1.0.1 in /usr/local/lib/python3.10/dist-packages (from matplotlib~=3.0->gradio) (1.2.0)\n",
            "Requirement already satisfied: cycler>=0.10 in /usr/local/lib/python3.10/dist-packages (from matplotlib~=3.0->gradio) (0.12.1)\n",
            "Requirement already satisfied: fonttools>=4.22.0 in /usr/local/lib/python3.10/dist-packages (from matplotlib~=3.0->gradio) (4.47.2)\n",
            "Requirement already satisfied: kiwisolver>=1.0.1 in /usr/local/lib/python3.10/dist-packages (from matplotlib~=3.0->gradio) (1.4.5)\n",
            "Requirement already satisfied: pyparsing>=2.3.1 in /usr/local/lib/python3.10/dist-packages (from matplotlib~=3.0->gradio) (3.1.1)\n",
            "Requirement already satisfied: python-dateutil>=2.7 in /usr/local/lib/python3.10/dist-packages (from matplotlib~=3.0->gradio) (2.8.2)\n",
            "Requirement already satisfied: pytz>=2020.1 in /usr/local/lib/python3.10/dist-packages (from pandas<3.0,>=1.0->gradio) (2023.4)\n",
            "Requirement already satisfied: annotated-types>=0.4.0 in /usr/local/lib/python3.10/dist-packages (from pydantic>=2.0->gradio) (0.6.0)\n",
            "Requirement already satisfied: pydantic-core==2.16.1 in /usr/local/lib/python3.10/dist-packages (from pydantic>=2.0->gradio) (2.16.1)\n",
            "Requirement already satisfied: click<9.0.0,>=7.1.1 in /usr/local/lib/python3.10/dist-packages (from typer[all]<1.0,>=0.9->gradio) (8.1.7)\n",
            "Requirement already satisfied: colorama<0.5.0,>=0.4.3 in /usr/local/lib/python3.10/dist-packages (from typer[all]<1.0,>=0.9->gradio) (0.4.6)\n",
            "Requirement already satisfied: shellingham<2.0.0,>=1.3.0 in /usr/local/lib/python3.10/dist-packages (from typer[all]<1.0,>=0.9->gradio) (1.5.4)\n",
            "Requirement already satisfied: rich<14.0.0,>=10.11.0 in /usr/local/lib/python3.10/dist-packages (from typer[all]<1.0,>=0.9->gradio) (13.7.0)\n",
            "Requirement already satisfied: h11>=0.8 in /usr/local/lib/python3.10/dist-packages (from uvicorn>=0.14.0->gradio) (0.14.0)\n",
            "Requirement already satisfied: starlette<0.36.0,>=0.35.0 in /usr/local/lib/python3.10/dist-packages (from fastapi->gradio) (0.35.1)\n",
            "Requirement already satisfied: anyio in /usr/local/lib/python3.10/dist-packages (from httpx->gradio) (3.7.1)\n",
            "Requirement already satisfied: certifi in /usr/local/lib/python3.10/dist-packages (from httpx->gradio) (2023.11.17)\n",
            "Requirement already satisfied: httpcore==1.* in /usr/local/lib/python3.10/dist-packages (from httpx->gradio) (1.0.2)\n",
            "Requirement already satisfied: idna in /usr/local/lib/python3.10/dist-packages (from httpx->gradio) (3.6)\n",
            "Requirement already satisfied: sniffio in /usr/local/lib/python3.10/dist-packages (from httpx->gradio) (1.3.0)\n",
            "Requirement already satisfied: attrs>=22.2.0 in /usr/local/lib/python3.10/dist-packages (from jsonschema>=3.0->altair<6.0,>=4.2.0->gradio) (23.2.0)\n",
            "Requirement already satisfied: jsonschema-specifications>=2023.03.6 in /usr/local/lib/python3.10/dist-packages (from jsonschema>=3.0->altair<6.0,>=4.2.0->gradio) (2023.12.1)\n",
            "Requirement already satisfied: referencing>=0.28.4 in /usr/local/lib/python3.10/dist-packages (from jsonschema>=3.0->altair<6.0,>=4.2.0->gradio) (0.33.0)\n",
            "Requirement already satisfied: rpds-py>=0.7.1 in /usr/local/lib/python3.10/dist-packages (from jsonschema>=3.0->altair<6.0,>=4.2.0->gradio) (0.17.1)\n",
            "Requirement already satisfied: six>=1.5 in /usr/local/lib/python3.10/dist-packages (from python-dateutil>=2.7->matplotlib~=3.0->gradio) (1.16.0)\n",
            "Requirement already satisfied: markdown-it-py>=2.2.0 in /usr/local/lib/python3.10/dist-packages (from rich<14.0.0,>=10.11.0->typer[all]<1.0,>=0.9->gradio) (3.0.0)\n",
            "Requirement already satisfied: pygments<3.0.0,>=2.13.0 in /usr/local/lib/python3.10/dist-packages (from rich<14.0.0,>=10.11.0->typer[all]<1.0,>=0.9->gradio) (2.16.1)\n",
            "Requirement already satisfied: exceptiongroup in /usr/local/lib/python3.10/dist-packages (from anyio->httpx->gradio) (1.2.0)\n",
            "Requirement already satisfied: charset-normalizer<4,>=2 in /usr/local/lib/python3.10/dist-packages (from requests->huggingface-hub>=0.19.3->gradio) (3.3.2)\n",
            "Requirement already satisfied: urllib3<3,>=1.21.1 in /usr/local/lib/python3.10/dist-packages (from requests->huggingface-hub>=0.19.3->gradio) (2.0.7)\n",
            "Requirement already satisfied: mdurl~=0.1 in /usr/local/lib/python3.10/dist-packages (from markdown-it-py>=2.2.0->rich<14.0.0,>=10.11.0->typer[all]<1.0,>=0.9->gradio) (0.1.2)\n"
          ]
        }
      ]
    },
    {
      "cell_type": "code",
      "source": [
        "!pip install matplotlib-venn"
      ],
      "metadata": {
        "colab": {
          "base_uri": "https://localhost:8080/"
        },
        "id": "5eFvxDcUNriQ",
        "outputId": "56b9148f-7717-44fe-f72c-c469db0110b0"
      },
      "execution_count": null,
      "outputs": [
        {
          "output_type": "stream",
          "name": "stdout",
          "text": [
            "Requirement already satisfied: matplotlib-venn in /usr/local/lib/python3.10/dist-packages (0.11.10)\n",
            "Requirement already satisfied: matplotlib in /usr/local/lib/python3.10/dist-packages (from matplotlib-venn) (3.7.1)\n",
            "Requirement already satisfied: numpy in /usr/local/lib/python3.10/dist-packages (from matplotlib-venn) (1.23.5)\n",
            "Requirement already satisfied: scipy in /usr/local/lib/python3.10/dist-packages (from matplotlib-venn) (1.11.4)\n",
            "Requirement already satisfied: contourpy>=1.0.1 in /usr/local/lib/python3.10/dist-packages (from matplotlib->matplotlib-venn) (1.2.0)\n",
            "Requirement already satisfied: cycler>=0.10 in /usr/local/lib/python3.10/dist-packages (from matplotlib->matplotlib-venn) (0.12.1)\n",
            "Requirement already satisfied: fonttools>=4.22.0 in /usr/local/lib/python3.10/dist-packages (from matplotlib->matplotlib-venn) (4.47.2)\n",
            "Requirement already satisfied: kiwisolver>=1.0.1 in /usr/local/lib/python3.10/dist-packages (from matplotlib->matplotlib-venn) (1.4.5)\n",
            "Requirement already satisfied: packaging>=20.0 in /usr/local/lib/python3.10/dist-packages (from matplotlib->matplotlib-venn) (23.2)\n",
            "Requirement already satisfied: pillow>=6.2.0 in /usr/local/lib/python3.10/dist-packages (from matplotlib->matplotlib-venn) (9.4.0)\n",
            "Requirement already satisfied: pyparsing>=2.3.1 in /usr/local/lib/python3.10/dist-packages (from matplotlib->matplotlib-venn) (3.1.1)\n",
            "Requirement already satisfied: python-dateutil>=2.7 in /usr/local/lib/python3.10/dist-packages (from matplotlib->matplotlib-venn) (2.8.2)\n",
            "Requirement already satisfied: six>=1.5 in /usr/local/lib/python3.10/dist-packages (from python-dateutil>=2.7->matplotlib->matplotlib-venn) (1.16.0)\n"
          ]
        }
      ]
    },
    {
      "cell_type": "code",
      "source": [
        "# prompt: install libarchive\n",
        "\n",
        "!apt-get update\n",
        "!apt-get install libarchive-dev\n"
      ],
      "metadata": {
        "colab": {
          "base_uri": "https://localhost:8080/"
        },
        "id": "VjdeuE5PN8dN",
        "outputId": "d5b5e579-1f97-4bcc-d5bc-ef26b6c0676c"
      },
      "execution_count": null,
      "outputs": [
        {
          "output_type": "stream",
          "name": "stdout",
          "text": [
            "\r0% [Working]\r            \rGet:1 https://cloud.r-project.org/bin/linux/ubuntu jammy-cran40/ InRelease [3,626 B]\n",
            "\r0% [Waiting for headers] [Connecting to security.ubuntu.com (185.125.190.36)] [1 InRelease 3,626 B/3\r0% [Waiting for headers] [Connecting to security.ubuntu.com (185.125.190.36)] [Connecting to ppa.lau\r                                                                                                    \rHit:2 http://archive.ubuntu.com/ubuntu jammy InRelease\n",
            "\r0% [Waiting for headers] [Waiting for headers] [Connecting to ppa.launchpadcontent.net (185.125.190.\r                                                                                                    \rGet:3 http://archive.ubuntu.com/ubuntu jammy-updates InRelease [119 kB]\n",
            "\r0% [3 InRelease 14.2 kB/119 kB 12%] [Waiting for headers] [Connecting to ppa.launchpadcontent.net (1\r                                                                                                    \rHit:4 https://developer.download.nvidia.com/compute/cuda/repos/ubuntu2204/x86_64  InRelease\n",
            "Get:5 http://security.ubuntu.com/ubuntu jammy-security InRelease [110 kB]\n",
            "Hit:6 http://archive.ubuntu.com/ubuntu jammy-backports InRelease\n",
            "Get:7 http://archive.ubuntu.com/ubuntu jammy-updates/universe amd64 Packages [1,333 kB]\n",
            "Get:8 https://ppa.launchpadcontent.net/c2d4u.team/c2d4u4.0+/ubuntu jammy InRelease [18.1 kB]\n",
            "Hit:9 https://ppa.launchpadcontent.net/deadsnakes/ppa/ubuntu jammy InRelease\n",
            "Get:10 http://archive.ubuntu.com/ubuntu jammy-updates/main amd64 Packages [1,678 kB]\n",
            "Hit:11 https://ppa.launchpadcontent.net/graphics-drivers/ppa/ubuntu jammy InRelease\n",
            "Hit:12 https://ppa.launchpadcontent.net/ubuntugis/ppa/ubuntu jammy InRelease\n",
            "Get:13 https://ppa.launchpadcontent.net/c2d4u.team/c2d4u4.0+/ubuntu jammy/main Sources [2,268 kB]\n",
            "Get:14 https://ppa.launchpadcontent.net/c2d4u.team/c2d4u4.0+/ubuntu jammy/main amd64 Packages [1,164 kB]\n",
            "Fetched 6,693 kB in 2s (2,979 kB/s)\n",
            "Reading package lists... Done\n",
            "Reading package lists... Done\n",
            "Building dependency tree... Done\n",
            "Reading state information... Done\n",
            "libarchive-dev is already the newest version (3.6.0-1ubuntu1).\n",
            "0 upgraded, 0 newly installed, 0 to remove and 40 not upgraded.\n"
          ]
        }
      ]
    },
    {
      "cell_type": "code",
      "source": [
        "# prompt: Install GraphViz & PyDot\n",
        "\n",
        "!apt-get install graphviz\n",
        "!pip install pydot\n"
      ],
      "metadata": {
        "colab": {
          "base_uri": "https://localhost:8080/"
        },
        "id": "-PyrdSZ9OHUW",
        "outputId": "5f9719e9-70d5-495a-b1e9-55ab245e2e92"
      },
      "execution_count": null,
      "outputs": [
        {
          "output_type": "stream",
          "name": "stdout",
          "text": [
            "Reading package lists... Done\n",
            "Building dependency tree... Done\n",
            "Reading state information... Done\n",
            "graphviz is already the newest version (2.42.2-6).\n",
            "0 upgraded, 0 newly installed, 0 to remove and 40 not upgraded.\n",
            "Requirement already satisfied: pydot in /usr/local/lib/python3.10/dist-packages (1.4.2)\n",
            "Requirement already satisfied: pyparsing>=2.1.4 in /usr/local/lib/python3.10/dist-packages (from pydot) (3.1.1)\n"
          ]
        }
      ]
    },
    {
      "cell_type": "code",
      "source": [
        "# prompt: Install cartopy\n",
        "\n",
        "!pip install cartopy\n"
      ],
      "metadata": {
        "colab": {
          "base_uri": "https://localhost:8080/"
        },
        "id": "m79KzazUOj9Y",
        "outputId": "46fe8d48-60d9-4d86-94a2-e4d4a8587fb4"
      },
      "execution_count": null,
      "outputs": [
        {
          "output_type": "stream",
          "name": "stdout",
          "text": [
            "Collecting cartopy\n",
            "  Downloading Cartopy-0.22.0-cp310-cp310-manylinux_2_17_x86_64.manylinux2014_x86_64.whl (11.8 MB)\n",
            "\u001b[2K     \u001b[90m━━━━━━━━━━━━━━━━━━━━━━━━━━━━━━━━━━━━━━━━\u001b[0m \u001b[32m11.8/11.8 MB\u001b[0m \u001b[31m29.0 MB/s\u001b[0m eta \u001b[36m0:00:00\u001b[0m\n",
            "\u001b[?25hRequirement already satisfied: numpy>=1.21 in /usr/local/lib/python3.10/dist-packages (from cartopy) (1.23.5)\n",
            "Requirement already satisfied: matplotlib>=3.4 in /usr/local/lib/python3.10/dist-packages (from cartopy) (3.7.1)\n",
            "Requirement already satisfied: shapely>=1.7 in /usr/local/lib/python3.10/dist-packages (from cartopy) (2.0.2)\n",
            "Requirement already satisfied: packaging>=20 in /usr/local/lib/python3.10/dist-packages (from cartopy) (23.2)\n",
            "Requirement already satisfied: pyshp>=2.1 in /usr/local/lib/python3.10/dist-packages (from cartopy) (2.3.1)\n",
            "Requirement already satisfied: pyproj>=3.1.0 in /usr/local/lib/python3.10/dist-packages (from cartopy) (3.6.1)\n",
            "Requirement already satisfied: contourpy>=1.0.1 in /usr/local/lib/python3.10/dist-packages (from matplotlib>=3.4->cartopy) (1.2.0)\n",
            "Requirement already satisfied: cycler>=0.10 in /usr/local/lib/python3.10/dist-packages (from matplotlib>=3.4->cartopy) (0.12.1)\n",
            "Requirement already satisfied: fonttools>=4.22.0 in /usr/local/lib/python3.10/dist-packages (from matplotlib>=3.4->cartopy) (4.47.2)\n",
            "Requirement already satisfied: kiwisolver>=1.0.1 in /usr/local/lib/python3.10/dist-packages (from matplotlib>=3.4->cartopy) (1.4.5)\n",
            "Requirement already satisfied: pillow>=6.2.0 in /usr/local/lib/python3.10/dist-packages (from matplotlib>=3.4->cartopy) (9.4.0)\n",
            "Requirement already satisfied: pyparsing>=2.3.1 in /usr/local/lib/python3.10/dist-packages (from matplotlib>=3.4->cartopy) (3.1.1)\n",
            "Requirement already satisfied: python-dateutil>=2.7 in /usr/local/lib/python3.10/dist-packages (from matplotlib>=3.4->cartopy) (2.8.2)\n",
            "Requirement already satisfied: certifi in /usr/local/lib/python3.10/dist-packages (from pyproj>=3.1.0->cartopy) (2023.11.17)\n",
            "Requirement already satisfied: six>=1.5 in /usr/local/lib/python3.10/dist-packages (from python-dateutil>=2.7->matplotlib>=3.4->cartopy) (1.16.0)\n",
            "Installing collected packages: cartopy\n",
            "Successfully installed cartopy-0.22.0\n"
          ]
        }
      ]
    },
    {
      "cell_type": "code",
      "source": [
        "!git clone https://huggingface.co/spaces/anzorq/finetuned_diffusion"
      ],
      "metadata": {
        "colab": {
          "base_uri": "https://localhost:8080/"
        },
        "id": "ewWadVEsLqcj",
        "outputId": "62494a0e-8cd8-42a5-ce2a-eece8cddfb6b"
      },
      "execution_count": null,
      "outputs": [
        {
          "output_type": "stream",
          "name": "stdout",
          "text": [
            "Cloning into 'finetuned_diffusion'...\n",
            "remote: Enumerating objects: 364, done.\u001b[K\n",
            "remote: Counting objects: 100% (364/364), done.\u001b[K\n",
            "remote: Compressing objects: 100% (135/135), done.\u001b[K\n",
            "remote: Total 364 (delta 227), reused 364 (delta 227), pack-reused 0\u001b[K\n",
            "Receiving objects: 100% (364/364), 129.17 KiB | 8.61 MiB/s, done.\n",
            "Resolving deltas: 100% (227/227), done.\n"
          ]
        }
      ]
    },
    {
      "cell_type": "code",
      "source": [
        "%cd finetuned_diffusion"
      ],
      "metadata": {
        "colab": {
          "base_uri": "https://localhost:8080/"
        },
        "id": "C5mfbrlC0bgK",
        "outputId": "92eea851-2a8d-4ca1-bc4e-b7d8262d17f1"
      },
      "execution_count": null,
      "outputs": [
        {
          "output_type": "stream",
          "name": "stdout",
          "text": [
            "/content/finetuned_diffusion\n"
          ]
        }
      ]
    },
    {
      "cell_type": "code",
      "source": [
        "!ls"
      ],
      "metadata": {
        "colab": {
          "base_uri": "https://localhost:8080/"
        },
        "id": "2lNvyRgH4D1T",
        "outputId": "947453d5-0614-43db-89a6-71886d18cb9d"
      },
      "execution_count": null,
      "outputs": [
        {
          "output_type": "stream",
          "name": "stdout",
          "text": [
            "app.py\tnsfw.png  README.md  requirements.txt  style.css  utils.py\n"
          ]
        }
      ]
    },
    {
      "cell_type": "code",
      "source": [
        "!pip install -r requirements.txt -q"
      ],
      "metadata": {
        "id": "Ar6qbP8JMBWo"
      },
      "execution_count": null,
      "outputs": []
    },
    {
      "cell_type": "code",
      "source": [
        "pip install xformers --no-binary :all:"
      ],
      "metadata": {
        "colab": {
          "base_uri": "https://localhost:8080/"
        },
        "id": "sDT-6AIt40X0",
        "outputId": "5eab8db2-c367-48e3-c1b9-d446755393b4"
      },
      "execution_count": null,
      "outputs": [
        {
          "output_type": "stream",
          "name": "stdout",
          "text": [
            "Collecting xformers\n",
            "  Downloading xformers-0.0.24.tar.gz (3.9 MB)\n",
            "\u001b[2K     \u001b[90m━━━━━━━━━━━━━━━━━━━━━━━━━━━━━━━━━━━━━━━━\u001b[0m \u001b[32m3.9/3.9 MB\u001b[0m \u001b[31m14.4 MB/s\u001b[0m eta \u001b[36m0:00:00\u001b[0m\n",
            "\u001b[?25h  Preparing metadata (setup.py) ... \u001b[?25l\u001b[?25hdone\n",
            "Requirement already satisfied: torch>=2.1 in /usr/local/lib/python3.10/dist-packages (from xformers) (2.1.0+cu121)\n",
            "Requirement already satisfied: numpy in /usr/local/lib/python3.10/dist-packages (from xformers) (1.23.5)\n",
            "Requirement already satisfied: filelock in /usr/local/lib/python3.10/dist-packages (from torch>=2.1->xformers) (3.13.1)\n",
            "Requirement already satisfied: typing-extensions in /usr/local/lib/python3.10/dist-packages (from torch>=2.1->xformers) (4.9.0)\n",
            "Requirement already satisfied: sympy in /usr/local/lib/python3.10/dist-packages (from torch>=2.1->xformers) (1.12)\n",
            "Requirement already satisfied: networkx in /usr/local/lib/python3.10/dist-packages (from torch>=2.1->xformers) (3.2.1)\n",
            "Requirement already satisfied: jinja2 in /usr/local/lib/python3.10/dist-packages (from torch>=2.1->xformers) (3.1.3)\n",
            "Requirement already satisfied: fsspec in /usr/local/lib/python3.10/dist-packages (from torch>=2.1->xformers) (2023.6.0)\n",
            "Requirement already satisfied: triton==2.1.0 in /usr/local/lib/python3.10/dist-packages (from torch>=2.1->xformers) (2.1.0)\n",
            "Requirement already satisfied: MarkupSafe>=2.0 in /usr/local/lib/python3.10/dist-packages (from jinja2->torch>=2.1->xformers) (2.1.4)\n",
            "Requirement already satisfied: mpmath>=0.19 in /usr/local/lib/python3.10/dist-packages (from sympy->torch>=2.1->xformers) (1.3.0)\n",
            "Building wheels for collected packages: xformers\n",
            "  Building wheel for xformers (setup.py) ... \u001b[?25l\u001b[?25hdone\n",
            "  Created wheel for xformers: filename=xformers-0.0.24-cp310-cp310-linux_x86_64.whl size=9800102 sha256=7812615898826c5221fab237437a33d4b48339356a4872505121b6188b610d42\n",
            "  Stored in directory: /root/.cache/pip/wheels/f1/3d/73/1c2082a69c6d62fba4c64d0a027b48ac4df001f9461450311d\n",
            "Successfully built xformers\n",
            "Successfully installed xformers-0.0.24\n"
          ]
        }
      ]
    },
    {
      "cell_type": "code",
      "source": [
        "!pip install gradio -q"
      ],
      "metadata": {
        "id": "YxUc3SnEMgfY"
      },
      "execution_count": null,
      "outputs": []
    },
    {
      "cell_type": "code",
      "source": [
        "pip install kaleido cohere openai"
      ],
      "metadata": {
        "colab": {
          "base_uri": "https://localhost:8080/"
        },
        "id": "mMEuVXqD4vO9",
        "outputId": "43f7fb67-0037-49d0-d266-e0549a1f677c"
      },
      "execution_count": null,
      "outputs": [
        {
          "output_type": "stream",
          "name": "stdout",
          "text": [
            "Collecting kaleido\n",
            "  Downloading kaleido-0.2.1-py2.py3-none-manylinux1_x86_64.whl (79.9 MB)\n",
            "\u001b[2K     \u001b[90m━━━━━━━━━━━━━━━━━━━━━━━━━━━━━━━━━━━━━━━━\u001b[0m \u001b[32m79.9/79.9 MB\u001b[0m \u001b[31m8.3 MB/s\u001b[0m eta \u001b[36m0:00:00\u001b[0m\n",
            "\u001b[?25hCollecting cohere\n",
            "  Downloading cohere-4.45-py3-none-any.whl (52 kB)\n",
            "\u001b[2K     \u001b[90m━━━━━━━━━━━━━━━━━━━━━━━━━━━━━━━━━━━━━━━━\u001b[0m \u001b[32m52.1/52.1 kB\u001b[0m \u001b[31m6.5 MB/s\u001b[0m eta \u001b[36m0:00:00\u001b[0m\n",
            "\u001b[?25hCollecting openai\n",
            "  Downloading openai-1.11.1-py3-none-any.whl (226 kB)\n",
            "\u001b[2K     \u001b[90m━━━━━━━━━━━━━━━━━━━━━━━━━━━━━━━━━━━━━━━━\u001b[0m \u001b[32m226.1/226.1 kB\u001b[0m \u001b[31m20.9 MB/s\u001b[0m eta \u001b[36m0:00:00\u001b[0m\n",
            "\u001b[?25hRequirement already satisfied: aiohttp<4.0,>=3.0 in /usr/local/lib/python3.10/dist-packages (from cohere) (3.9.3)\n",
            "Collecting backoff<3.0,>=2.0 (from cohere)\n",
            "  Downloading backoff-2.2.1-py3-none-any.whl (15 kB)\n",
            "Collecting fastavro<2.0,>=1.8 (from cohere)\n",
            "  Downloading fastavro-1.9.3-cp310-cp310-manylinux_2_17_x86_64.manylinux2014_x86_64.whl (3.1 MB)\n",
            "\u001b[2K     \u001b[90m━━━━━━━━━━━━━━━━━━━━━━━━━━━━━━━━━━━━━━━━\u001b[0m \u001b[32m3.1/3.1 MB\u001b[0m \u001b[31m73.7 MB/s\u001b[0m eta \u001b[36m0:00:00\u001b[0m\n",
            "\u001b[?25hCollecting importlib_metadata<7.0,>=6.0 (from cohere)\n",
            "  Downloading importlib_metadata-6.11.0-py3-none-any.whl (23 kB)\n",
            "Requirement already satisfied: requests<3.0.0,>=2.25.0 in /usr/local/lib/python3.10/dist-packages (from cohere) (2.31.0)\n",
            "Requirement already satisfied: urllib3<3,>=1.26 in /usr/local/lib/python3.10/dist-packages (from cohere) (2.0.7)\n",
            "Requirement already satisfied: anyio<5,>=3.5.0 in /usr/local/lib/python3.10/dist-packages (from openai) (3.7.1)\n",
            "Requirement already satisfied: distro<2,>=1.7.0 in /usr/lib/python3/dist-packages (from openai) (1.7.0)\n",
            "Requirement already satisfied: httpx<1,>=0.23.0 in /usr/local/lib/python3.10/dist-packages (from openai) (0.26.0)\n",
            "Requirement already satisfied: pydantic<3,>=1.9.0 in /usr/local/lib/python3.10/dist-packages (from openai) (2.6.1)\n",
            "Requirement already satisfied: sniffio in /usr/local/lib/python3.10/dist-packages (from openai) (1.3.0)\n",
            "Requirement already satisfied: tqdm>4 in /usr/local/lib/python3.10/dist-packages (from openai) (4.66.1)\n",
            "Requirement already satisfied: typing-extensions<5,>=4.7 in /usr/local/lib/python3.10/dist-packages (from openai) (4.9.0)\n",
            "Requirement already satisfied: aiosignal>=1.1.2 in /usr/local/lib/python3.10/dist-packages (from aiohttp<4.0,>=3.0->cohere) (1.3.1)\n",
            "Requirement already satisfied: attrs>=17.3.0 in /usr/local/lib/python3.10/dist-packages (from aiohttp<4.0,>=3.0->cohere) (23.2.0)\n",
            "Requirement already satisfied: frozenlist>=1.1.1 in /usr/local/lib/python3.10/dist-packages (from aiohttp<4.0,>=3.0->cohere) (1.4.1)\n",
            "Requirement already satisfied: multidict<7.0,>=4.5 in /usr/local/lib/python3.10/dist-packages (from aiohttp<4.0,>=3.0->cohere) (6.0.4)\n",
            "Requirement already satisfied: yarl<2.0,>=1.0 in /usr/local/lib/python3.10/dist-packages (from aiohttp<4.0,>=3.0->cohere) (1.9.4)\n",
            "Requirement already satisfied: async-timeout<5.0,>=4.0 in /usr/local/lib/python3.10/dist-packages (from aiohttp<4.0,>=3.0->cohere) (4.0.3)\n",
            "Requirement already satisfied: idna>=2.8 in /usr/local/lib/python3.10/dist-packages (from anyio<5,>=3.5.0->openai) (3.6)\n",
            "Requirement already satisfied: exceptiongroup in /usr/local/lib/python3.10/dist-packages (from anyio<5,>=3.5.0->openai) (1.2.0)\n",
            "Requirement already satisfied: certifi in /usr/local/lib/python3.10/dist-packages (from httpx<1,>=0.23.0->openai) (2023.11.17)\n",
            "Requirement already satisfied: httpcore==1.* in /usr/local/lib/python3.10/dist-packages (from httpx<1,>=0.23.0->openai) (1.0.2)\n",
            "Requirement already satisfied: h11<0.15,>=0.13 in /usr/local/lib/python3.10/dist-packages (from httpcore==1.*->httpx<1,>=0.23.0->openai) (0.14.0)\n",
            "Requirement already satisfied: zipp>=0.5 in /usr/local/lib/python3.10/dist-packages (from importlib_metadata<7.0,>=6.0->cohere) (3.17.0)\n",
            "Requirement already satisfied: annotated-types>=0.4.0 in /usr/local/lib/python3.10/dist-packages (from pydantic<3,>=1.9.0->openai) (0.6.0)\n",
            "Requirement already satisfied: pydantic-core==2.16.2 in /usr/local/lib/python3.10/dist-packages (from pydantic<3,>=1.9.0->openai) (2.16.2)\n",
            "Requirement already satisfied: charset-normalizer<4,>=2 in /usr/local/lib/python3.10/dist-packages (from requests<3.0.0,>=2.25.0->cohere) (3.3.2)\n",
            "Installing collected packages: kaleido, importlib_metadata, fastavro, backoff, openai, cohere\n",
            "  Attempting uninstall: importlib_metadata\n",
            "    Found existing installation: importlib-metadata 7.0.1\n",
            "    Uninstalling importlib-metadata-7.0.1:\n",
            "      Successfully uninstalled importlib-metadata-7.0.1\n",
            "\u001b[31mERROR: pip's dependency resolver does not currently take into account all the packages that are installed. This behaviour is the source of the following dependency conflicts.\n",
            "llmx 0.0.15a0 requires tiktoken, which is not installed.\u001b[0m\u001b[31m\n",
            "\u001b[0mSuccessfully installed backoff-2.2.1 cohere-4.45 fastavro-1.9.3 importlib_metadata-6.11.0 kaleido-0.2.1 openai-1.11.1\n"
          ]
        }
      ]
    },
    {
      "cell_type": "code",
      "source": [
        "pip install ffmpy"
      ],
      "metadata": {
        "colab": {
          "base_uri": "https://localhost:8080/"
        },
        "id": "H0ZwvJVK6Gsq",
        "outputId": "819fba15-2c5f-4adf-cb2c-59225b50c58f"
      },
      "execution_count": null,
      "outputs": [
        {
          "output_type": "stream",
          "name": "stdout",
          "text": [
            "Requirement already satisfied: ffmpy in /usr/local/lib/python3.10/dist-packages (0.3.1)\n"
          ]
        }
      ]
    },
    {
      "cell_type": "code",
      "source": [
        "pip install tiktoken"
      ],
      "metadata": {
        "colab": {
          "base_uri": "https://localhost:8080/"
        },
        "id": "_hHLMEmd6VHG",
        "outputId": "a885b713-7ade-4271-a271-10c8e447986d"
      },
      "execution_count": null,
      "outputs": [
        {
          "output_type": "stream",
          "name": "stdout",
          "text": [
            "Collecting tiktoken\n",
            "  Downloading tiktoken-0.5.2-cp310-cp310-manylinux_2_17_x86_64.manylinux2014_x86_64.whl (2.0 MB)\n",
            "\u001b[2K     \u001b[90m━━━━━━━━━━━━━━━━━━━━━━━━━━━━━━━━━━━━━━━━\u001b[0m \u001b[32m2.0/2.0 MB\u001b[0m \u001b[31m10.1 MB/s\u001b[0m eta \u001b[36m0:00:00\u001b[0m\n",
            "\u001b[?25hRequirement already satisfied: regex>=2022.1.18 in /usr/local/lib/python3.10/dist-packages (from tiktoken) (2023.12.25)\n",
            "Requirement already satisfied: requests>=2.26.0 in /usr/local/lib/python3.10/dist-packages (from tiktoken) (2.31.0)\n",
            "Requirement already satisfied: charset-normalizer<4,>=2 in /usr/local/lib/python3.10/dist-packages (from requests>=2.26.0->tiktoken) (3.3.2)\n",
            "Requirement already satisfied: idna<4,>=2.5 in /usr/local/lib/python3.10/dist-packages (from requests>=2.26.0->tiktoken) (3.6)\n",
            "Requirement already satisfied: urllib3<3,>=1.21.1 in /usr/local/lib/python3.10/dist-packages (from requests>=2.26.0->tiktoken) (2.0.7)\n",
            "Requirement already satisfied: certifi>=2017.4.17 in /usr/local/lib/python3.10/dist-packages (from requests>=2.26.0->tiktoken) (2023.11.17)\n",
            "Installing collected packages: tiktoken\n",
            "Successfully installed tiktoken-0.5.2\n"
          ]
        }
      ]
    },
    {
      "cell_type": "code",
      "source": [
        "%%writefile app.py\n",
        "from diffusers import AutoencoderKL, UNet2DConditionModel, StableDiffusionPipeline, StableDiffusionImg2ImgPipeline, DPMSolverMultistepScheduler\n",
        "import gradio as gr\n",
        "import torch\n",
        "from PIL import Image\n",
        "import utils\n",
        "import datetime\n",
        "import time\n",
        "import psutil\n",
        "import random\n",
        "\n",
        "\n",
        "start_time = time.time()\n",
        "is_colab = utils.is_google_colab()\n",
        "state = None\n",
        "current_steps = 25\n",
        "\n",
        "class Model:\n",
        "    def __init__(self, name, path=\"\", prefix=\"\"):\n",
        "        self.name = name\n",
        "        self.path = path\n",
        "        self.prefix = prefix\n",
        "        self.pipe_t2i = None\n",
        "        self.pipe_i2i = None\n",
        "\n",
        "models = [\n",
        "     Model(\"Arcane\", \"nitrosocke/Arcane-Diffusion\", \"arcane style \"),\n",
        "     Model(\"Dreamlike Diffusion 1.0\", \"dreamlike-art/dreamlike-diffusion-1.0\", \"dreamlikeart \"),\n",
        "     Model(\"Archer\", \"nitrosocke/archer-diffusion\", \"archer style \"),\n",
        "     Model(\"Anything V4\", \"andite/anything-v4.0\", \"\"),\n",
        "     Model(\"Modern Disney\", \"nitrosocke/mo-di-diffusion\", \"modern disney style \"),\n",
        "     Model(\"Classic Disney\", \"nitrosocke/classic-anim-diffusion\", \"classic disney style \"),\n",
        "     Model(\"Loving Vincent (Van Gogh)\", \"dallinmackay/Van-Gogh-diffusion\", \"lvngvncnt \"),\n",
        "     Model(\"Wavyfusion\", \"wavymulder/wavyfusion\", \"wa-vy style \"),\n",
        "     Model(\"Analog Diffusion\", \"wavymulder/Analog-Diffusion\", \"analog style \"),\n",
        "     Model(\"Redshift renderer (Cinema4D)\", \"nitrosocke/redshift-diffusion\", \"redshift style \"),\n",
        "     Model(\"Midjourney v4 style\", \"prompthero/midjourney-v4-diffusion\", \"mdjrny-v4 style \"),\n",
        "     Model(\"Waifu\", \"hakurei/waifu-diffusion\"),\n",
        "     Model(\"Cyberpunk Anime\", \"DGSpitzer/Cyberpunk-Anime-Diffusion\", \"dgs illustration style \"),\n",
        "     Model(\"Elden Ring\", \"nitrosocke/elden-ring-diffusion\", \"elden ring style \"),\n",
        "     Model(\"TrinArt v2\", \"naclbit/trinart_stable_diffusion_v2\"),\n",
        "     Model(\"Spider-Verse\", \"nitrosocke/spider-verse-diffusion\", \"spiderverse style \"),\n",
        "     Model(\"Balloon Art\", \"Fictiverse/Stable_Diffusion_BalloonArt_Model\", \"BalloonArt \"),\n",
        "     Model(\"Tron Legacy\", \"dallinmackay/Tron-Legacy-diffusion\", \"trnlgcy \"),\n",
        "     Model(\"Pokémon\", \"lambdalabs/sd-pokemon-diffusers\"),\n",
        "     Model(\"Pony Diffusion\", \"AstraliteHeart/pony-diffusion\"),\n",
        "     Model(\"Robo Diffusion\", \"nousr/robo-diffusion\"),\n",
        "     Model(\"Epic Diffusion\", \"johnslegers/epic-diffusion\")\n",
        "  ]\n",
        "\n",
        "custom_model = None\n",
        "if is_colab:\n",
        "  models.insert(0, Model(\"Custom model\"))\n",
        "  custom_model = models[0]\n",
        "\n",
        "last_mode = \"txt2img\"\n",
        "current_model = models[1] if is_colab else models[0]\n",
        "current_model_path = current_model.path\n",
        "\n",
        "if is_colab:\n",
        "  pipe = StableDiffusionPipeline.from_pretrained(\n",
        "      current_model.path,\n",
        "      torch_dtype=torch.float16,\n",
        "      scheduler=DPMSolverMultistepScheduler.from_pretrained(current_model.path, subfolder=\"scheduler\"),\n",
        "      safety_checker=lambda images, clip_input: (images, False)\n",
        "      )\n",
        "\n",
        "else:\n",
        "  pipe = StableDiffusionPipeline.from_pretrained(\n",
        "      current_model.path,\n",
        "      torch_dtype=torch.float16,\n",
        "      scheduler=DPMSolverMultistepScheduler.from_pretrained(current_model.path, subfolder=\"scheduler\")\n",
        "      )\n",
        "\n",
        "if torch.cuda.is_available():\n",
        "  pipe = pipe.to(\"cuda\")\n",
        "  pipe.enable_xformers_memory_efficient_attention()\n",
        "\n",
        "device = \"GPU 🔥\" if torch.cuda.is_available() else \"CPU 🥶\"\n",
        "\n",
        "def error_str(error, title=\"Error\"):\n",
        "    return f\"\"\"#### {title}\n",
        "            {error}\"\"\"  if error else \"\"\n",
        "\n",
        "def update_state(new_state):\n",
        "  global state\n",
        "  state = new_state\n",
        "\n",
        "def update_state_info(old_state):\n",
        "  if state and state != old_state:\n",
        "    return gr.update(value=state)\n",
        "\n",
        "def custom_model_changed(path):\n",
        "  models[0].path = path\n",
        "  global current_model\n",
        "  current_model = models[0]\n",
        "\n",
        "def on_model_change(model_name):\n",
        "\n",
        "  prefix = \"Enter prompt. \\\"\" + next((m.prefix for m in models if m.name == model_name), None) + \"\\\" is prefixed automatically\" if model_name != models[0].name else \"Don't forget to use the custom model prefix in the prompt!\"\n",
        "\n",
        "  return gr.update(visible = model_name == models[0].name), gr.update(placeholder=prefix)\n",
        "\n",
        "def on_steps_change(steps):\n",
        "  global current_steps\n",
        "  current_steps = steps\n",
        "\n",
        "def pipe_callback(step: int, timestep: int, latents: torch.FloatTensor):\n",
        "    update_state(f\"{step}/{current_steps} steps\")#\\nTime left, sec: {timestep/100:.0f}\")\n",
        "\n",
        "def inference(model_name, prompt, guidance, steps, n_images=1, width=512, height=512, seed=0, img=None, strength=0.5, neg_prompt=\"\"):\n",
        "\n",
        "  update_state(\" \")\n",
        "\n",
        "  print(psutil.virtual_memory()) # print memory usage\n",
        "\n",
        "  global current_model\n",
        "  for model in models:\n",
        "    if model.name == model_name:\n",
        "      current_model = model\n",
        "      model_path = current_model.path\n",
        "\n",
        "  # generator = torch.Generator('cuda').manual_seed(seed) if seed != 0 else None\n",
        "  if seed == 0:\n",
        "    seed = random.randint(0, 2147483647)\n",
        "\n",
        "  generator = torch.Generator('cuda').manual_seed(seed)\n",
        "\n",
        "  try:\n",
        "    if img is not None:\n",
        "      return img_to_img(model_path, prompt, n_images, neg_prompt, img, strength, guidance, steps, width, height, generator, seed), f\"Done. Seed: {seed}\"\n",
        "    else:\n",
        "      return txt_to_img(model_path, prompt, n_images, neg_prompt, guidance, steps, width, height, generator, seed), f\"Done. Seed: {seed}\"\n",
        "  except Exception as e:\n",
        "    return None, error_str(e)\n",
        "\n",
        "def txt_to_img(model_path, prompt, n_images, neg_prompt, guidance, steps, width, height, generator, seed):\n",
        "\n",
        "    print(f\"{datetime.datetime.now()} txt_to_img, model: {current_model.name}\")\n",
        "\n",
        "    global last_mode\n",
        "    global pipe\n",
        "    global current_model_path\n",
        "    if model_path != current_model_path or last_mode != \"txt2img\":\n",
        "        current_model_path = model_path\n",
        "\n",
        "        update_state(f\"Loading {current_model.name} text-to-image model...\")\n",
        "\n",
        "        if is_colab or current_model == custom_model:\n",
        "          pipe = StableDiffusionPipeline.from_pretrained(\n",
        "              current_model_path,\n",
        "              torch_dtype=torch.float16,\n",
        "              scheduler=DPMSolverMultistepScheduler.from_pretrained(current_model.path, subfolder=\"scheduler\"),\n",
        "              safety_checker=lambda images, clip_input: (images, False)\n",
        "              )\n",
        "        else:\n",
        "          pipe = StableDiffusionPipeline.from_pretrained(\n",
        "              current_model_path,\n",
        "              torch_dtype=torch.float16,\n",
        "              scheduler=DPMSolverMultistepScheduler.from_pretrained(current_model.path, subfolder=\"scheduler\")\n",
        "              )\n",
        "          # pipe = pipe.to(\"cpu\")\n",
        "          # pipe = current_model.pipe_t2i\n",
        "\n",
        "        if torch.cuda.is_available():\n",
        "          pipe = pipe.to(\"cuda\")\n",
        "          pipe.enable_xformers_memory_efficient_attention()\n",
        "        last_mode = \"txt2img\"\n",
        "\n",
        "    prompt = current_model.prefix + prompt\n",
        "    result = pipe(\n",
        "      prompt,\n",
        "      negative_prompt = neg_prompt,\n",
        "      num_images_per_prompt=n_images,\n",
        "      num_inference_steps = int(steps),\n",
        "      guidance_scale = guidance,\n",
        "      width = width,\n",
        "      height = height,\n",
        "      generator = generator,\n",
        "      callback=pipe_callback)\n",
        "\n",
        "    # update_state(f\"Done. Seed: {seed}\")\n",
        "\n",
        "    return replace_nsfw_images(result)\n",
        "\n",
        "def img_to_img(model_path, prompt, n_images, neg_prompt, img, strength, guidance, steps, width, height, generator, seed):\n",
        "\n",
        "    print(f\"{datetime.datetime.now()} img_to_img, model: {model_path}\")\n",
        "\n",
        "    global last_mode\n",
        "    global pipe\n",
        "    global current_model_path\n",
        "    if model_path != current_model_path or last_mode != \"img2img\":\n",
        "        current_model_path = model_path\n",
        "\n",
        "        update_state(f\"Loading {current_model.name} image-to-image model...\")\n",
        "\n",
        "        if is_colab or current_model == custom_model:\n",
        "          pipe = StableDiffusionImg2ImgPipeline.from_pretrained(\n",
        "              current_model_path,\n",
        "              torch_dtype=torch.float16,\n",
        "              scheduler=DPMSolverMultistepScheduler.from_pretrained(current_model.path, subfolder=\"scheduler\"),\n",
        "              safety_checker=lambda images, clip_input: (images, False)\n",
        "              )\n",
        "        else:\n",
        "          pipe = StableDiffusionImg2ImgPipeline.from_pretrained(\n",
        "              current_model_path,\n",
        "              torch_dtype=torch.float16,\n",
        "              scheduler=DPMSolverMultistepScheduler.from_pretrained(current_model.path, subfolder=\"scheduler\")\n",
        "              )\n",
        "          # pipe = pipe.to(\"cpu\")\n",
        "          # pipe = current_model.pipe_i2i\n",
        "\n",
        "        if torch.cuda.is_available():\n",
        "          pipe = pipe.to(\"cuda\")\n",
        "          pipe.enable_xformers_memory_efficient_attention()\n",
        "        last_mode = \"img2img\"\n",
        "\n",
        "    prompt = current_model.prefix + prompt\n",
        "    ratio = min(height / img.height, width / img.width)\n",
        "    img = img.resize((int(img.width * ratio), int(img.height * ratio)), Image.LANCZOS)\n",
        "    result = pipe(\n",
        "        prompt,\n",
        "        negative_prompt = neg_prompt,\n",
        "        num_images_per_prompt=n_images,\n",
        "        image = img,\n",
        "        num_inference_steps = int(steps),\n",
        "        strength = strength,\n",
        "        guidance_scale = guidance,\n",
        "        # width = width,\n",
        "        # height = height,\n",
        "        generator = generator,\n",
        "        callback=pipe_callback)\n",
        "\n",
        "    # update_state(f\"Done. Seed: {seed}\")\n",
        "\n",
        "    return replace_nsfw_images(result)\n",
        "\n",
        "def replace_nsfw_images(results):\n",
        "\n",
        "    if is_colab:\n",
        "      return results.images\n",
        "\n",
        "    for i in range(len(results.images)):\n",
        "      if results.nsfw_content_detected[i]:\n",
        "        results.images[i] = Image.open(\"nsfw.png\")\n",
        "    return results.images\n",
        "\n",
        "# css = \"\"\".finetuned-diffusion-div div{display:inline-flex;align-items:center;gap:.8rem;font-size:1.75rem}.finetuned-diffusion-div div h1{font-weight:900;margin-bottom:7px}.finetuned-diffusion-div p{margin-bottom:10px;font-size:94%}a{text-decoration:underline}.tabs{margin-top:0;margin-bottom:0}#gallery{min-height:20rem}\n",
        "# \"\"\"\n",
        "with gr.Blocks(css=\"style.css\") as demo:\n",
        "    gr.HTML(\n",
        "        f\"\"\"\n",
        "            <div class=\"finetuned-diffusion-div\">\n",
        "              <div>\n",
        "                <h1>Finetuned Diffusion</h1>\n",
        "              </div>\n",
        "              <p>\n",
        "               Demo for multiple fine-tuned Stable Diffusion models, trained on different styles: <br>\n",
        "               <a href=\"https://huggingface.co/nitrosocke/Arcane-Diffusion\">Arcane</a>, <a href=\"https://huggingface.co/nitrosocke/archer-diffusion\">Archer</a>, <a href=\"https://huggingface.co/nitrosocke/elden-ring-diffusion\">Elden Ring</a>, <a href=\"https://huggingface.co/nitrosocke/spider-verse-diffusion\">Spider-Verse</a>, <a href=\"https://huggingface.co/nitrosocke/mo-di-diffusion\">Modern Disney</a>, <a href=\"https://huggingface.co/nitrosocke/classic-anim-diffusion\">Classic Disney</a>, <a href=\"https://huggingface.co/dallinmackay/Van-Gogh-diffusion\">Loving Vincent (Van Gogh)</a>, <a href=\"https://huggingface.co/nitrosocke/redshift-diffusion\">Redshift renderer (Cinema4D)</a>, <a href=\"https://huggingface.co/prompthero/midjourney-v4-diffusion\">Midjourney v4 style</a>, <a href=\"https://huggingface.co/hakurei/waifu-diffusion\">Waifu</a>, <a href=\"https://huggingface.co/lambdalabs/sd-pokemon-diffusers\">Pokémon</a>, <a href=\"https://huggingface.co/AstraliteHeart/pony-diffusion\">Pony Diffusion</a>, <a href=\"https://huggingface.co/nousr/robo-diffusion\">Robo Diffusion</a>, <a href=\"https://huggingface.co/DGSpitzer/Cyberpunk-Anime-Diffusion\">Cyberpunk Anime</a>, <a href=\"https://huggingface.co/dallinmackay/Tron-Legacy-diffusion\">Tron Legacy</a>, <a href=\"https://huggingface.co/Fictiverse/Stable_Diffusion_BalloonArt_Model\">Balloon Art</a> + in colab notebook you can load any other Diffusers 🧨 SD model hosted on HuggingFace 🤗.\n",
        "              </p>\n",
        "              <p>You can skip the queue and load custom models in the colab: <a href=\"https://colab.research.google.com/gist/qunash/42112fb104509c24fd3aa6d1c11dd6e0/copy-of-fine-tuned-diffusion-gradio.ipynb\"><img data-canonical-src=\"https://colab.research.google.com/assets/colab-badge.svg\" alt=\"Open In Colab\" src=\"https://camo.githubusercontent.com/84f0493939e0c4de4e6dbe113251b4bfb5353e57134ffd9fcab6b8714514d4d1/68747470733a2f2f636f6c61622e72657365617263682e676f6f676c652e636f6d2f6173736574732f636f6c61622d62616467652e737667\"></a></p>\n",
        "               Running on <b>{device}</b>{(\" in a <b>Google Colab</b>.\" if is_colab else \"\")}\n",
        "              </p>\n",
        "              <p>You can also duplicate this space and upgrade to gpu by going to settings:<br>\n",
        "              <a style=\"display:inline-block\" href=\"https://huggingface.co/spaces/anzorq/finetuned_diffusion?duplicate=true\"><img src=\"https://img.shields.io/badge/-Duplicate%20Space-blue?labelColor=white&style=flat&logo=data:image/png;base64,iVBORw0KGgoAAAANSUhEUgAAABAAAAAQCAYAAAAf8/9hAAAAAXNSR0IArs4c6QAAAP5JREFUOE+lk7FqAkEURY+ltunEgFXS2sZGIbXfEPdLlnxJyDdYB62sbbUKpLbVNhyYFzbrrA74YJlh9r079973psed0cvUD4A+4HoCjsA85X0Dfn/RBLBgBDxnQPfAEJgBY+A9gALA4tcbamSzS4xq4FOQAJgCDwV2CPKV8tZAJcAjMMkUe1vX+U+SMhfAJEHasQIWmXNN3abzDwHUrgcRGmYcgKe0bxrblHEB4E/pndMazNpSZGcsZdBlYJcEL9Afo75molJyM2FxmPgmgPqlWNLGfwZGG6UiyEvLzHYDmoPkDDiNm9JR9uboiONcBXrpY1qmgs21x1QwyZcpvxt9NS09PlsPAAAAAElFTkSuQmCC&logoWidth=14\" alt=\"Duplicate Space\"></a></p>\n",
        "            </div>\n",
        "        \"\"\"\n",
        "    )\n",
        "    with gr.Row():\n",
        "\n",
        "        with gr.Column(scale=55):\n",
        "          with gr.Group():\n",
        "              model_name = gr.Dropdown(label=\"Model\", choices=[m.name for m in models], value=current_model.name)\n",
        "              with gr.Box(visible=False) as custom_model_group:\n",
        "                custom_model_path = gr.Textbox(label=\"Custom model path\", placeholder=\"Path to model, e.g. nitrosocke/Arcane-Diffusion\", interactive=True)\n",
        "                gr.HTML(\"<div><font size='2'>Custom models have to be downloaded first, so give it some time.</font></div>\")\n",
        "\n",
        "              with gr.Row():\n",
        "                prompt = gr.Textbox(label=\"Prompt\", show_label=False, max_lines=2,placeholder=\"Enter prompt. Style applied automatically\").style(container=False)\n",
        "                generate = gr.Button(value=\"Generate\").style(rounded=(False, True, True, False))\n",
        "\n",
        "\n",
        "              # image_out = gr.Image(height=512)\n",
        "              gallery = gr.Gallery(label=\"Generated images\", show_label=False, elem_id=\"gallery\").style(grid=[2], height=\"auto\")\n",
        "\n",
        "          state_info = gr.Textbox(label=\"State\", show_label=False, max_lines=2).style(container=False)\n",
        "          error_output = gr.Markdown()\n",
        "\n",
        "        with gr.Column(scale=45):\n",
        "          with gr.Tab(\"Options\"):\n",
        "            with gr.Group():\n",
        "              neg_prompt = gr.Textbox(label=\"Negative prompt\", placeholder=\"What to exclude from the image\")\n",
        "\n",
        "              n_images = gr.Slider(label=\"Images\", value=1, minimum=1, maximum=4, step=1)\n",
        "\n",
        "              with gr.Row():\n",
        "                guidance = gr.Slider(label=\"Guidance scale\", value=7.5, maximum=15)\n",
        "                steps = gr.Slider(label=\"Steps\", value=current_steps, minimum=2, maximum=75, step=1)\n",
        "\n",
        "              with gr.Row():\n",
        "                width = gr.Slider(label=\"Width\", value=512, minimum=64, maximum=1024, step=8)\n",
        "                height = gr.Slider(label=\"Height\", value=512, minimum=64, maximum=1024, step=8)\n",
        "\n",
        "              seed = gr.Slider(0, 2147483647, label='Seed (0 = random)', value=0, step=1)\n",
        "\n",
        "          with gr.Tab(\"Image to image\"):\n",
        "              with gr.Group():\n",
        "                image = gr.Image(label=\"Image\", height=256, tool=\"editor\", type=\"pil\")\n",
        "                strength = gr.Slider(label=\"Transformation strength\", minimum=0, maximum=1, step=0.01, value=0.5)\n",
        "\n",
        "    if is_colab:\n",
        "        model_name.change(on_model_change, inputs=model_name, outputs=[custom_model_group, prompt], queue=False)\n",
        "        custom_model_path.change(custom_model_changed, inputs=custom_model_path, outputs=None)\n",
        "    # n_images.change(lambda n: gr.Gallery().style(grid=[2 if n > 1 else 1], height=\"auto\"), inputs=n_images, outputs=gallery)\n",
        "    steps.change(on_steps_change, inputs=[steps], outputs=[], queue=False)\n",
        "\n",
        "    inputs = [model_name, prompt, guidance, steps, n_images, width, height, seed, image, strength, neg_prompt]\n",
        "    outputs = [gallery, error_output]\n",
        "    prompt.submit(inference, inputs=inputs, outputs=outputs)\n",
        "    generate.click(inference, inputs=inputs, outputs=outputs)\n",
        "\n",
        "    ex = gr.Examples([\n",
        "        [models[7].name, \"tiny cute and adorable kitten adventurer dressed in a warm overcoat with survival gear on a winters day\", 7.5, 25],\n",
        "        [models[4].name, \"portrait of dwayne johnson\", 7.0, 35],\n",
        "        [models[5].name, \"portrait of a beautiful alyx vance half life\", 10, 25],\n",
        "        [models[6].name, \"Aloy from Horizon: Zero Dawn, half body portrait, smooth, detailed armor, beautiful face, illustration\", 7.0, 30],\n",
        "        [models[5].name, \"fantasy portrait painting, digital art\", 4.0, 20],\n",
        "    ], inputs=[model_name, prompt, guidance, steps], outputs=outputs, fn=inference, cache_examples=False)\n",
        "\n",
        "    gr.HTML(\"\"\"\n",
        "    <div style=\"border-top: 1px solid #303030;\">\n",
        "      <br>\n",
        "      <p>Models by <a href=\"https://huggingface.co/nitrosocke\">@nitrosocke</a>, <a href=\"https://twitter.com/haruu1367\">@haruu1367</a>, <a href=\"https://twitter.com/DGSpitzer\">@Helixngc7293</a>, <a href=\"https://twitter.com/dal_mack\">@dal_mack</a>, <a href=\"https://twitter.com/prompthero\">@prompthero</a> and others. ❤️</p>\n",
        "      <p>This space uses the <a href=\"https://github.com/LuChengTHU/dpm-solver\">DPM-Solver++</a> sampler by <a href=\"https://arxiv.org/abs/2206.00927\">Cheng Lu, et al.</a>.</p>\n",
        "      <p>Space by:<br>\n",
        "      <a href=\"https://twitter.com/hahahahohohe\"><img src=\"https://img.shields.io/twitter/follow/hahahahohohe?label=%40anzorq&style=social\" alt=\"Twitter Follow\"></a><br>\n",
        "      <a href=\"https://github.com/qunash\"><img alt=\"GitHub followers\" src=\"https://img.shields.io/github/followers/qunash?style=social\" alt=\"Github Follow\"></a></p><br><br>\n",
        "      <a href=\"https://www.buymeacoffee.com/anzorq\" target=\"_blank\"><img src=\"https://cdn.buymeacoffee.com/buttons/v2/default-yellow.png\" alt=\"Buy Me A Coffee\" style=\"height: 45px !important;width: 162px !important;\" ></a><br><br>\n",
        "      <p><img src=\"https://visitor-badge.glitch.me/badge?page_id=anzorq.finetuned_diffusion\" alt=\"visitors\"></p>\n",
        "    </div>\n",
        "    \"\"\")\n",
        "\n",
        "    demo.load(update_state_info, inputs=state_info, outputs=state_info, every=0.5, show_progress=False)\n",
        "\n",
        "print(f\"Space built in {time.time() - start_time:.2f} seconds\")\n",
        "\n",
        "# if not is_colab:\n",
        "demo.queue(concurrency_count=1)\n",
        "demo.launch(debug=is_colab, share=is_colab)\n"
      ],
      "metadata": {
        "colab": {
          "base_uri": "https://localhost:8080/"
        },
        "id": "JLMzi7nJ7qjP",
        "outputId": "91bbbf78-aaf3-4a88-e236-c3bc9b27a720"
      },
      "execution_count": null,
      "outputs": [
        {
          "output_type": "stream",
          "name": "stdout",
          "text": [
            "Overwriting app.py\n"
          ]
        }
      ]
    },
    {
      "cell_type": "code",
      "source": [
        "pip install diffusers"
      ],
      "metadata": {
        "colab": {
          "base_uri": "https://localhost:8080/"
        },
        "id": "9X17lPiL8tMp",
        "outputId": "f691ba1a-68b2-4311-ee16-8a4277b341c2"
      },
      "execution_count": null,
      "outputs": [
        {
          "output_type": "stream",
          "name": "stdout",
          "text": [
            "Collecting diffusers\n",
            "  Downloading diffusers-0.26.1-py3-none-any.whl (1.9 MB)\n",
            "\u001b[2K     \u001b[90m━━━━━━━━━━━━━━━━━━━━━━━━━━━━━━━━━━━━━━━━\u001b[0m \u001b[32m1.9/1.9 MB\u001b[0m \u001b[31m9.7 MB/s\u001b[0m eta \u001b[36m0:00:00\u001b[0m\n",
            "\u001b[?25hRequirement already satisfied: importlib-metadata in /usr/local/lib/python3.10/dist-packages (from diffusers) (6.11.0)\n",
            "Requirement already satisfied: filelock in /usr/local/lib/python3.10/dist-packages (from diffusers) (3.13.1)\n",
            "Requirement already satisfied: huggingface-hub>=0.20.2 in /usr/local/lib/python3.10/dist-packages (from diffusers) (0.20.3)\n",
            "Requirement already satisfied: numpy in /usr/local/lib/python3.10/dist-packages (from diffusers) (1.23.5)\n",
            "Requirement already satisfied: regex!=2019.12.17 in /usr/local/lib/python3.10/dist-packages (from diffusers) (2023.12.25)\n",
            "Requirement already satisfied: requests in /usr/local/lib/python3.10/dist-packages (from diffusers) (2.31.0)\n",
            "Requirement already satisfied: safetensors>=0.3.1 in /usr/local/lib/python3.10/dist-packages (from diffusers) (0.4.2)\n",
            "Requirement already satisfied: Pillow in /usr/local/lib/python3.10/dist-packages (from diffusers) (9.4.0)\n",
            "Requirement already satisfied: fsspec>=2023.5.0 in /usr/local/lib/python3.10/dist-packages (from huggingface-hub>=0.20.2->diffusers) (2023.6.0)\n",
            "Requirement already satisfied: tqdm>=4.42.1 in /usr/local/lib/python3.10/dist-packages (from huggingface-hub>=0.20.2->diffusers) (4.66.1)\n",
            "Requirement already satisfied: pyyaml>=5.1 in /usr/local/lib/python3.10/dist-packages (from huggingface-hub>=0.20.2->diffusers) (6.0.1)\n",
            "Requirement already satisfied: typing-extensions>=3.7.4.3 in /usr/local/lib/python3.10/dist-packages (from huggingface-hub>=0.20.2->diffusers) (4.9.0)\n",
            "Requirement already satisfied: packaging>=20.9 in /usr/local/lib/python3.10/dist-packages (from huggingface-hub>=0.20.2->diffusers) (23.2)\n",
            "Requirement already satisfied: zipp>=0.5 in /usr/local/lib/python3.10/dist-packages (from importlib-metadata->diffusers) (3.17.0)\n",
            "Requirement already satisfied: charset-normalizer<4,>=2 in /usr/local/lib/python3.10/dist-packages (from requests->diffusers) (3.3.2)\n",
            "Requirement already satisfied: idna<4,>=2.5 in /usr/local/lib/python3.10/dist-packages (from requests->diffusers) (3.6)\n",
            "Requirement already satisfied: urllib3<3,>=1.21.1 in /usr/local/lib/python3.10/dist-packages (from requests->diffusers) (2.0.7)\n",
            "Requirement already satisfied: certifi>=2017.4.17 in /usr/local/lib/python3.10/dist-packages (from requests->diffusers) (2023.11.17)\n",
            "Installing collected packages: diffusers\n",
            "Successfully installed diffusers-0.26.1\n"
          ]
        }
      ]
    },
    {
      "cell_type": "code",
      "source": [
        "! python app.py"
      ],
      "metadata": {
        "colab": {
          "base_uri": "https://localhost:8080/"
        },
        "id": "Tqj8JuQF8aBC",
        "outputId": "02a2b5f0-1a26-419a-f1ec-39be8db6bbae"
      },
      "execution_count": null,
      "outputs": [
        {
          "output_type": "stream",
          "name": "stdout",
          "text": [
            "The cache for model files in Transformers v4.22.0 has been updated. Migrating your old cache. This is a one-time only operation. You can interrupt this and resume the migration later on by calling `transformers.utils.move_cache()`.\n",
            "\r0it [00:00, ?it/s]\r0it [00:00, ?it/s]\n",
            "2024-02-05 15:46:36.576715: E external/local_xla/xla/stream_executor/cuda/cuda_dnn.cc:9261] Unable to register cuDNN factory: Attempting to register factory for plugin cuDNN when one has already been registered\n",
            "2024-02-05 15:46:36.576833: E external/local_xla/xla/stream_executor/cuda/cuda_fft.cc:607] Unable to register cuFFT factory: Attempting to register factory for plugin cuFFT when one has already been registered\n",
            "2024-02-05 15:46:36.582820: E external/local_xla/xla/stream_executor/cuda/cuda_blas.cc:1515] Unable to register cuBLAS factory: Attempting to register factory for plugin cuBLAS when one has already been registered\n",
            "2024-02-05 15:46:39.002908: W tensorflow/compiler/tf2tensorrt/utils/py_utils.cc:38] TF-TRT Warning: Could not find TensorRT\n",
            "scheduler/scheduler_config.json: 100% 244/244 [00:00<00:00, 696kB/s]\n",
            "model_index.json: 100% 553/553 [00:00<00:00, 2.03MB/s]\n",
            "vae/diffusion_pytorch_model.safetensors not found\n",
            "Fetching 12 files:   0% 0/12 [00:00<?, ?it/s]\n",
            "text_encoder/config.json: 100% 617/617 [00:00<00:00, 1.81MB/s]\n",
            "\n",
            "(…)ature_extractor/preprocessor_config.json: 100% 342/342 [00:00<00:00, 133kB/s]\n",
            "Fetching 12 files:   8% 1/12 [00:00<00:06,  1.70it/s]\n",
            "tokenizer/merges.txt:   0% 0.00/525k [00:00<?, ?B/s]\u001b[A\n",
            "\n",
            "tokenizer/tokenizer_config.json: 100% 806/806 [00:00<00:00, 3.44MB/s]\n",
            "\n",
            "\n",
            "tokenizer/special_tokens_map.json: 100% 472/472 [00:00<00:00, 1.65MB/s]\n",
            "tokenizer/merges.txt: 100% 525k/525k [00:00<00:00, 6.35MB/s]\n",
            "\n",
            "tokenizer/vocab.json:   0% 0.00/1.06M [00:00<?, ?B/s]\u001b[A\n",
            "\n",
            "unet/config.json: 100% 748/748 [00:00<00:00, 2.92MB/s]\n",
            "\n",
            "\n",
            "vae/config.json: 100% 581/581 [00:00<00:00, 1.79MB/s]\n",
            "\n",
            "tokenizer/vocab.json: 100% 1.06M/1.06M [00:00<00:00, 9.47MB/s]\n",
            "\n",
            "pytorch_model.bin:   0% 0.00/492M [00:00<?, ?B/s]\u001b[A\n",
            "\n",
            "diffusion_pytorch_model.bin:   0% 0.00/3.44G [00:00<?, ?B/s]\u001b[A\u001b[A\n",
            "\n",
            "\n",
            "diffusion_pytorch_model.bin:   0% 0.00/335M [00:00<?, ?B/s]\u001b[A\u001b[A\u001b[A\n",
            "pytorch_model.bin:   2% 10.5M/492M [00:00<00:12, 37.5MB/s]\u001b[A\n",
            "\n",
            "diffusion_pytorch_model.bin:   0% 10.5M/3.44G [00:00<01:49, 31.4MB/s]\u001b[A\u001b[A\n",
            "\n",
            "\n",
            "diffusion_pytorch_model.bin:   3% 10.5M/335M [00:00<00:10, 30.6MB/s]\u001b[A\u001b[A\u001b[A\n",
            "\n",
            "diffusion_pytorch_model.bin:   1% 21.0M/3.44G [00:00<01:18, 43.4MB/s]\u001b[A\u001b[A\n",
            "pytorch_model.bin:   4% 21.0M/492M [00:00<00:14, 33.4MB/s]\u001b[A\n",
            "\n",
            "\n",
            "diffusion_pytorch_model.bin:   6% 21.0M/335M [00:00<00:08, 36.1MB/s]\u001b[A\u001b[A\u001b[A\n",
            "pytorch_model.bin:   6% 31.5M/492M [00:00<00:10, 42.2MB/s]\u001b[A\n",
            "\n",
            "diffusion_pytorch_model.bin:   1% 31.5M/3.44G [00:00<01:15, 44.9MB/s]\u001b[A\u001b[A\n",
            "\n",
            "\n",
            "diffusion_pytorch_model.bin:   9% 31.5M/335M [00:00<00:06, 45.2MB/s]\u001b[A\u001b[A\u001b[A\n",
            "pytorch_model.bin:   9% 41.9M/492M [00:00<00:09, 49.6MB/s]\u001b[A\n",
            "\n",
            "diffusion_pytorch_model.bin:   1% 41.9M/3.44G [00:00<01:06, 50.7MB/s]\u001b[A\u001b[A\n",
            "\n",
            "\n",
            "diffusion_pytorch_model.bin:  13% 41.9M/335M [00:00<00:06, 46.0MB/s]\u001b[A\u001b[A\u001b[A\n",
            "\n",
            "diffusion_pytorch_model.bin:   2% 52.4M/3.44G [00:01<01:03, 53.1MB/s]\u001b[A\u001b[A\n",
            "pytorch_model.bin:  11% 52.4M/492M [00:01<00:11, 38.6MB/s]\u001b[A\n",
            "\n",
            "\n",
            "diffusion_pytorch_model.bin:  16% 52.4M/335M [00:01<00:07, 36.1MB/s]\u001b[A\u001b[A\u001b[A\n",
            "\n",
            "diffusion_pytorch_model.bin:   2% 62.9M/3.44G [00:01<01:23, 40.3MB/s]\u001b[A\u001b[A\n",
            "pytorch_model.bin:  13% 62.9M/492M [00:01<00:11, 36.4MB/s]\u001b[A\n",
            "\n",
            "\n",
            "diffusion_pytorch_model.bin:  19% 62.9M/335M [00:01<00:07, 36.5MB/s]\u001b[A\u001b[A\u001b[A\n",
            "\n",
            "diffusion_pytorch_model.bin:   2% 73.4M/3.44G [00:01<01:27, 38.3MB/s]\u001b[A\u001b[A\n",
            "pytorch_model.bin:  15% 73.4M/492M [00:01<00:11, 37.2MB/s]\u001b[A\n",
            "\n",
            "\n",
            "diffusion_pytorch_model.bin:  22% 73.4M/335M [00:01<00:06, 40.0MB/s]\u001b[A\u001b[A\u001b[A\n",
            "pytorch_model.bin:  17% 83.9M/492M [00:02<00:09, 42.5MB/s]\u001b[A\n",
            "\n",
            "diffusion_pytorch_model.bin:   2% 83.9M/3.44G [00:02<01:31, 36.7MB/s]\u001b[A\u001b[A\n",
            "pytorch_model.bin:  19% 94.4M/492M [00:02<00:09, 42.8MB/s]\u001b[A\n",
            "pytorch_model.bin:  21% 105M/492M [00:02<00:07, 50.6MB/s] \u001b[A\n",
            "pytorch_model.bin:  26% 126M/492M [00:02<00:05, 65.7MB/s]\u001b[A\n",
            "pytorch_model.bin:  28% 136M/492M [00:02<00:04, 71.5MB/s]\u001b[A\n",
            "\n",
            "\n",
            "diffusion_pytorch_model.bin:  25% 83.9M/335M [00:02<00:12, 20.7MB/s]\u001b[A\u001b[A\u001b[A\n",
            "pytorch_model.bin:  32% 157M/492M [00:03<00:04, 75.0MB/s]\u001b[A\n",
            "\n",
            "diffusion_pytorch_model.bin:   3% 94.4M/3.44G [00:03<02:35, 21.4MB/s]\u001b[A\u001b[A\n",
            "pytorch_model.bin:  34% 168M/492M [00:03<00:04, 73.1MB/s]\u001b[A\n",
            "\n",
            "\n",
            "diffusion_pytorch_model.bin:  28% 94.4M/335M [00:03<00:09, 25.5MB/s]\u001b[A\u001b[A\u001b[A\n",
            "\n",
            "diffusion_pytorch_model.bin:   3% 105M/3.44G [00:03<02:08, 26.0MB/s] \u001b[A\u001b[A\n",
            "pytorch_model.bin:  36% 178M/492M [00:03<00:04, 76.1MB/s]\u001b[A\n",
            "\n",
            "\n",
            "diffusion_pytorch_model.bin:  31% 105M/335M [00:03<00:07, 31.2MB/s] \u001b[A\u001b[A\u001b[A\n",
            "pytorch_model.bin:  38% 189M/492M [00:03<00:04, 70.0MB/s]\u001b[A\n",
            "\n",
            "diffusion_pytorch_model.bin:   3% 115M/3.44G [00:03<01:50, 30.0MB/s]\u001b[A\u001b[A\n",
            "\n",
            "\n",
            "diffusion_pytorch_model.bin:  34% 115M/335M [00:03<00:06, 34.8MB/s]\u001b[A\u001b[A\u001b[A\n",
            "\n",
            "diffusion_pytorch_model.bin:   4% 126M/3.44G [00:03<01:31, 36.2MB/s]\u001b[A\u001b[A\n",
            "pytorch_model.bin:  40% 199M/492M [00:03<00:05, 57.2MB/s]\u001b[A\n",
            "\n",
            "\n",
            "diffusion_pytorch_model.bin:  38% 126M/335M [00:03<00:05, 39.6MB/s]\u001b[A\u001b[A\u001b[A\n",
            "\n",
            "diffusion_pytorch_model.bin:   4% 136M/3.44G [00:03<01:21, 40.7MB/s]\u001b[A\u001b[A\n",
            "pytorch_model.bin:  43% 210M/492M [00:03<00:04, 57.8MB/s]\u001b[A\n",
            "\n",
            "\n",
            "diffusion_pytorch_model.bin:  41% 136M/335M [00:03<00:04, 41.9MB/s]\u001b[A\u001b[A\u001b[A\n",
            "\n",
            "diffusion_pytorch_model.bin:   4% 147M/3.44G [00:03<01:13, 45.0MB/s]\u001b[A\u001b[A\n",
            "pytorch_model.bin:  45% 220M/492M [00:04<00:04, 61.1MB/s]\u001b[A\n",
            "\n",
            "diffusion_pytorch_model.bin:   5% 157M/3.44G [00:04<01:04, 51.3MB/s]\u001b[A\u001b[A\n",
            "\n",
            "\n",
            "diffusion_pytorch_model.bin:  44% 147M/335M [00:04<00:03, 47.4MB/s]\u001b[A\u001b[A\u001b[A\n",
            "pytorch_model.bin:  47% 231M/492M [00:04<00:04, 64.3MB/s]\u001b[A\n",
            "pytorch_model.bin:  49% 241M/492M [00:04<00:03, 65.8MB/s]\u001b[A\n",
            "\n",
            "\n",
            "diffusion_pytorch_model.bin:  47% 157M/335M [00:04<00:04, 44.0MB/s]\u001b[A\u001b[A\u001b[A\n",
            "\n",
            "diffusion_pytorch_model.bin:   5% 168M/3.44G [00:04<01:11, 45.6MB/s]\u001b[A\u001b[A\n",
            "pytorch_model.bin:  51% 252M/492M [00:04<00:04, 57.3MB/s]\u001b[A\n",
            "\n",
            "\n",
            "diffusion_pytorch_model.bin:  50% 168M/335M [00:04<00:04, 41.2MB/s]\u001b[A\u001b[A\u001b[A\n",
            "\n",
            "diffusion_pytorch_model.bin:   5% 178M/3.44G [00:04<01:17, 42.2MB/s]\u001b[A\u001b[A\n",
            "pytorch_model.bin:  53% 262M/492M [00:04<00:04, 52.2MB/s]\u001b[A\n",
            "\n",
            "\n",
            "diffusion_pytorch_model.bin:  53% 178M/335M [00:04<00:03, 43.4MB/s]\u001b[A\u001b[A\u001b[A\n",
            "\n",
            "diffusion_pytorch_model.bin:   5% 189M/3.44G [00:04<01:15, 43.3MB/s]\u001b[A\u001b[A\n",
            "pytorch_model.bin:  55% 273M/492M [00:05<00:04, 53.5MB/s]\u001b[A\n",
            "\n",
            "\n",
            "diffusion_pytorch_model.bin:  56% 189M/335M [00:07<00:12, 11.9MB/s]\u001b[A\u001b[A\u001b[A\n",
            "\n",
            "diffusion_pytorch_model.bin:   6% 199M/3.44G [00:07<04:32, 11.9MB/s]\u001b[A\u001b[A\n",
            "pytorch_model.bin:  58% 283M/492M [00:07<00:16, 12.5MB/s]\u001b[A\n",
            "\n",
            "diffusion_pytorch_model.bin:   6% 210M/3.44G [00:07<03:25, 15.7MB/s]\u001b[A\u001b[A\n",
            "\n",
            "\n",
            "diffusion_pytorch_model.bin:  60% 199M/335M [00:07<00:08, 15.2MB/s]\u001b[A\u001b[A\u001b[A\n",
            "pytorch_model.bin:  60% 294M/492M [00:07<00:12, 16.0MB/s]\u001b[A\n",
            "\n",
            "diffusion_pytorch_model.bin:   6% 220M/3.44G [00:07<02:42, 19.8MB/s]\u001b[A\u001b[A\n",
            "\n",
            "\n",
            "diffusion_pytorch_model.bin:  63% 210M/335M [00:07<00:06, 19.0MB/s]\u001b[A\u001b[A\u001b[A\n",
            "pytorch_model.bin:  62% 304M/492M [00:07<00:09, 20.1MB/s]\u001b[A\n",
            "\n",
            "diffusion_pytorch_model.bin:   7% 231M/3.44G [00:07<02:06, 25.3MB/s]\u001b[A\u001b[A\n",
            "\n",
            "\n",
            "diffusion_pytorch_model.bin:  66% 220M/335M [00:07<00:04, 24.2MB/s]\u001b[A\u001b[A\u001b[A\n",
            "pytorch_model.bin:  64% 315M/492M [00:08<00:07, 24.9MB/s]\u001b[A\n",
            "\n",
            "diffusion_pytorch_model.bin:   7% 241M/3.44G [00:07<01:44, 30.5MB/s]\u001b[A\u001b[A\n",
            "\n",
            "\n",
            "diffusion_pytorch_model.bin:  69% 231M/335M [00:08<00:03, 27.8MB/s]\u001b[A\u001b[A\u001b[A\n",
            "pytorch_model.bin:  66% 325M/492M [00:08<00:06, 27.5MB/s]\u001b[A\n",
            "\n",
            "diffusion_pytorch_model.bin:   7% 252M/3.44G [00:08<01:40, 31.6MB/s]\u001b[A\u001b[A\n",
            "\n",
            "\n",
            "diffusion_pytorch_model.bin:  72% 241M/335M [00:08<00:03, 29.4MB/s]\u001b[A\u001b[A\u001b[A\n",
            "pytorch_model.bin:  68% 336M/492M [00:08<00:05, 28.0MB/s]\u001b[A\n",
            "\n",
            "diffusion_pytorch_model.bin:   8% 262M/3.44G [00:08<01:42, 31.0MB/s]\u001b[A\u001b[A\n",
            "\n",
            "\n",
            "diffusion_pytorch_model.bin:  75% 252M/335M [00:08<00:02, 30.8MB/s]\u001b[A\u001b[A\u001b[A\n",
            "\n",
            "diffusion_pytorch_model.bin:   8% 273M/3.44G [00:08<01:22, 38.2MB/s]\u001b[A\u001b[A\n",
            "pytorch_model.bin:  70% 346M/492M [00:08<00:04, 32.9MB/s]\u001b[A\n",
            "\n",
            "\n",
            "diffusion_pytorch_model.bin:  78% 262M/335M [00:08<00:02, 35.6MB/s]\u001b[A\u001b[A\u001b[A\n",
            "\n",
            "diffusion_pytorch_model.bin:   8% 283M/3.44G [00:08<01:15, 41.6MB/s]\u001b[A\u001b[A\n",
            "pytorch_model.bin:  72% 357M/492M [00:09<00:03, 37.7MB/s]\u001b[A\n",
            "\n",
            "\n",
            "diffusion_pytorch_model.bin:  81% 273M/335M [00:09<00:01, 39.9MB/s]\u001b[A\u001b[A\u001b[A\n",
            "\n",
            "diffusion_pytorch_model.bin:   9% 294M/3.44G [00:09<01:08, 46.1MB/s]\u001b[A\u001b[A\n",
            "pytorch_model.bin:  75% 367M/492M [00:09<00:02, 42.8MB/s]\u001b[A\n",
            "\n",
            "\n",
            "diffusion_pytorch_model.bin:  85% 283M/335M [00:09<00:01, 39.0MB/s]\u001b[A\u001b[A\u001b[A\n",
            "pytorch_model.bin:  77% 377M/492M [00:09<00:02, 40.1MB/s]\u001b[A\n",
            "\n",
            "diffusion_pytorch_model.bin:   9% 304M/3.44G [00:09<01:16, 41.1MB/s]\u001b[A\u001b[A\n",
            "\n",
            "\n",
            "diffusion_pytorch_model.bin:  88% 294M/335M [00:09<00:01, 40.6MB/s]\u001b[A\u001b[A\u001b[A\n",
            "pytorch_model.bin:  79% 388M/492M [00:09<00:02, 40.8MB/s]\u001b[A\n",
            "\n",
            "diffusion_pytorch_model.bin:   9% 315M/3.44G [00:09<01:14, 41.8MB/s]\u001b[A\u001b[A\n",
            "\n",
            "\n",
            "diffusion_pytorch_model.bin:  91% 304M/335M [00:09<00:00, 43.1MB/s]\u001b[A\u001b[A\u001b[A\n",
            "pytorch_model.bin:  81% 398M/492M [00:09<00:02, 44.0MB/s]\u001b[A\n",
            "\n",
            "diffusion_pytorch_model.bin:   9% 325M/3.44G [00:09<01:10, 44.1MB/s]\u001b[A\u001b[A\n",
            "pytorch_model.bin:  83% 409M/492M [00:10<00:01, 45.8MB/s]\u001b[A\n",
            "\n",
            "\n",
            "diffusion_pytorch_model.bin:  94% 315M/335M [00:10<00:00, 42.3MB/s]\u001b[A\u001b[A\u001b[A\n",
            "\n",
            "diffusion_pytorch_model.bin:  10% 336M/3.44G [00:10<01:08, 45.0MB/s]\u001b[A\u001b[A\n",
            "pytorch_model.bin:  85% 419M/492M [00:12<00:05, 12.7MB/s]\u001b[A\n",
            "\n",
            "\n",
            "diffusion_pytorch_model.bin:  97% 325M/335M [00:12<00:00, 12.6MB/s]\u001b[A\u001b[A\u001b[A\n",
            "diffusion_pytorch_model.bin: 100% 335M/335M [00:12<00:00, 27.1MB/s]\n",
            "\n",
            "\n",
            "diffusion_pytorch_model.bin:  10% 346M/3.44G [00:12<04:21, 11.8MB/s]\u001b[A\u001b[A\n",
            "pytorch_model.bin:  92% 451M/492M [00:12<00:01, 28.5MB/s]\u001b[A\n",
            "\n",
            "diffusion_pytorch_model.bin:  11% 367M/3.44G [00:12<02:31, 20.3MB/s]\u001b[A\u001b[A\n",
            "\n",
            "diffusion_pytorch_model.bin:  11% 388M/3.44G [00:12<01:39, 30.6MB/s]\u001b[A\u001b[A\n",
            "pytorch_model.bin:  96% 472M/492M [00:13<00:00, 35.1MB/s]\u001b[A\n",
            "\n",
            "diffusion_pytorch_model.bin:  12% 409M/3.44G [00:13<01:11, 42.3MB/s]\u001b[A\u001b[A\n",
            "\n",
            "diffusion_pytorch_model.bin:  12% 419M/3.44G [00:13<01:04, 47.0MB/s]\u001b[A\u001b[A\n",
            "pytorch_model.bin: 100% 492M/492M [00:13<00:00, 37.1MB/s]\n",
            "Fetching 12 files:  33% 4/12 [00:14<00:30,  3.87s/it]\n",
            "\n",
            "diffusion_pytorch_model.bin:  13% 430M/3.44G [00:13<00:56, 53.4MB/s]\u001b[A\u001b[A\n",
            "\n",
            "diffusion_pytorch_model.bin:  13% 451M/3.44G [00:13<00:49, 59.9MB/s]\u001b[A\u001b[A\n",
            "\n",
            "diffusion_pytorch_model.bin:  14% 472M/3.44G [00:14<00:58, 50.7MB/s]\u001b[A\u001b[A\n",
            "\n",
            "diffusion_pytorch_model.bin:  14% 493M/3.44G [00:14<00:46, 63.9MB/s]\u001b[A\u001b[A\n",
            "\n",
            "diffusion_pytorch_model.bin:  15% 503M/3.44G [00:14<01:06, 43.8MB/s]\u001b[A\u001b[A\n",
            "\n",
            "diffusion_pytorch_model.bin:  15% 524M/3.44G [00:15<01:01, 47.4MB/s]\u001b[A\u001b[A\n",
            "\n",
            "diffusion_pytorch_model.bin:  16% 535M/3.44G [00:15<00:56, 51.7MB/s]\u001b[A\u001b[A\n",
            "\n",
            "diffusion_pytorch_model.bin:  16% 556M/3.44G [00:15<00:46, 62.2MB/s]\u001b[A\u001b[A\n",
            "\n",
            "diffusion_pytorch_model.bin:  17% 577M/3.44G [00:15<00:40, 71.5MB/s]\u001b[A\u001b[A\n",
            "\n",
            "diffusion_pytorch_model.bin:  17% 587M/3.44G [00:15<00:45, 62.9MB/s]\u001b[A\u001b[A\n",
            "\n",
            "diffusion_pytorch_model.bin:  17% 598M/3.44G [00:16<00:44, 63.8MB/s]\u001b[A\u001b[A\n",
            "\n",
            "diffusion_pytorch_model.bin:  18% 608M/3.44G [00:16<00:58, 48.0MB/s]\u001b[A\u001b[A\n",
            "\n",
            "diffusion_pytorch_model.bin:  18% 619M/3.44G [00:17<01:33, 30.1MB/s]\u001b[A\u001b[A\n",
            "\n",
            "diffusion_pytorch_model.bin:  19% 640M/3.44G [00:17<01:03, 44.3MB/s]\u001b[A\u001b[A\n",
            "\n",
            "diffusion_pytorch_model.bin:  19% 661M/3.44G [00:17<00:47, 58.7MB/s]\u001b[A\u001b[A\n",
            "\n",
            "diffusion_pytorch_model.bin:  20% 682M/3.44G [00:17<00:38, 72.5MB/s]\u001b[A\u001b[A\n",
            "\n",
            "diffusion_pytorch_model.bin:  20% 703M/3.44G [00:17<00:31, 85.7MB/s]\u001b[A\u001b[A\n",
            "\n",
            "diffusion_pytorch_model.bin:  21% 724M/3.44G [00:18<00:31, 85.3MB/s]\u001b[A\u001b[A\n",
            "\n",
            "diffusion_pytorch_model.bin:  21% 734M/3.44G [00:18<00:33, 80.0MB/s]\u001b[A\u001b[A\n",
            "\n",
            "diffusion_pytorch_model.bin:  22% 755M/3.44G [00:18<00:30, 88.7MB/s]\u001b[A\u001b[A\n",
            "\n",
            "diffusion_pytorch_model.bin:  22% 765M/3.44G [00:18<00:38, 69.2MB/s]\u001b[A\u001b[A\n",
            "\n",
            "diffusion_pytorch_model.bin:  23% 786M/3.44G [00:19<00:43, 61.3MB/s]\u001b[A\u001b[A\n",
            "\n",
            "diffusion_pytorch_model.bin:  23% 797M/3.44G [00:19<00:41, 63.1MB/s]\u001b[A\u001b[A\n",
            "\n",
            "diffusion_pytorch_model.bin:  24% 818M/3.44G [00:19<00:38, 68.3MB/s]\u001b[A\u001b[A\n",
            "\n",
            "diffusion_pytorch_model.bin:  24% 828M/3.44G [00:19<00:38, 68.2MB/s]\u001b[A\u001b[A\n",
            "\n",
            "diffusion_pytorch_model.bin:  24% 839M/3.44G [00:19<00:40, 64.1MB/s]\u001b[A\u001b[A\n",
            "\n",
            "diffusion_pytorch_model.bin:  25% 860M/3.44G [00:20<00:32, 79.6MB/s]\u001b[A\u001b[A\n",
            "\n",
            "diffusion_pytorch_model.bin:  25% 870M/3.44G [00:20<00:37, 69.2MB/s]\u001b[A\u001b[A\n",
            "\n",
            "diffusion_pytorch_model.bin:  26% 891M/3.44G [00:20<00:34, 74.4MB/s]\u001b[A\u001b[A\n",
            "\n",
            "diffusion_pytorch_model.bin:  27% 912M/3.44G [00:20<00:28, 88.3MB/s]\u001b[A\u001b[A\n",
            "\n",
            "diffusion_pytorch_model.bin:  27% 923M/3.44G [00:20<00:32, 77.6MB/s]\u001b[A\u001b[A\n",
            "\n",
            "diffusion_pytorch_model.bin:  27% 933M/3.44G [00:21<00:37, 66.9MB/s]\u001b[A\u001b[A\n",
            "\n",
            "diffusion_pytorch_model.bin:  27% 944M/3.44G [00:21<00:41, 60.7MB/s]\u001b[A\u001b[A\n",
            "\n",
            "diffusion_pytorch_model.bin:  28% 954M/3.44G [00:21<00:36, 67.6MB/s]\u001b[A\u001b[A\n",
            "\n",
            "diffusion_pytorch_model.bin:  28% 975M/3.44G [00:21<00:33, 73.0MB/s]\u001b[A\u001b[A\n",
            "\n",
            "diffusion_pytorch_model.bin:  29% 986M/3.44G [00:21<00:31, 78.3MB/s]\u001b[A\u001b[A\n",
            "\n",
            "diffusion_pytorch_model.bin:  29% 996M/3.44G [00:22<00:34, 71.8MB/s]\u001b[A\u001b[A\n",
            "\n",
            "diffusion_pytorch_model.bin:  29% 1.01G/3.44G [00:22<00:31, 77.7MB/s]\u001b[A\u001b[A\n",
            "\n",
            "diffusion_pytorch_model.bin:  30% 1.02G/3.44G [00:22<00:30, 80.0MB/s]\u001b[A\u001b[A\n",
            "\n",
            "diffusion_pytorch_model.bin:  30% 1.03G/3.44G [00:22<00:34, 69.9MB/s]\u001b[A\u001b[A\n",
            "\n",
            "diffusion_pytorch_model.bin:  30% 1.04G/3.44G [00:22<00:43, 55.7MB/s]\u001b[A\u001b[A\n",
            "\n",
            "diffusion_pytorch_model.bin:  30% 1.05G/3.44G [00:22<00:42, 56.4MB/s]\u001b[A\u001b[A\n",
            "\n",
            "diffusion_pytorch_model.bin:  31% 1.06G/3.44G [00:23<00:41, 56.9MB/s]\u001b[A\u001b[A\n",
            "\n",
            "diffusion_pytorch_model.bin:  31% 1.07G/3.44G [00:23<00:46, 51.0MB/s]\u001b[A\u001b[A\n",
            "\n",
            "diffusion_pytorch_model.bin:  31% 1.08G/3.44G [00:23<00:54, 43.0MB/s]\u001b[A\u001b[A\n",
            "\n",
            "diffusion_pytorch_model.bin:  32% 1.09G/3.44G [00:23<00:47, 49.0MB/s]\u001b[A\u001b[A\n",
            "\n",
            "diffusion_pytorch_model.bin:  32% 1.10G/3.44G [00:24<00:46, 50.2MB/s]\u001b[A\u001b[A\n",
            "\n",
            "diffusion_pytorch_model.bin:  33% 1.12G/3.44G [00:24<00:33, 68.7MB/s]\u001b[A\u001b[A\n",
            "\n",
            "diffusion_pytorch_model.bin:  33% 1.13G/3.44G [00:24<00:41, 55.3MB/s]\u001b[A\u001b[A\n",
            "\n",
            "diffusion_pytorch_model.bin:  34% 1.15G/3.44G [00:24<00:36, 61.9MB/s]\u001b[A\u001b[A\n",
            "\n",
            "diffusion_pytorch_model.bin:  34% 1.16G/3.44G [00:24<00:37, 60.4MB/s]\u001b[A\u001b[A\n",
            "\n",
            "diffusion_pytorch_model.bin:  34% 1.18G/3.44G [00:25<00:33, 67.1MB/s]\u001b[A\u001b[A\n",
            "\n",
            "diffusion_pytorch_model.bin:  35% 1.21G/3.44G [00:25<00:36, 60.4MB/s]\u001b[A\u001b[A\n",
            "\n",
            "diffusion_pytorch_model.bin:  36% 1.23G/3.44G [00:25<00:31, 70.5MB/s]\u001b[A\u001b[A\n",
            "\n",
            "diffusion_pytorch_model.bin:  36% 1.24G/3.44G [00:26<00:32, 67.3MB/s]\u001b[A\u001b[A\n",
            "\n",
            "diffusion_pytorch_model.bin:  37% 1.26G/3.44G [00:26<00:32, 66.9MB/s]\u001b[A\u001b[A\n",
            "\n",
            "diffusion_pytorch_model.bin:  37% 1.28G/3.44G [00:26<00:27, 77.3MB/s]\u001b[A\u001b[A\n",
            "\n",
            "diffusion_pytorch_model.bin:  38% 1.29G/3.44G [00:26<00:31, 69.0MB/s]\u001b[A\u001b[A\n",
            "\n",
            "diffusion_pytorch_model.bin:  38% 1.31G/3.44G [00:27<00:31, 67.0MB/s]\u001b[A\u001b[A\n",
            "\n",
            "diffusion_pytorch_model.bin:  38% 1.32G/3.44G [00:27<00:29, 70.6MB/s]\u001b[A\u001b[A\n",
            "\n",
            "diffusion_pytorch_model.bin:  39% 1.33G/3.44G [00:27<00:28, 75.1MB/s]\u001b[A\u001b[A\n",
            "\n",
            "diffusion_pytorch_model.bin:  39% 1.34G/3.44G [00:27<00:29, 70.4MB/s]\u001b[A\u001b[A\n",
            "\n",
            "diffusion_pytorch_model.bin:  40% 1.36G/3.44G [00:27<00:24, 84.5MB/s]\u001b[A\u001b[A\n",
            "\n",
            "diffusion_pytorch_model.bin:  40% 1.37G/3.44G [00:27<00:23, 88.2MB/s]\u001b[A\u001b[A\n",
            "\n",
            "diffusion_pytorch_model.bin:  41% 1.39G/3.44G [00:28<00:24, 84.3MB/s]\u001b[A\u001b[A\n",
            "\n",
            "diffusion_pytorch_model.bin:  41% 1.42G/3.44G [00:28<00:23, 84.6MB/s]\u001b[A\u001b[A\n",
            "\n",
            "diffusion_pytorch_model.bin:  41% 1.43G/3.44G [00:28<00:26, 75.8MB/s]\u001b[A\u001b[A\n",
            "\n",
            "diffusion_pytorch_model.bin:  42% 1.45G/3.44G [00:28<00:24, 80.6MB/s]\u001b[A\u001b[A\n",
            "\n",
            "diffusion_pytorch_model.bin:  43% 1.47G/3.44G [00:29<00:27, 70.9MB/s]\u001b[A\u001b[A\n",
            "\n",
            "diffusion_pytorch_model.bin:  43% 1.48G/3.44G [00:29<00:28, 69.3MB/s]\u001b[A\u001b[A\n",
            "\n",
            "diffusion_pytorch_model.bin:  44% 1.50G/3.44G [00:29<00:28, 68.0MB/s]\u001b[A\u001b[A\n",
            "\n",
            "diffusion_pytorch_model.bin:  44% 1.52G/3.44G [00:29<00:25, 74.6MB/s]\u001b[A\u001b[A\n",
            "\n",
            "diffusion_pytorch_model.bin:  45% 1.54G/3.44G [00:29<00:21, 87.3MB/s]\u001b[A\u001b[A\n",
            "\n",
            "diffusion_pytorch_model.bin:  45% 1.55G/3.44G [00:30<00:23, 82.0MB/s]\u001b[A\u001b[A\n",
            "\n",
            "diffusion_pytorch_model.bin:  46% 1.57G/3.44G [00:30<00:24, 75.9MB/s]\u001b[A\u001b[A\n",
            "\n",
            "diffusion_pytorch_model.bin:  46% 1.58G/3.44G [00:30<00:25, 71.7MB/s]\u001b[A\u001b[A\n",
            "\n",
            "diffusion_pytorch_model.bin:  46% 1.59G/3.44G [00:30<00:24, 76.8MB/s]\u001b[A\u001b[A\n",
            "\n",
            "diffusion_pytorch_model.bin:  47% 1.60G/3.44G [00:30<00:22, 80.2MB/s]\u001b[A\u001b[A\n",
            "\n",
            "diffusion_pytorch_model.bin:  47% 1.63G/3.44G [00:31<00:23, 76.7MB/s]\u001b[A\u001b[A\n",
            "\n",
            "diffusion_pytorch_model.bin:  48% 1.65G/3.44G [00:31<00:23, 76.6MB/s]\u001b[A\u001b[A\n",
            "\n",
            "diffusion_pytorch_model.bin:  48% 1.66G/3.44G [00:31<00:28, 61.8MB/s]\u001b[A\u001b[A\n",
            "\n",
            "diffusion_pytorch_model.bin:  48% 1.67G/3.44G [00:32<00:42, 42.1MB/s]\u001b[A\u001b[A\n",
            "\n",
            "diffusion_pytorch_model.bin:  49% 1.68G/3.44G [00:32<01:02, 28.1MB/s]\u001b[A\u001b[A\n",
            "\n",
            "diffusion_pytorch_model.bin:  49% 1.70G/3.44G [00:33<00:42, 41.2MB/s]\u001b[A\u001b[A\n",
            "\n",
            "diffusion_pytorch_model.bin:  50% 1.72G/3.44G [00:33<00:31, 54.6MB/s]\u001b[A\u001b[A\n",
            "\n",
            "diffusion_pytorch_model.bin:  51% 1.74G/3.44G [00:33<00:25, 67.8MB/s]\u001b[A\u001b[A\n",
            "\n",
            "diffusion_pytorch_model.bin:  51% 1.75G/3.44G [00:33<00:25, 67.4MB/s]\u001b[A\u001b[A\n",
            "\n",
            "diffusion_pytorch_model.bin:  51% 1.76G/3.44G [00:33<00:26, 62.8MB/s]\u001b[A\u001b[A\n",
            "\n",
            "diffusion_pytorch_model.bin:  52% 1.77G/3.44G [00:34<00:33, 49.9MB/s]\u001b[A\u001b[A\n",
            "\n",
            "diffusion_pytorch_model.bin:  52% 1.78G/3.44G [00:34<00:36, 44.9MB/s]\u001b[A\u001b[A\n",
            "\n",
            "diffusion_pytorch_model.bin:  52% 1.79G/3.44G [00:34<00:31, 51.6MB/s]\u001b[A\u001b[A\n",
            "\n",
            "diffusion_pytorch_model.bin:  52% 1.80G/3.44G [00:34<00:37, 43.5MB/s]\u001b[A\u001b[A\n",
            "\n",
            "diffusion_pytorch_model.bin:  53% 1.81G/3.44G [00:35<00:39, 41.0MB/s]\u001b[A\u001b[A\n",
            "\n",
            "diffusion_pytorch_model.bin:  53% 1.82G/3.44G [00:35<00:32, 49.0MB/s]\u001b[A\u001b[A\n",
            "\n",
            "diffusion_pytorch_model.bin:  53% 1.84G/3.44G [00:35<00:30, 53.4MB/s]\u001b[A\u001b[A\n",
            "\n",
            "diffusion_pytorch_model.bin:  54% 1.86G/3.44G [00:35<00:23, 66.5MB/s]\u001b[A\u001b[A\n",
            "\n",
            "diffusion_pytorch_model.bin:  54% 1.87G/3.44G [00:35<00:28, 55.7MB/s]\u001b[A\u001b[A\n",
            "\n",
            "diffusion_pytorch_model.bin:  55% 1.89G/3.44G [00:36<00:32, 48.4MB/s]\u001b[A\u001b[A\n",
            "\n",
            "diffusion_pytorch_model.bin:  55% 1.90G/3.44G [00:36<00:28, 55.0MB/s]\u001b[A\u001b[A\n",
            "\n",
            "diffusion_pytorch_model.bin:  56% 1.91G/3.44G [00:36<00:25, 61.2MB/s]\u001b[A\u001b[A\n",
            "\n",
            "diffusion_pytorch_model.bin:  56% 1.93G/3.44G [00:36<00:21, 71.4MB/s]\u001b[A\u001b[A\n",
            "\n",
            "diffusion_pytorch_model.bin:  56% 1.94G/3.44G [00:37<00:26, 56.6MB/s]\u001b[A\u001b[A\n",
            "\n",
            "diffusion_pytorch_model.bin:  57% 1.95G/3.44G [00:37<00:37, 39.6MB/s]\u001b[A\u001b[A\n",
            "\n",
            "diffusion_pytorch_model.bin:  57% 1.97G/3.44G [00:37<00:26, 54.5MB/s]\u001b[A\u001b[A\n",
            "\n",
            "diffusion_pytorch_model.bin:  58% 1.99G/3.44G [00:38<00:25, 57.3MB/s]\u001b[A\u001b[A\n",
            "\n",
            "diffusion_pytorch_model.bin:  59% 2.01G/3.44G [00:38<00:20, 70.3MB/s]\u001b[A\u001b[A\n",
            "\n",
            "diffusion_pytorch_model.bin:  59% 2.02G/3.44G [00:38<00:23, 60.8MB/s]\u001b[A\u001b[A\n",
            "\n",
            "diffusion_pytorch_model.bin:  59% 2.03G/3.44G [00:39<00:27, 51.5MB/s]\u001b[A\u001b[A\n",
            "\n",
            "diffusion_pytorch_model.bin:  59% 2.04G/3.44G [00:39<00:31, 43.6MB/s]\u001b[A\u001b[A\n",
            "\n",
            "diffusion_pytorch_model.bin:  60% 2.06G/3.44G [00:40<00:51, 26.8MB/s]\u001b[A\u001b[A\n",
            "\n",
            "diffusion_pytorch_model.bin:  60% 2.07G/3.44G [00:40<00:41, 33.3MB/s]\u001b[A\u001b[A\n",
            "\n",
            "diffusion_pytorch_model.bin:  60% 2.08G/3.44G [00:40<00:37, 36.7MB/s]\u001b[A\u001b[A\n",
            "\n",
            "diffusion_pytorch_model.bin:  61% 2.09G/3.44G [00:41<00:46, 29.3MB/s]\u001b[A\u001b[A\n",
            "\n",
            "diffusion_pytorch_model.bin:  61% 2.10G/3.44G [00:41<00:37, 36.1MB/s]\u001b[A\u001b[A\n",
            "\n",
            "diffusion_pytorch_model.bin:  61% 2.11G/3.44G [00:41<00:34, 38.1MB/s]\u001b[A\u001b[A\n",
            "\n",
            "diffusion_pytorch_model.bin:  62% 2.12G/3.44G [00:41<00:32, 40.9MB/s]\u001b[A\u001b[A\n",
            "\n",
            "diffusion_pytorch_model.bin:  62% 2.13G/3.44G [00:41<00:33, 39.6MB/s]\u001b[A\u001b[A\n",
            "\n",
            "diffusion_pytorch_model.bin:  62% 2.14G/3.44G [00:42<00:28, 45.8MB/s]\u001b[A\u001b[A\n",
            "\n",
            "diffusion_pytorch_model.bin:  63% 2.15G/3.44G [00:42<00:29, 43.9MB/s]\u001b[A\u001b[A\n",
            "\n",
            "diffusion_pytorch_model.bin:  63% 2.16G/3.44G [00:42<00:25, 49.4MB/s]\u001b[A\u001b[A\n",
            "\n",
            "diffusion_pytorch_model.bin:  63% 2.18G/3.44G [00:42<00:18, 67.0MB/s]\u001b[A\u001b[A\n",
            "\n",
            "diffusion_pytorch_model.bin:  64% 2.20G/3.44G [00:42<00:17, 71.9MB/s]\u001b[A\u001b[A\n",
            "\n",
            "diffusion_pytorch_model.bin:  64% 2.21G/3.44G [00:43<00:16, 76.4MB/s]\u001b[A\u001b[A\n",
            "\n",
            "diffusion_pytorch_model.bin:  65% 2.22G/3.44G [00:43<00:14, 81.1MB/s]\u001b[A\u001b[A\n",
            "\n",
            "diffusion_pytorch_model.bin:  65% 2.23G/3.44G [00:43<00:14, 83.2MB/s]\u001b[A\u001b[A\n",
            "\n",
            "diffusion_pytorch_model.bin:  65% 2.24G/3.44G [00:43<00:13, 87.2MB/s]\u001b[A\u001b[A\n",
            "\n",
            "diffusion_pytorch_model.bin:  66% 2.25G/3.44G [00:43<00:16, 73.9MB/s]\u001b[A\u001b[A\n",
            "\n",
            "diffusion_pytorch_model.bin:  66% 2.26G/3.44G [00:43<00:14, 79.9MB/s]\u001b[A\u001b[A\n",
            "\n",
            "diffusion_pytorch_model.bin:  66% 2.29G/3.44G [00:44<00:19, 60.1MB/s]\u001b[A\u001b[A\n",
            "\n",
            "diffusion_pytorch_model.bin:  67% 2.31G/3.44G [00:44<00:15, 72.1MB/s]\u001b[A\u001b[A\n",
            "\n",
            "diffusion_pytorch_model.bin:  67% 2.32G/3.44G [00:44<00:19, 59.0MB/s]\u001b[A\u001b[A\n",
            "\n",
            "diffusion_pytorch_model.bin:  68% 2.34G/3.44G [00:44<00:16, 65.8MB/s]\u001b[A\u001b[A\n",
            "\n",
            "diffusion_pytorch_model.bin:  69% 2.36G/3.44G [00:45<00:14, 75.3MB/s]\u001b[A\u001b[A\n",
            "\n",
            "diffusion_pytorch_model.bin:  69% 2.37G/3.44G [00:45<00:13, 79.3MB/s]\u001b[A\u001b[A\n",
            "\n",
            "diffusion_pytorch_model.bin:  69% 2.38G/3.44G [00:45<00:12, 83.2MB/s]\u001b[A\u001b[A\n",
            "\n",
            "diffusion_pytorch_model.bin:  70% 2.39G/3.44G [00:45<00:12, 86.1MB/s]\u001b[A\u001b[A\n",
            "\n",
            "diffusion_pytorch_model.bin:  70% 2.40G/3.44G [00:45<00:11, 89.4MB/s]\u001b[A\u001b[A\n",
            "\n",
            "diffusion_pytorch_model.bin:  70% 2.41G/3.44G [00:45<00:11, 92.2MB/s]\u001b[A\u001b[A\n",
            "\n",
            "diffusion_pytorch_model.bin:  70% 2.42G/3.44G [00:45<00:10, 95.2MB/s]\u001b[A\u001b[A\n",
            "\n",
            "diffusion_pytorch_model.bin:  71% 2.43G/3.44G [00:45<00:10, 97.4MB/s]\u001b[A\u001b[A\n",
            "\n",
            "diffusion_pytorch_model.bin:  71% 2.44G/3.44G [00:46<00:13, 75.9MB/s]\u001b[A\u001b[A\n",
            "\n",
            "diffusion_pytorch_model.bin:  71% 2.45G/3.44G [00:46<00:11, 82.5MB/s]\u001b[A\u001b[A\n",
            "\n",
            "diffusion_pytorch_model.bin:  72% 2.46G/3.44G [00:46<00:12, 79.6MB/s]\u001b[A\u001b[A\n",
            "\n",
            "diffusion_pytorch_model.bin:  72% 2.47G/3.44G [00:47<00:40, 23.8MB/s]\u001b[A\u001b[A\n",
            "\n",
            "diffusion_pytorch_model.bin:  72% 2.49G/3.44G [00:47<00:31, 30.3MB/s]\u001b[A\u001b[A\n",
            "\n",
            "diffusion_pytorch_model.bin:  73% 2.50G/3.44G [00:47<00:24, 38.1MB/s]\u001b[A\u001b[A\n",
            "\n",
            "diffusion_pytorch_model.bin:  73% 2.51G/3.44G [00:47<00:19, 46.9MB/s]\u001b[A\u001b[A\n",
            "\n",
            "diffusion_pytorch_model.bin:  73% 2.53G/3.44G [00:47<00:14, 63.2MB/s]\u001b[A\u001b[A\n",
            "\n",
            "diffusion_pytorch_model.bin:  74% 2.55G/3.44G [00:48<00:11, 76.4MB/s]\u001b[A\u001b[A\n",
            "\n",
            "diffusion_pytorch_model.bin:  74% 2.56G/3.44G [00:48<00:10, 80.2MB/s]\u001b[A\u001b[A\n",
            "\n",
            "diffusion_pytorch_model.bin:  75% 2.57G/3.44G [00:48<00:10, 82.9MB/s]\u001b[A\u001b[A\n",
            "\n",
            "diffusion_pytorch_model.bin:  75% 2.59G/3.44G [00:48<00:09, 90.8MB/s]\u001b[A\u001b[A\n",
            "\n",
            "diffusion_pytorch_model.bin:  76% 2.60G/3.44G [00:48<00:09, 87.7MB/s]\u001b[A\u001b[A\n",
            "\n",
            "diffusion_pytorch_model.bin:  76% 2.61G/3.44G [00:48<00:09, 90.0MB/s]\u001b[A\u001b[A\n",
            "\n",
            "diffusion_pytorch_model.bin:  76% 2.62G/3.44G [00:49<00:11, 72.7MB/s]\u001b[A\u001b[A\n",
            "\n",
            "diffusion_pytorch_model.bin:  77% 2.63G/3.44G [00:49<00:11, 68.9MB/s]\u001b[A\u001b[A\n",
            "\n",
            "diffusion_pytorch_model.bin:  77% 2.64G/3.44G [00:49<00:10, 74.6MB/s]\u001b[A\u001b[A\n",
            "\n",
            "diffusion_pytorch_model.bin:  77% 2.65G/3.44G [00:49<00:13, 58.7MB/s]\u001b[A\u001b[A\n",
            "\n",
            "diffusion_pytorch_model.bin:  78% 2.67G/3.44G [00:50<00:14, 52.6MB/s]\u001b[A\u001b[A\n",
            "\n",
            "diffusion_pytorch_model.bin:  78% 2.69G/3.44G [00:50<00:11, 63.9MB/s]\u001b[A\u001b[A\n",
            "\n",
            "diffusion_pytorch_model.bin:  79% 2.71G/3.44G [00:50<00:16, 45.4MB/s]\u001b[A\u001b[A\n",
            "\n",
            "diffusion_pytorch_model.bin:  79% 2.73G/3.44G [00:50<00:12, 57.5MB/s]\u001b[A\u001b[A\n",
            "\n",
            "diffusion_pytorch_model.bin:  80% 2.74G/3.44G [00:51<00:11, 63.0MB/s]\u001b[A\u001b[A\n",
            "\n",
            "diffusion_pytorch_model.bin:  80% 2.76G/3.44G [00:51<00:13, 50.6MB/s]\u001b[A\u001b[A\n",
            "\n",
            "diffusion_pytorch_model.bin:  81% 2.78G/3.44G [00:52<00:18, 35.7MB/s]\u001b[A\u001b[A\n",
            "\n",
            "diffusion_pytorch_model.bin:  81% 2.79G/3.44G [00:52<00:16, 40.1MB/s]\u001b[A\u001b[A\n",
            "\n",
            "diffusion_pytorch_model.bin:  82% 2.81G/3.44G [00:52<00:12, 52.3MB/s]\u001b[A\u001b[A\n",
            "\n",
            "diffusion_pytorch_model.bin:  82% 2.83G/3.44G [00:53<00:11, 51.4MB/s]\u001b[A\u001b[A\n",
            "\n",
            "diffusion_pytorch_model.bin:  83% 2.84G/3.44G [00:53<00:10, 56.8MB/s]\u001b[A\u001b[A\n",
            "\n",
            "diffusion_pytorch_model.bin:  83% 2.85G/3.44G [00:53<00:09, 61.3MB/s]\u001b[A\u001b[A\n",
            "\n",
            "diffusion_pytorch_model.bin:  83% 2.86G/3.44G [00:53<00:11, 52.0MB/s]\u001b[A\u001b[A\n",
            "\n",
            "diffusion_pytorch_model.bin:  84% 2.88G/3.44G [00:54<00:18, 30.5MB/s]\u001b[A\u001b[A\n",
            "\n",
            "diffusion_pytorch_model.bin:  84% 2.89G/3.44G [00:55<00:15, 36.0MB/s]\u001b[A\u001b[A\n",
            "\n",
            "diffusion_pytorch_model.bin:  85% 2.92G/3.44G [00:55<00:11, 44.2MB/s]\u001b[A\u001b[A\n",
            "\n",
            "diffusion_pytorch_model.bin:  85% 2.94G/3.44G [00:55<00:09, 51.9MB/s]\u001b[A\u001b[A\n",
            "\n",
            "diffusion_pytorch_model.bin:  86% 2.95G/3.44G [00:55<00:08, 56.0MB/s]\u001b[A\u001b[A\n",
            "\n",
            "diffusion_pytorch_model.bin:  86% 2.97G/3.44G [00:56<00:07, 59.0MB/s]\u001b[A\u001b[A\n",
            "\n",
            "diffusion_pytorch_model.bin:  87% 2.99G/3.44G [00:56<00:07, 59.1MB/s]\u001b[A\u001b[A\n",
            "\n",
            "diffusion_pytorch_model.bin:  87% 3.00G/3.44G [00:56<00:06, 64.5MB/s]\u001b[A\u001b[A\n",
            "\n",
            "diffusion_pytorch_model.bin:  88% 3.01G/3.44G [00:56<00:06, 68.6MB/s]\u001b[A\u001b[A\n",
            "\n",
            "diffusion_pytorch_model.bin:  88% 3.02G/3.44G [00:56<00:07, 53.8MB/s]\u001b[A\u001b[A\n",
            "\n",
            "diffusion_pytorch_model.bin:  88% 3.04G/3.44G [00:57<00:06, 60.5MB/s]\u001b[A\u001b[A\n",
            "\n",
            "diffusion_pytorch_model.bin:  89% 3.06G/3.44G [00:57<00:05, 73.6MB/s]\u001b[A\u001b[A\n",
            "\n",
            "diffusion_pytorch_model.bin:  89% 3.07G/3.44G [00:57<00:06, 57.2MB/s]\u001b[A\u001b[A\n",
            "\n",
            "diffusion_pytorch_model.bin:  90% 3.09G/3.44G [00:58<00:06, 52.7MB/s]\u001b[A\u001b[A\n",
            "\n",
            "diffusion_pytorch_model.bin:  91% 3.11G/3.44G [00:58<00:04, 65.7MB/s]\u001b[A\u001b[A\n",
            "\n",
            "diffusion_pytorch_model.bin:  91% 3.12G/3.44G [00:58<00:04, 64.0MB/s]\u001b[A\u001b[A\n",
            "\n",
            "diffusion_pytorch_model.bin:  91% 3.15G/3.44G [00:58<00:04, 70.1MB/s]\u001b[A\u001b[A\n",
            "\n",
            "diffusion_pytorch_model.bin:  92% 3.16G/3.44G [00:58<00:03, 70.7MB/s]\u001b[A\u001b[A\n",
            "\n",
            "diffusion_pytorch_model.bin:  92% 3.18G/3.44G [00:59<00:03, 67.0MB/s]\u001b[A\u001b[A\n",
            "\n",
            "diffusion_pytorch_model.bin:  93% 3.20G/3.44G [00:59<00:03, 67.7MB/s]\u001b[A\u001b[A\n",
            "\n",
            "diffusion_pytorch_model.bin:  93% 3.21G/3.44G [00:59<00:03, 72.6MB/s]\u001b[A\u001b[A\n",
            "\n",
            "diffusion_pytorch_model.bin:  94% 3.22G/3.44G [00:59<00:02, 77.5MB/s]\u001b[A\u001b[A\n",
            "\n",
            "diffusion_pytorch_model.bin:  94% 3.23G/3.44G [00:59<00:02, 82.1MB/s]\u001b[A\u001b[A\n",
            "\n",
            "diffusion_pytorch_model.bin:  94% 3.24G/3.44G [00:59<00:02, 86.0MB/s]\u001b[A\u001b[A\n",
            "\n",
            "diffusion_pytorch_model.bin:  95% 3.25G/3.44G [01:00<00:03, 58.7MB/s]\u001b[A\u001b[A\n",
            "\n",
            "diffusion_pytorch_model.bin:  95% 3.27G/3.44G [01:00<00:02, 75.2MB/s]\u001b[A\u001b[A\n",
            "\n",
            "diffusion_pytorch_model.bin:  95% 3.28G/3.44G [01:00<00:02, 62.7MB/s]\u001b[A\u001b[A\n",
            "\n",
            "diffusion_pytorch_model.bin:  96% 3.29G/3.44G [01:00<00:02, 61.6MB/s]\u001b[A\u001b[A\n",
            "\n",
            "diffusion_pytorch_model.bin:  96% 3.30G/3.44G [01:01<00:02, 57.9MB/s]\u001b[A\u001b[A\n",
            "\n",
            "diffusion_pytorch_model.bin:  96% 3.31G/3.44G [01:01<00:01, 63.4MB/s]\u001b[A\u001b[A\n",
            "\n",
            "diffusion_pytorch_model.bin:  97% 3.33G/3.44G [01:01<00:01, 60.3MB/s]\u001b[A\u001b[A\n",
            "\n",
            "diffusion_pytorch_model.bin:  98% 3.36G/3.44G [01:02<00:01, 52.1MB/s]\u001b[A\u001b[A\n",
            "\n",
            "diffusion_pytorch_model.bin:  98% 3.38G/3.44G [01:02<00:00, 65.1MB/s]\u001b[A\u001b[A\n",
            "\n",
            "diffusion_pytorch_model.bin:  99% 3.39G/3.44G [01:02<00:01, 49.5MB/s]\u001b[A\u001b[A\n",
            "\n",
            "diffusion_pytorch_model.bin:  99% 3.41G/3.44G [01:03<00:00, 54.5MB/s]\u001b[A\u001b[A\n",
            "\n",
            "diffusion_pytorch_model.bin: 100% 3.43G/3.44G [01:03<00:00, 66.8MB/s]\u001b[A\u001b[A\n",
            "\n",
            "diffusion_pytorch_model.bin: 100% 3.44G/3.44G [01:03<00:00, 54.2MB/s]\n",
            "Fetching 12 files: 100% 12/12 [01:04<00:00,  5.39s/it]\n",
            "Cannot initialize model with low cpu memory usage because `accelerate` was not found in the environment. Defaulting to `low_cpu_mem_usage=False`. It is strongly recommended to install `accelerate` for faster and less memory-intense model loading. You can do so with: \n",
            "```\n",
            "pip install accelerate\n",
            "```\n",
            ".\n",
            "Loading pipeline components...:  57% 4/7 [00:43<00:29,  9.89s/it]You have passed a non-standard module <function <lambda> at 0x7c3d02b2a290>. We cannot verify whether it has the correct type\n",
            "Loading pipeline components...: 100% 7/7 [00:46<00:00,  6.69s/it]\n",
            "/usr/local/lib/python3.10/dist-packages/diffusers/pipelines/stable_diffusion/pipeline_stable_diffusion.py:182: FutureWarning: The configuration file of this scheduler: DPMSolverMultistepScheduler {\n",
            "  \"_class_name\": \"DPMSolverMultistepScheduler\",\n",
            "  \"_diffusers_version\": \"0.26.1\",\n",
            "  \"algorithm_type\": \"dpmsolver++\",\n",
            "  \"beta_end\": 0.012,\n",
            "  \"beta_schedule\": \"scaled_linear\",\n",
            "  \"beta_start\": 0.00085,\n",
            "  \"clip_sample\": false,\n",
            "  \"dynamic_thresholding_ratio\": 0.995,\n",
            "  \"euler_at_final\": false,\n",
            "  \"final_sigmas_type\": \"zero\",\n",
            "  \"lambda_min_clipped\": -Infinity,\n",
            "  \"lower_order_final\": true,\n",
            "  \"num_train_timesteps\": 1000,\n",
            "  \"prediction_type\": \"epsilon\",\n",
            "  \"sample_max_value\": 1.0,\n",
            "  \"solver_order\": 2,\n",
            "  \"solver_type\": \"midpoint\",\n",
            "  \"steps_offset\": 0,\n",
            "  \"thresholding\": false,\n",
            "  \"timestep_spacing\": \"linspace\",\n",
            "  \"trained_betas\": null,\n",
            "  \"use_karras_sigmas\": false,\n",
            "  \"use_lu_lambdas\": false,\n",
            "  \"variance_type\": null\n",
            "}\n",
            " is outdated. `steps_offset` should be set to 1 instead of 0. Please make sure to update the config accordingly as leaving `steps_offset` might led to incorrect results in future versions. If you have downloaded this checkpoint from the Hugging Face Hub, it would be very nice if you could open a Pull request for the `scheduler/scheduler_config.json` file\n",
            "  deprecate(\"steps_offset!=1\", \"1.0.0\", deprecation_message, standard_warn=False)\n",
            "Traceback (most recent call last):\n",
            "  File \"/content/finetuned_diffusion/app.py\", line 274, in <module>\n",
            "    with gr.Box(visible=False) as custom_model_group:\n",
            "AttributeError: module 'gradio' has no attribute 'Box'\n"
          ]
        }
      ]
    },
    {
      "cell_type": "code",
      "source": [
        "model.save('toxicityh5')"
      ],
      "metadata": {
        "id": "VUSi9Dx6C8ay"
      },
      "execution_count": null,
      "outputs": []
    },
    {
      "cell_type": "code",
      "source": [
        "model=tf.keras.models.load_model('toxicityh5')"
      ],
      "metadata": {
        "id": "no5yv9ieDdwg"
      },
      "execution_count": null,
      "outputs": []
    },
    {
      "cell_type": "code",
      "source": [
        "ip_str=vectorizer(\"hey i hate you!\")"
      ],
      "metadata": {
        "id": "4eqpqGtjEFQ8"
      },
      "execution_count": null,
      "outputs": []
    },
    {
      "cell_type": "code",
      "source": [
        "res=model.predict(np.expand_dims(ip_str,0))"
      ],
      "metadata": {
        "colab": {
          "base_uri": "https://localhost:8080/"
        },
        "id": "isL27F3hEQz-",
        "outputId": "9c5ceefa-a9a7-441c-e9dc-5c417a92c317"
      },
      "execution_count": null,
      "outputs": [
        {
          "output_type": "stream",
          "name": "stdout",
          "text": [
            "1/1 [==============================] - 1s 1s/step\n"
          ]
        }
      ]
    },
    {
      "cell_type": "code",
      "source": [
        "res"
      ],
      "metadata": {
        "colab": {
          "base_uri": "https://localhost:8080/"
        },
        "id": "3_ph5aR_EgZW",
        "outputId": "afc20dff-eb1c-49aa-c7af-ac9d9ab59c22"
      },
      "execution_count": null,
      "outputs": [
        {
          "output_type": "execute_result",
          "data": {
            "text/plain": [
              "array([[0.8711481 , 0.17729062, 0.61073405, 0.07846284, 0.63262904,\n",
              "        0.13546999]], dtype=float32)"
            ]
          },
          "metadata": {},
          "execution_count": 168
        }
      ]
    },
    {
      "cell_type": "code",
      "source": [
        "data.columns[2:-1]"
      ],
      "metadata": {
        "colab": {
          "base_uri": "https://localhost:8080/"
        },
        "id": "uJE4id6yGAgz",
        "outputId": "5daac9fb-1106-4b0c-e993-0c71ab5b809b"
      },
      "execution_count": null,
      "outputs": [
        {
          "output_type": "execute_result",
          "data": {
            "text/plain": [
              "Index(['toxic', 'severe_toxic', 'obscene', 'threat', 'insult'], dtype='object')"
            ]
          },
          "metadata": {},
          "execution_count": 171
        }
      ]
    },
    {
      "cell_type": "code",
      "source": [
        "def score_comment(comment):\n",
        "  vectorized_comment=vectorizer([comment])\n",
        "  results=model.predict(vectorized_comment)\n",
        "\n",
        "  text=''\n",
        "  for idx, col in enumerate(df.columns[2:]):\n",
        "      text+='{}:{}\\n'.format(col,results[0][idx]>0.5)\n",
        "  return text"
      ],
      "metadata": {
        "id": "TEJ_oNB1E39j"
      },
      "execution_count": null,
      "outputs": []
    },
    {
      "cell_type": "code",
      "source": [
        "interface = gr.Interface(fn=score_comment, inputs=gr.inputs.Textbox(lines=2, placeholder='comment to score', outputs='text'))"
      ],
      "metadata": {
        "id": "S5_Av0oBGHyn"
      },
      "execution_count": null,
      "outputs": []
    },
    {
      "cell_type": "code",
      "source": [
        "interface.launch(share=is_colab)"
      ],
      "metadata": {
        "id": "_VD0hxUEHKIH"
      },
      "execution_count": null,
      "outputs": []
    }
  ]
}